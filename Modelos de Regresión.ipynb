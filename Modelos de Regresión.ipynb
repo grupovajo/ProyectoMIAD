{
 "cells": [
  {
   "cell_type": "markdown",
   "id": "39e09128",
   "metadata": {},
   "source": [
    "# Modelo de regresión para la estimación de energías activa y reactiva"
   ]
  },
  {
   "cell_type": "markdown",
   "id": "cc425b34",
   "metadata": {},
   "source": [
    "## Importación de librerías"
   ]
  },
  {
   "cell_type": "code",
   "execution_count": 1,
   "id": "e34de28a",
   "metadata": {},
   "outputs": [
    {
     "name": "stdout",
     "output_type": "stream",
     "text": [
      "WARNING:tensorflow:From C:\\Users\\andsi\\anaconda3\\Lib\\site-packages\\keras\\src\\losses.py:2976: The name tf.losses.sparse_softmax_cross_entropy is deprecated. Please use tf.compat.v1.losses.sparse_softmax_cross_entropy instead.\n",
      "\n"
     ]
    }
   ],
   "source": [
    "import pandas as pd\n",
    "import numpy as np\n",
    "import matplotlib.pyplot as plt\n",
    "from sklearn.model_selection import train_test_split\n",
    "from sklearn.preprocessing import StandardScaler\n",
    "from sklearn.model_selection import cross_val_score\n",
    "from sklearn.ensemble import RandomForestRegressor\n",
    "from xgboost import XGBRegressor\n",
    "from sklearn.metrics import mean_squared_error\n",
    "import sklearn.metrics as metrics\n",
    "import tensorflow as tf\n",
    "from keras.models import Sequential\n",
    "from keras.layers import Dense\n",
    "from itertools import product\n",
    "import plotly.express as px\n",
    "import warnings\n",
    "warnings.filterwarnings('ignore')"
   ]
  },
  {
   "cell_type": "markdown",
   "id": "e470e085",
   "metadata": {},
   "source": [
    "## Cargue de datos"
   ]
  },
  {
   "cell_type": "code",
   "execution_count": 2,
   "id": "38574804",
   "metadata": {},
   "outputs": [
    {
     "data": {
      "text/html": [
       "<div>\n",
       "<style scoped>\n",
       "    .dataframe tbody tr th:only-of-type {\n",
       "        vertical-align: middle;\n",
       "    }\n",
       "\n",
       "    .dataframe tbody tr th {\n",
       "        vertical-align: top;\n",
       "    }\n",
       "\n",
       "    .dataframe thead th {\n",
       "        text-align: right;\n",
       "    }\n",
       "</style>\n",
       "<table border=\"1\" class=\"dataframe\">\n",
       "  <thead>\n",
       "    <tr style=\"text-align: right;\">\n",
       "      <th></th>\n",
       "      <th>Fecha</th>\n",
       "      <th>Active_energy</th>\n",
       "      <th>Reactive_energy</th>\n",
       "      <th>Voltaje_FA</th>\n",
       "      <th>Voltaje_FC</th>\n",
       "      <th>idCliente</th>\n",
       "    </tr>\n",
       "  </thead>\n",
       "  <tbody>\n",
       "    <tr>\n",
       "      <th>0</th>\n",
       "      <td>2021-01-01 00:00:00</td>\n",
       "      <td>0.357841</td>\n",
       "      <td>0.282788</td>\n",
       "      <td>455.139171</td>\n",
       "      <td>510.561002</td>\n",
       "      <td>1</td>\n",
       "    </tr>\n",
       "    <tr>\n",
       "      <th>1</th>\n",
       "      <td>2021-01-01 01:00:00</td>\n",
       "      <td>0.372264</td>\n",
       "      <td>0.431377</td>\n",
       "      <td>469.978787</td>\n",
       "      <td>469.917178</td>\n",
       "      <td>1</td>\n",
       "    </tr>\n",
       "    <tr>\n",
       "      <th>2</th>\n",
       "      <td>2021-01-01 02:00:00</td>\n",
       "      <td>1.044687</td>\n",
       "      <td>0.338626</td>\n",
       "      <td>468.721120</td>\n",
       "      <td>546.949147</td>\n",
       "      <td>1</td>\n",
       "    </tr>\n",
       "    <tr>\n",
       "      <th>3</th>\n",
       "      <td>2021-01-01 03:00:00</td>\n",
       "      <td>0.566425</td>\n",
       "      <td>0.495791</td>\n",
       "      <td>452.329255</td>\n",
       "      <td>444.122989</td>\n",
       "      <td>1</td>\n",
       "    </tr>\n",
       "    <tr>\n",
       "      <th>4</th>\n",
       "      <td>2021-01-01 04:00:00</td>\n",
       "      <td>1.080556</td>\n",
       "      <td>0.472018</td>\n",
       "      <td>513.477596</td>\n",
       "      <td>535.463719</td>\n",
       "      <td>1</td>\n",
       "    </tr>\n",
       "    <tr>\n",
       "      <th>...</th>\n",
       "      <td>...</td>\n",
       "      <td>...</td>\n",
       "      <td>...</td>\n",
       "      <td>...</td>\n",
       "      <td>...</td>\n",
       "      <td>...</td>\n",
       "    </tr>\n",
       "    <tr>\n",
       "      <th>11410</th>\n",
       "      <td>2022-04-21 10:00:00</td>\n",
       "      <td>0.960105</td>\n",
       "      <td>0.473234</td>\n",
       "      <td>1273.150602</td>\n",
       "      <td>1027.084539</td>\n",
       "      <td>30</td>\n",
       "    </tr>\n",
       "    <tr>\n",
       "      <th>11411</th>\n",
       "      <td>2022-04-21 11:00:00</td>\n",
       "      <td>0.624300</td>\n",
       "      <td>0.699936</td>\n",
       "      <td>1063.524968</td>\n",
       "      <td>1205.829819</td>\n",
       "      <td>30</td>\n",
       "    </tr>\n",
       "    <tr>\n",
       "      <th>11412</th>\n",
       "      <td>2022-04-21 12:00:00</td>\n",
       "      <td>0.985633</td>\n",
       "      <td>0.123560</td>\n",
       "      <td>1207.284283</td>\n",
       "      <td>1127.893714</td>\n",
       "      <td>30</td>\n",
       "    </tr>\n",
       "    <tr>\n",
       "      <th>11413</th>\n",
       "      <td>2022-04-21 13:00:00</td>\n",
       "      <td>0.710436</td>\n",
       "      <td>0.399262</td>\n",
       "      <td>1205.012971</td>\n",
       "      <td>1090.835898</td>\n",
       "      <td>30</td>\n",
       "    </tr>\n",
       "    <tr>\n",
       "      <th>11414</th>\n",
       "      <td>2022-04-21 14:00:00</td>\n",
       "      <td>1.169279</td>\n",
       "      <td>0.013737</td>\n",
       "      <td>1145.134963</td>\n",
       "      <td>1129.472067</td>\n",
       "      <td>30</td>\n",
       "    </tr>\n",
       "  </tbody>\n",
       "</table>\n",
       "<p>463425 rows × 6 columns</p>\n",
       "</div>"
      ],
      "text/plain": [
       "                     Fecha  Active_energy  Reactive_energy   Voltaje_FA  \\\n",
       "0      2021-01-01 00:00:00       0.357841         0.282788   455.139171   \n",
       "1      2021-01-01 01:00:00       0.372264         0.431377   469.978787   \n",
       "2      2021-01-01 02:00:00       1.044687         0.338626   468.721120   \n",
       "3      2021-01-01 03:00:00       0.566425         0.495791   452.329255   \n",
       "4      2021-01-01 04:00:00       1.080556         0.472018   513.477596   \n",
       "...                    ...            ...              ...          ...   \n",
       "11410  2022-04-21 10:00:00       0.960105         0.473234  1273.150602   \n",
       "11411  2022-04-21 11:00:00       0.624300         0.699936  1063.524968   \n",
       "11412  2022-04-21 12:00:00       0.985633         0.123560  1207.284283   \n",
       "11413  2022-04-21 13:00:00       0.710436         0.399262  1205.012971   \n",
       "11414  2022-04-21 14:00:00       1.169279         0.013737  1145.134963   \n",
       "\n",
       "        Voltaje_FC  idCliente  \n",
       "0       510.561002          1  \n",
       "1       469.917178          1  \n",
       "2       546.949147          1  \n",
       "3       444.122989          1  \n",
       "4       535.463719          1  \n",
       "...            ...        ...  \n",
       "11410  1027.084539         30  \n",
       "11411  1205.829819         30  \n",
       "11412  1127.893714         30  \n",
       "11413  1090.835898         30  \n",
       "11414  1129.472067         30  \n",
       "\n",
       "[463425 rows x 6 columns]"
      ]
     },
     "execution_count": 2,
     "metadata": {},
     "output_type": "execute_result"
    }
   ],
   "source": [
    "archivos= []\n",
    "rango = range(1, 31, 1)\n",
    "for i in rango:\n",
    "    nombre = 'DATOSCLIENTE' + str(i) + '.csv'\n",
    "    archivos.append(nombre)\n",
    "\n",
    "for i in range(len(archivos)):\n",
    "    url= 'https://raw.githubusercontent.com/Pacheco-Carvajal/GPA-Data-ElectroDunas/main/' + archivos[i]\n",
    "    temp = pd.read_csv(url)\n",
    "    temp['idCliente'] = i + 1\n",
    "    if i == 0:\n",
    "        clientes = temp.copy()\n",
    "    else:\n",
    "        clientes = pd.concat([clientes, temp])\n",
    "clientes"
   ]
  },
  {
   "cell_type": "markdown",
   "id": "926d6fc7",
   "metadata": {},
   "source": [
    "## Depuración de datos"
   ]
  },
  {
   "cell_type": "code",
   "execution_count": 3,
   "id": "d81aeada",
   "metadata": {},
   "outputs": [
    {
     "data": {
      "text/html": [
       "<div>\n",
       "<style scoped>\n",
       "    .dataframe tbody tr th:only-of-type {\n",
       "        vertical-align: middle;\n",
       "    }\n",
       "\n",
       "    .dataframe tbody tr th {\n",
       "        vertical-align: top;\n",
       "    }\n",
       "\n",
       "    .dataframe thead th {\n",
       "        text-align: right;\n",
       "    }\n",
       "</style>\n",
       "<table border=\"1\" class=\"dataframe\">\n",
       "  <thead>\n",
       "    <tr style=\"text-align: right;\">\n",
       "      <th></th>\n",
       "      <th>Fecha</th>\n",
       "      <th>Active_energy</th>\n",
       "      <th>Reactive_energy</th>\n",
       "      <th>Voltaje_FA</th>\n",
       "      <th>Voltaje_FC</th>\n",
       "      <th>idCliente</th>\n",
       "      <th>Dia</th>\n",
       "      <th>Mes</th>\n",
       "      <th>Año</th>\n",
       "      <th>Hora</th>\n",
       "      <th>Minuto</th>\n",
       "      <th>Año_Mes</th>\n",
       "    </tr>\n",
       "  </thead>\n",
       "  <tbody>\n",
       "    <tr>\n",
       "      <th>0</th>\n",
       "      <td>2021-01-01 00:00:00</td>\n",
       "      <td>0.357841</td>\n",
       "      <td>0.282788</td>\n",
       "      <td>455.139171</td>\n",
       "      <td>510.561002</td>\n",
       "      <td>1</td>\n",
       "      <td>1</td>\n",
       "      <td>1</td>\n",
       "      <td>2021</td>\n",
       "      <td>0</td>\n",
       "      <td>0</td>\n",
       "      <td>2021-01</td>\n",
       "    </tr>\n",
       "    <tr>\n",
       "      <th>1</th>\n",
       "      <td>2021-01-01 01:00:00</td>\n",
       "      <td>0.372264</td>\n",
       "      <td>0.431377</td>\n",
       "      <td>469.978787</td>\n",
       "      <td>469.917178</td>\n",
       "      <td>1</td>\n",
       "      <td>1</td>\n",
       "      <td>1</td>\n",
       "      <td>2021</td>\n",
       "      <td>1</td>\n",
       "      <td>0</td>\n",
       "      <td>2021-01</td>\n",
       "    </tr>\n",
       "    <tr>\n",
       "      <th>2</th>\n",
       "      <td>2021-01-01 02:00:00</td>\n",
       "      <td>1.044687</td>\n",
       "      <td>0.338626</td>\n",
       "      <td>468.721120</td>\n",
       "      <td>546.949147</td>\n",
       "      <td>1</td>\n",
       "      <td>1</td>\n",
       "      <td>1</td>\n",
       "      <td>2021</td>\n",
       "      <td>2</td>\n",
       "      <td>0</td>\n",
       "      <td>2021-01</td>\n",
       "    </tr>\n",
       "    <tr>\n",
       "      <th>3</th>\n",
       "      <td>2021-01-01 03:00:00</td>\n",
       "      <td>0.566425</td>\n",
       "      <td>0.495791</td>\n",
       "      <td>452.329255</td>\n",
       "      <td>444.122989</td>\n",
       "      <td>1</td>\n",
       "      <td>1</td>\n",
       "      <td>1</td>\n",
       "      <td>2021</td>\n",
       "      <td>3</td>\n",
       "      <td>0</td>\n",
       "      <td>2021-01</td>\n",
       "    </tr>\n",
       "    <tr>\n",
       "      <th>4</th>\n",
       "      <td>2021-01-01 04:00:00</td>\n",
       "      <td>1.080556</td>\n",
       "      <td>0.472018</td>\n",
       "      <td>513.477596</td>\n",
       "      <td>535.463719</td>\n",
       "      <td>1</td>\n",
       "      <td>1</td>\n",
       "      <td>1</td>\n",
       "      <td>2021</td>\n",
       "      <td>4</td>\n",
       "      <td>0</td>\n",
       "      <td>2021-01</td>\n",
       "    </tr>\n",
       "  </tbody>\n",
       "</table>\n",
       "</div>"
      ],
      "text/plain": [
       "                Fecha  Active_energy  Reactive_energy  Voltaje_FA  Voltaje_FC  \\\n",
       "0 2021-01-01 00:00:00       0.357841         0.282788  455.139171  510.561002   \n",
       "1 2021-01-01 01:00:00       0.372264         0.431377  469.978787  469.917178   \n",
       "2 2021-01-01 02:00:00       1.044687         0.338626  468.721120  546.949147   \n",
       "3 2021-01-01 03:00:00       0.566425         0.495791  452.329255  444.122989   \n",
       "4 2021-01-01 04:00:00       1.080556         0.472018  513.477596  535.463719   \n",
       "\n",
       "   idCliente  Dia  Mes   Año  Hora  Minuto  Año_Mes  \n",
       "0          1    1    1  2021     0       0  2021-01  \n",
       "1          1    1    1  2021     1       0  2021-01  \n",
       "2          1    1    1  2021     2       0  2021-01  \n",
       "3          1    1    1  2021     3       0  2021-01  \n",
       "4          1    1    1  2021     4       0  2021-01  "
      ]
     },
     "execution_count": 3,
     "metadata": {},
     "output_type": "execute_result"
    }
   ],
   "source": [
    "clientes['Fecha'] = pd.to_datetime(clientes['Fecha'])\n",
    "clientes['Dia'] = clientes['Fecha'].dt.day\n",
    "clientes['Mes'] = clientes['Fecha'].dt.month\n",
    "clientes['Año'] = clientes['Fecha'].dt.year\n",
    "clientes['Hora'] = clientes['Fecha'].dt.hour\n",
    "clientes['Minuto'] = clientes['Fecha'].dt.minute\n",
    "clientes['Año_Mes'] = clientes['Fecha'].dt.to_period('M')\n",
    "clientes = clientes[~(clientes['Año_Mes'] == '2023-04')]\n",
    "clientes.head()"
   ]
  },
  {
   "cell_type": "markdown",
   "id": "d8085b89",
   "metadata": {},
   "source": [
    "## Energía Activa"
   ]
  },
  {
   "cell_type": "markdown",
   "id": "7a9ae37b",
   "metadata": {},
   "source": [
    "### Preprocesamiento de datos"
   ]
  },
  {
   "cell_type": "code",
   "execution_count": 4,
   "id": "9020a2c6",
   "metadata": {},
   "outputs": [],
   "source": [
    "np.random.seed(123)\n",
    "\n",
    "datos_active_energy = clientes[['Active_energy', 'idCliente', 'Dia', 'Mes', 'Año', 'Hora', 'Minuto']]\n",
    "\n",
    "X_EA = datos_active_energy.drop('Active_energy', axis=1)\n",
    "y_EA = datos_active_energy['Active_energy']\n",
    "\n",
    "X_train_EA, X_test_EA, y_train_EA, y_test_EA = train_test_split(X_EA, y_EA, test_size=0.2)\n",
    "\n",
    "scaler_EA = StandardScaler()\n",
    "X_train_scaled_EA = scaler_EA.fit_transform(X_train_EA)\n",
    "X_test_scaled_EA = scaler_EA.transform(X_test_EA)"
   ]
  },
  {
   "cell_type": "code",
   "execution_count": null,
   "id": "fcab42fa",
   "metadata": {},
   "outputs": [],
   "source": [
    "lista_RMSE_EA = []"
   ]
  },
  {
   "cell_type": "markdown",
   "id": "7a96e6a2",
   "metadata": {},
   "source": [
    "### Redes Neuronales"
   ]
  },
  {
   "cell_type": "code",
   "execution_count": null,
   "id": "5e085952",
   "metadata": {},
   "outputs": [],
   "source": [
    "np.random.seed(123)\n",
    "tf.random.set_seed(123)\n",
    "\n",
    "def mejor_modelo_nn(X_train_scaled, y_train, X_test_scaled, y_test, num_capas_list, num_neuronas_list, funciones_activacion):\n",
    "    \n",
    "    best_model = None\n",
    "    best_params = {}\n",
    "    best_rmse = float('inf')  # Inicializamos con infinito para encontrar el mínimo\n",
    "    \n",
    "    for num_capas in num_capas_list:\n",
    "        for num_neuronas in num_neuronas_list:\n",
    "            for fun_activacion in funciones_activacion:\n",
    "                print('Modelo entrenado con los siguientes parámetros:')\n",
    "                print(f'{num_capas} capas, {num_neuronas} neuronas por capa y función de activación {fun_activacion}')\n",
    "                \n",
    "                # Crear modelo\n",
    "                model = Sequential()\n",
    "                model.add(Dense(num_neuronas, input_dim=X_train_scaled.shape[1], activation=fun_activacion))\n",
    "                for _ in range(num_capas - 1):\n",
    "                    model.add(Dense(num_neuronas, activation=fun_activacion))\n",
    "                model.add(Dense(1))\n",
    "                \n",
    "                # Compilar modelo\n",
    "                model.compile(optimizer='adam', loss='mean_squared_error')\n",
    "                \n",
    "                # Entrenar modelo\n",
    "                model.fit(X_train_scaled, y_train, epochs=10, batch_size=32, verbose=0)\n",
    "                \n",
    "                # Evaluar modelo\n",
    "                y_pred = model.predict(X_test_scaled)\n",
    "                rmse = round(np.sqrt(mean_squared_error(y_test, y_pred)), 2)\n",
    "                \n",
    "                print(f'RMSE: {rmse}')\n",
    "                \n",
    "                # Actualizar el mejor modelo si corresponde\n",
    "                if rmse < best_rmse:\n",
    "                    best_model = model\n",
    "                    best_params = {'num_capas': num_capas, 'num_neuronas': num_neuronas, 'fun_activacion': fun_activacion}\n",
    "                    best_rmse = rmse\n",
    "    \n",
    "    print('Mejores parámetros:')\n",
    "    print(best_params)\n",
    "    print('\\nMejor RMSE:', best_rmse)\n",
    "    \n",
    "    return best_model, best_params\n",
    "\n",
    "# Definición de hiperparámetros\n",
    "num_capas_list = [1, 2, 3]\n",
    "num_neuronas_list = [32, 64, 128]\n",
    "funciones_activacion = ['relu', 'sigmoid']\n",
    "\n",
    "# Selección del mejor modelo y parámetros\n",
    "best_model_EA, best_params_EA = mejor_modelo_nn(\n",
    "    X_train_scaled_EA, y_train_EA, X_test_scaled_EA, y_test_EA, num_capas_list, num_neuronas_list, funciones_activacion)"
   ]
  },
  {
   "cell_type": "markdown",
   "id": "33a18a24",
   "metadata": {},
   "source": [
    "#### Evaluación del mejor del modelo"
   ]
  },
  {
   "cell_type": "code",
   "execution_count": 6,
   "id": "0606cae6",
   "metadata": {},
   "outputs": [
    {
     "name": "stdout",
     "output_type": "stream",
     "text": [
      "2897/2897 [==============================] - 3s 928us/step\n",
      "El RMSE del modelo es de 0.74\n"
     ]
    }
   ],
   "source": [
    "np.random.seed(123)\n",
    "tf.random.set_seed(123)\n",
    "\n",
    "# Creación del modelo\n",
    "model_NN_EA = Sequential()\n",
    "model_NN_EA.add(Dense(best_params_EA['num_neuronas'],\n",
    "                      input_dim=X_train_scaled_EA.shape[1],\n",
    "                      activation=best_params_EA['fun_activacion']))\n",
    "for _ in range(best_params_EA['num_capas'] - 1):\n",
    "    model_NN_EA.add(Dense(best_params_EA['num_neuronas'], activation=best_params_EA['fun_activacion']))\n",
    "model_NN_EA.add(Dense(1))\n",
    "\n",
    "# Compilación del modelo\n",
    "model_NN_EA.compile(optimizer='adam', loss='mean_squared_error')\n",
    "\n",
    "# Entrenamiento del modelo\n",
    "model_NN_EA.fit(X_train_scaled_EA, y_train_EA, epochs=10, batch_size=32, verbose=0)\n",
    "\n",
    "# Evaluación del modelo\n",
    "y_pred_EA = model_NN_EA.predict(X_test_scaled_EA)\n",
    "\n",
    "# Cálculo del desempeño del modelo utilizando el RMSE\n",
    "RMSE_NN_EA = round(np.sqrt(mean_squared_error(y_test_EA, y_pred_EA)), 2)\n",
    "print(f'El RMSE del modelo es de {RMSE_NN_EA}')\n",
    "\n",
    "# Se guardan los valores del RMSE\n",
    "lista_RMSE_EA.append(RMSE_NN_EA)"
   ]
  },
  {
   "cell_type": "markdown",
   "id": "998eeb82",
   "metadata": {},
   "source": [
    "### Random Forest"
   ]
  },
  {
   "cell_type": "markdown",
   "id": "597232a0",
   "metadata": {},
   "source": [
    "#### Parámetro *max_depth*"
   ]
  },
  {
   "cell_type": "code",
   "execution_count": null,
   "id": "3aafad12",
   "metadata": {},
   "outputs": [],
   "source": [
    "np.random.seed(123)\n",
    "\n",
    "# Creación de lista para iterar sobre diferentes valores de max_depth\n",
    "RF_max_depth_range_EA = range(1, 21)\n",
    "\n",
    "# Definición de lista para almacenar el RMSE promedio de cada valor de max_depth\n",
    "RMSE_RF_max_depth_EA = []\n",
    "\n",
    "# Uso de un 5-fold cross-validation para cada valor de max_depth\n",
    "for max_depth in RF_max_depth_range_EA:\n",
    "    reg_EA = RandomForestRegressor(n_jobs = -1,\n",
    "                                   max_depth = max_depth)\n",
    "    RMSE_RF_max_depth_EA.append(np.mean(np.sqrt(np.abs(\n",
    "        cross_val_score(reg_EA, X_train_scaled_EA, y_train_EA, cv = 5, scoring = 'neg_mean_squared_error')))))\n",
    "\n",
    "# Gráfica del desempeño del modelo para cada valor definido de max_depth\n",
    "plt.plot(RF_max_depth_range_EA, RMSE_RF_max_depth_EA)\n",
    "plt.xlabel('max_depth')\n",
    "plt.ylabel('RMSE')\n",
    "\n",
    "# Parámetro max_depth que mejor calibra el modelo\n",
    "best_RF_max_depth_EA = RF_max_depth_range_EA[RMSE_RF_max_depth_EA.index(\n",
    "    min(RMSE_RF_max_depth_EA))]\n",
    "print(f'El parámetro max_depth que mejor calibra el modelo es {best_RF_max_depth_EA}')"
   ]
  },
  {
   "cell_type": "markdown",
   "id": "16fdfb5f",
   "metadata": {},
   "source": [
    "#### Parámetro *n_estimators*"
   ]
  },
  {
   "cell_type": "code",
   "execution_count": null,
   "id": "f01c5e1a",
   "metadata": {},
   "outputs": [],
   "source": [
    "np.random.seed(123)\n",
    "\n",
    "# Creación de lista para iterar sobre diferentes valores de n_estimators\n",
    "RF_n_estimators_range_EA = range(10, 510, 50)\n",
    "\n",
    "# Definición de lista para almacenar el RMSE promedio de cada valor de n_estimators\n",
    "RMSE_RF_n_estimators_EA = []\n",
    "\n",
    "# Uso de un 5-fold cross-validation para cada valor de n_estimators\n",
    "for n_estimators in RF_n_estimators_range_EA:\n",
    "    reg_EA = RandomForestRegressor(n_jobs = -1,\n",
    "                                   max_depth = best_RF_max_depth_EA,\n",
    "                                   n_estimators = n_estimators)\n",
    "    RMSE_RF_n_estimators_EA.append(np.mean(np.sqrt(np.abs(\n",
    "        cross_val_score(reg_EA, X_train_scaled_EA, y_train_EA, cv = 5, scoring = 'neg_mean_squared_error')))))\n",
    "\n",
    "# Gráfica del desempeño del modelo para cada valor definido de n_estimators\n",
    "plt.plot(RF_n_estimators_range_EA, RMSE_RF_n_estimators_EA)\n",
    "plt.xlabel('n_estimators')\n",
    "plt.ylabel('RMSE')\n",
    "\n",
    "# Parámetro n_estimators que mejor calibra el modelo\n",
    "best_RF_n_estimators_EA = RF_n_estimators_range_EA[RMSE_RF_n_estimators_EA.index(\n",
    "    min(RMSE_RF_n_estimators_EA))]\n",
    "print(f'El parámetro n_estimators que mejor calibra el modelo es {best_RF_n_estimators_EA}')"
   ]
  },
  {
   "cell_type": "markdown",
   "id": "37164762",
   "metadata": {},
   "source": [
    "#### Parámetro *min_samples_leaf*"
   ]
  },
  {
   "cell_type": "code",
   "execution_count": null,
   "id": "d59b0fd8",
   "metadata": {},
   "outputs": [],
   "source": [
    "np.random.seed(123)\n",
    "\n",
    "# Creación de lista para iterar sobre diferentes valores de min_samples_leaf\n",
    "RF_min_samples_leaf_range_EA = range(1, 21)\n",
    "\n",
    "# Definición de lista para almacenar el RMSE promedio de cada valor de min_samples_leaf\n",
    "RMSE_RF_min_samples_leaf_EA = []\n",
    "\n",
    "# Uso de un 5-fold cross-validation para cada valor de min_samples_leaf\n",
    "for min_samples_leaf in RF_min_samples_leaf_range_EA:\n",
    "    reg_EA = RandomForestRegressor(n_jobs = -1,\n",
    "                                   max_depth = best_RF_max_depth_EA,\n",
    "                                   n_estimators = best_RF_n_estimators_EA,\n",
    "                                   min_samples_leaf = min_samples_leaf)\n",
    "    RMSE_RF_min_samples_leaf_EA.append(np.mean(np.sqrt(np.abs(\n",
    "        cross_val_score(reg_EA, X_train_scaled_EA, y_train_EA, cv = 5, scoring = 'neg_mean_squared_error')))))\n",
    "\n",
    "# Gráfica del desempeño del modelo para cada valor definido de min_samples_leaf\n",
    "plt.plot(RF_min_samples_leaf_range_EA, RMSE_RF_min_samples_leaf_EA)\n",
    "plt.xlabel('min_samples_leaf')\n",
    "plt.ylabel('MAE')\n",
    "\n",
    "# Parámetro min_samples_leaf que mejor calibra el modelo\n",
    "best_RF_min_samples_leaf_EA = RF_min_samples_leaf_range_EA[RMSE_RF_min_samples_leaf_EA.index(\n",
    "    min(RMSE_RF_min_samples_leaf_EA))]\n",
    "print(f'El parámetro min_samples_leaf que mejor calibra el modelo es {best_RF_min_samples_leaf_EA}')"
   ]
  },
  {
   "cell_type": "markdown",
   "id": "9e95c1ba",
   "metadata": {},
   "source": [
    "#### Parámetro *min_samples_split*"
   ]
  },
  {
   "cell_type": "code",
   "execution_count": null,
   "id": "2b282f98",
   "metadata": {},
   "outputs": [],
   "source": [
    "np.random.seed(123)\n",
    "\n",
    "# Creación de lista para iterar sobre diferentes valores de min_samples_split\n",
    "RF_min_samples_split_range_EA = range(2, 21)\n",
    "\n",
    "# Definición de lista para almacenar el RMSE promedio de cada valor de min_samples_split\n",
    "RMSE_RF_min_samples_split_EA = []\n",
    "\n",
    "# Uso de un 5-fold cross-validation para cada valor de min_samples_split\n",
    "for min_samples_split in RF_min_samples_split_range_EA:\n",
    "    reg_EA = RandomForestRegressor(n_jobs = -1,\n",
    "                                   max_depth = best_RF_max_depth_EA,\n",
    "                                   n_estimators = best_RF_n_estimators_EA,\n",
    "                                   min_samples_leaf = best_RF_min_samples_leaf_EA,\n",
    "                                   min_samples_split = min_samples_split)\n",
    "    RMSE_RF_min_samples_split_EA.append(np.mean(np.sqrt(np.abs(\n",
    "        cross_val_score(reg_EA, X_train_scaled_EA, y_train_EA, cv = 5, scoring = 'neg_mean_squared_error')))))\n",
    "\n",
    "# Gráfica del desempeño del modelo para cada valor definido de min_samples_split\n",
    "plt.plot(RF_min_samples_split_range_EA, RMSE_RF_min_samples_split_EA)\n",
    "plt.xlabel('min_samples_split')\n",
    "plt.ylabel('RMSE')\n",
    "\n",
    "# Parámetro min_samples_split que mejor calibra el modelo\n",
    "best_RF_min_samples_split_EA = RF_min_samples_split_range_EA[RMSE_RF_min_samples_split_EA.index(\n",
    "    min(RMSE_RF_min_samples_split_EA))]\n",
    "print(f'El parámetro min_samples_split que mejor calibra el modelo es {best_RF_min_samples_split_EA}')"
   ]
  },
  {
   "cell_type": "markdown",
   "id": "39e27d55",
   "metadata": {},
   "source": [
    "#### Evaluación del mejor del modelo"
   ]
  },
  {
   "cell_type": "code",
   "execution_count": null,
   "id": "50105311",
   "metadata": {},
   "outputs": [],
   "source": [
    "np.random.seed(123)\n",
    "\n",
    "# Implementación y ajuste del modelo de regresión de Random Forest calibrado con el set de train \n",
    "RF_reg_EA = RandomForestRegressor(n_jobs = -1,\n",
    "                                  max_depth = best_RF_max_depth_EA,\n",
    "                                  n_estimators = best_RF_n_estimators_EA,\n",
    "                                  min_samples_leaf = best_RF_min_samples_leaf_EA,\n",
    "                                  min_samples_split = best_RF_min_samples_split_EA).fit(X_train_scaled_EA, y_train_EA)\n",
    "\n",
    "# Predicción con el set de test\n",
    "y_pred_EA = RF_reg_EA.predict(X_test_EA)\n",
    "\n",
    "# Cálculo del desempeño del modelo utilizando el RMSE\n",
    "RMSE_RF_EA = round(metrics.mean_squared_error(y_pred_EA, y_test_EA, squared = False), 2)\n",
    "print(f'El RMSE del modelo es de {RMSE_RF_EA}')\n",
    "\n",
    "# Se guardan los valores del RMSE\n",
    "lista_RMSE_EA.append(RMSE_RF_EA)"
   ]
  },
  {
   "cell_type": "markdown",
   "id": "1e4f3e24",
   "metadata": {},
   "source": [
    "### XGBoost"
   ]
  },
  {
   "cell_type": "markdown",
   "id": "9ba82c93",
   "metadata": {},
   "source": [
    "#### Parámetro *max_depth*"
   ]
  },
  {
   "cell_type": "code",
   "execution_count": null,
   "id": "8c5626f0",
   "metadata": {},
   "outputs": [],
   "source": [
    "np.random.seed(123)\n",
    "\n",
    "# Creación de lista para iterar sobre diferentes valores de max_depth\n",
    "XGB_max_depth_range_EA = range(1, 21)\n",
    "\n",
    "# Definición de lista para almacenar el RMSE promedio de cada valor de max_depth\n",
    "RMSE_XGB_max_depth_EA = []\n",
    "\n",
    "# Uso de un 5-fold cross-validation para cada valor de max_depth\n",
    "for max_depth in XGB_max_depth_range_EA:\n",
    "    reg_EA = XGBRegressor(n_jobs = -1,\n",
    "                          max_depth = max_depth)\n",
    "    RMSE_XGB_max_depth_EA.append(np.mean(np.sqrt(np.abs(\n",
    "        cross_val_score(reg_EA, X_train_scaled_EA, y_train_EA, cv = 5, scoring = 'neg_mean_squared_error')))))\n",
    "\n",
    "# Gráfica del desempeño del modelo para cada valor definido de max_depth\n",
    "plt.plot(XGB_max_depth_range_EA, RMSE_XGB_max_depth_EA)\n",
    "plt.xlabel('max_depth')\n",
    "plt.ylabel('RMSE')\n",
    "\n",
    "# Parámetro max_depth que mejor calibra el modelo\n",
    "XGB_best_max_depth_EA = XGB_max_depth_range_EA[RMSE_XGB_max_depth_EA.index(\n",
    "    min(RMSE_XGB_max_depth_EA))]\n",
    "print(f'El parámetro max_depth que mejor calibra el modelo es {XGB_best_max_depth_EA}')"
   ]
  },
  {
   "cell_type": "markdown",
   "id": "cf9f223f",
   "metadata": {},
   "source": [
    "#### Parámetro *learning_rate*"
   ]
  },
  {
   "cell_type": "code",
   "execution_count": null,
   "id": "4f21dba3",
   "metadata": {},
   "outputs": [],
   "source": [
    "np.random.seed(123)\n",
    "\n",
    "# Creación de lista para iterar sobre diferentes valores de learning_rate\n",
    "XGB_learning_rate_range_EA = np.arange(0.1, 1, 0.1)\n",
    "\n",
    "# Definición de lista para almacenar el RMSE promedio de cada valor de learning_rate\n",
    "RMSE_XGB_learning_rate_EA = []\n",
    "\n",
    "# Uso de un 5-fold cross-validation para cada valor de learning_rate\n",
    "for learning_rate in XGB_learning_rate_range_EA:\n",
    "    reg_EA = XGBRegressor(n_jobs = -1,\n",
    "                          max_depth = XGB_best_max_depth_EA,\n",
    "                          learning_rate = learning_rate)\n",
    "    RMSE_XGB_learning_rate_EA.append(np.mean(np.sqrt(np.abs(\n",
    "        cross_val_score(reg_EA, X_train_scaled_EA, y_train_EA, cv = 5, scoring = 'neg_mean_squared_error')))))\n",
    "\n",
    "# Gráfica del desempeño del modelo para cada valor definido de learning_rate\n",
    "plt.plot(XGB_learning_rate_range_EA, RMSE_XGB_learning_rate_EA)\n",
    "plt.xlabel('learning_rate')\n",
    "plt.ylabel('RMSE')\n",
    "\n",
    "# Parámetro learning_rate que mejor calibra el modelo\n",
    "XGB_best_learning_rate_EA = XGB_learning_rate_range_EA[RMSE_XGB_learning_rate_EA.index(\n",
    "    min(RMSE_XGB_learning_rate_EA))]\n",
    "print(f'El parámetro learning_rate que mejor calibra el modelo es {XGB_best_learning_rate_EA}')"
   ]
  },
  {
   "cell_type": "markdown",
   "id": "e6b35e2c",
   "metadata": {},
   "source": [
    "#### Parámetro *n_estimators*"
   ]
  },
  {
   "cell_type": "code",
   "execution_count": null,
   "id": "1d2baba6",
   "metadata": {},
   "outputs": [],
   "source": [
    "np.random.seed(123)\n",
    "\n",
    "# Creación de lista para iterar sobre diferentes valores de n_estimators\n",
    "XGB_n_estimators_range_EA = range(10, 510, 50)\n",
    "\n",
    "# Definición de lista para almacenar el RMSE promedio de cada valor de n_estimators\n",
    "RMSE_XGB_n_estimators_EA = []\n",
    "\n",
    "# Uso de un 5-fold cross-validation para cada valor de n_estimators\n",
    "for n_estimators in XGB_n_estimators_range_EA:\n",
    "    reg_EA = XGBRegressor(n_jobs = -1,\n",
    "                          max_depth = XGB_best_max_depth_EA,\n",
    "                          learning_rate = XGB_best_learning_rate_EA,\n",
    "                          n_estimators = n_estimators)\n",
    "    RMSE_XGB_n_estimators_EA.append(np.mean(np.sqrt(np.abs(\n",
    "        cross_val_score(reg_EA, X_train_scaled_EA, y_train_EA, cv = 5, scoring = 'neg_mean_squared_error')))))\n",
    "\n",
    "# Gráfica del desempeño del modelo para cada valor definido de n_estimators\n",
    "plt.plot(XGB_n_estimators_range_EA, RMSE_XGB_n_estimators_EA)\n",
    "plt.xlabel('n_estimators')\n",
    "plt.ylabel('RMSE')\n",
    "\n",
    "# Parámetro n_estimators que mejor calibra el modelo\n",
    "XGB_best_n_estimators_EA = XGB_n_estimators_range_EA[RMSE_XGB_n_estimators_EA.index(\n",
    "    min(RMSE_XGB_n_estimators_EA))]\n",
    "print(f'El parámetro n_estimators que mejor calibra el modelo es {XGB_best_n_estimators_EA}')"
   ]
  },
  {
   "cell_type": "markdown",
   "id": "74ff47c5",
   "metadata": {},
   "source": [
    "#### Parámeetro *gamma*"
   ]
  },
  {
   "cell_type": "code",
   "execution_count": null,
   "id": "e9453db7",
   "metadata": {},
   "outputs": [],
   "source": [
    "np.random.seed(123)\n",
    "\n",
    "# Creación de lista para iterar sobre diferentes valores de gamma\n",
    "XGB_gamma_range_EA = range(0, 501, 50)\n",
    "\n",
    "# Definición de lista para almacenar el RMSE promedio de cada valor de gamma\n",
    "RMSE_XGB_gamma_EA = []\n",
    "\n",
    "# Uso de un 5-fold cross-validation para cada valor de gamma\n",
    "for gamma in XGB_gamma_range_EA:\n",
    "    reg_EA = XGBRegressor(n_jobs = -1,\n",
    "                          max_depth = XGB_best_max_depth_EA,\n",
    "                          learning_rate = XGB_best_learning_rate_EA,\n",
    "                          n_estimators = XGB_best_n_estimators_EA,\n",
    "                          gamma = gamma)\n",
    "    RMSE_XGB_gamma_EA.append(np.mean(np.sqrt(np.abs(\n",
    "        cross_val_score(reg_EA, X_train_scaled_EA, y_train_EA, cv = 5, scoring = 'neg_mean_squared_error')))))\n",
    "\n",
    "# Gráfica del desempeño del modelo para cada valor definido de gamma\n",
    "plt.plot(XGB_gamma_range_EA, RMSE_XGB_gamma_EA)\n",
    "plt.xlabel('gamma')\n",
    "plt.ylabel('RMSE')\n",
    "\n",
    "# Parámetro gamma que mejor calibra el modelo\n",
    "XGB_best_gamma_EA = XGB_gamma_range_EA[RMSE_XGB_gamma_EA.index(\n",
    "    min(RMSE_XGB_gamma_EA))]\n",
    "print(f'El parámetro gamma que mejor calibra el modelo es {XGB_best_gamma_EA}')"
   ]
  },
  {
   "cell_type": "markdown",
   "id": "3b98d4f0",
   "metadata": {},
   "source": [
    "#### Parámetro *colsample_bytree*"
   ]
  },
  {
   "cell_type": "code",
   "execution_count": null,
   "id": "6b805aac",
   "metadata": {},
   "outputs": [],
   "source": [
    "np.random.seed(123)\n",
    "\n",
    "# Creación de lista para iterar sobre diferentes valores de colsample_bytree\n",
    "XGB_colsample_bytree_range_EA = np.arange(0.1, 1, 0.1)\n",
    "\n",
    "# Definición de lista para almacenar el RMSE promedio de cada valor de colsample_bytree\n",
    "RMSE_XGB_colsample_bytree_EA = []\n",
    "\n",
    "# Uso de un 5-fold cross-validation para cada valor de colsample_bytree\n",
    "for colsample_bytree in XGB_colsample_bytree_range_EA:\n",
    "    reg_EA = XGBRegressor(n_jobs = -1,\n",
    "                          max_depth = XGB_best_max_depth_EA,\n",
    "                          learning_rate = XGB_best_learning_rate_EA,\n",
    "                          n_estimators = XGB_best_n_estimators_EA,\n",
    "                          gamma = XGB_best_gamma_EA,\n",
    "                          colsample_bytree = colsample_bytree)\n",
    "    RMSE_XGB_colsample_bytree_EA.append(np.mean(np.sqrt(np.abs(\n",
    "        cross_val_score(reg_EA, X_train_scaled_EA, y_train_EA, cv = 5, scoring = 'neg_mean_squared_error')))))\n",
    "\n",
    "# Gráfica del desempeño del modelo para cada valor definido de colsample_bytree\n",
    "plt.plot(XGB_colsample_bytree_range_EA, RMSE_XGB_colsample_bytree_EA)\n",
    "plt.xlabel('colsample_bytree')\n",
    "plt.ylabel('RMSE')\n",
    "\n",
    "# Parámetro colsample_bytree que mejor calibra el modelo\n",
    "XGB_best_colsample_bytree_EA = XGB_colsample_bytree_range_EA[RMSE_XGB_colsample_bytree_EA.index(\n",
    "    min(RMSE_XGB_colsample_bytree_EA))]\n",
    "print(f'El parámetro colsample_bytree que mejor calibra el modelo es {XGB_best_colsample_bytree_EA}')"
   ]
  },
  {
   "cell_type": "markdown",
   "id": "90711cf5",
   "metadata": {},
   "source": [
    "#### Evaluación del mejor del modelo"
   ]
  },
  {
   "cell_type": "code",
   "execution_count": null,
   "id": "c0030444",
   "metadata": {},
   "outputs": [],
   "source": [
    "np.random.seed(123)\n",
    "\n",
    "# Implementación y ajuste del modelo de regresión de XGBoost calibrado con el set de train \n",
    "XGB_reg_EA = XGBRegressor(n_jobs = -1,\n",
    "                          max_depth = XGB_best_max_depth_EA,\n",
    "                          learning_rate = XGB_best_learning_rate_EA,\n",
    "                          n_estimators = XGB_best_n_estimators_EA,\n",
    "                          gamma = XGB_best_gamma_EA,\n",
    "                          colsample_bytree = XGB_best_colsample_bytree_EA).fit(X_train_scaled_EA, y_train_EA)\n",
    "\n",
    "# Predicción con el set de test\n",
    "y_pred_EA = XGB_reg_EA.predict(X_test_EA)\n",
    "\n",
    "# Cálculo del desempeño del modelo utilizando el RMSE y el MAE\n",
    "RMSE_XGB_EA = round(metrics.mean_squared_error(y_pred_EA, y_test_EA, squared = False), 2)\n",
    "print(f'El RMSE del modelo es de {RMSE_XGB_EA}')\n",
    "\n",
    "# Se guardan los valores del RMSE\n",
    "lista_RMSE_EA.append(RMSE_XGB_EA)"
   ]
  },
  {
   "cell_type": "markdown",
   "id": "485a0c6b",
   "metadata": {},
   "source": [
    "### Comparación de modelos para la estimación de energía activa"
   ]
  },
  {
   "cell_type": "code",
   "execution_count": null,
   "id": "47808d9a",
   "metadata": {},
   "outputs": [],
   "source": [
    "df_RMSE_EA = pd.DataFrame(pd.DataFrame({'Modelo': ['Redes Neuronales', 'Random Forest', 'XGBoost',], 'RMSE': lista_RMSE_EA}))\n",
    "ax_RMSE_EA = df_RMSE_EA.plot.bar(\n",
    "    x ='Modelo', y = 'RMSE', rot = 0, figsize = (10, 5), legend = False, xlabel = '', title = 'RMSE Enegía Activa')\n",
    "for container in ax_RMSE_EA.containers:\n",
    "    ax_RMSE_EA.bar_label(container)"
   ]
  },
  {
   "cell_type": "markdown",
   "id": "1cb679bf",
   "metadata": {},
   "source": [
    "## Energía Reactiva"
   ]
  },
  {
   "cell_type": "code",
   "execution_count": 8,
   "id": "9f0d00c8",
   "metadata": {},
   "outputs": [],
   "source": [
    "np.random.seed(123)\n",
    "\n",
    "datos_reactive_energy = clientes[['Reactive_energy', 'idCliente', 'Dia', 'Mes', 'Año', 'Hora', 'Minuto']]\n",
    "\n",
    "X_ER = datos_reactive_energy.drop('Reactive_energy', axis=1)\n",
    "y_ER = datos_reactive_energy['Reactive_energy']\n",
    "\n",
    "X_train_ER, X_test_ER, y_train_ER, y_test_ER = train_test_split(X_ER, y_ER, test_size=0.2)\n",
    "\n",
    "scaler_ER = StandardScaler()\n",
    "X_train_scaled_ER = scaler_ER.fit_transform(X_train_ER)\n",
    "X_test_scaled_ER = scaler_ER.transform(X_test_ER)"
   ]
  },
  {
   "cell_type": "code",
   "execution_count": null,
   "id": "24582e52",
   "metadata": {},
   "outputs": [],
   "source": [
    "lista_RMSE_ER = []"
   ]
  },
  {
   "cell_type": "markdown",
   "id": "c88914ef",
   "metadata": {},
   "source": [
    "### Redes Neuronales"
   ]
  },
  {
   "cell_type": "code",
   "execution_count": null,
   "id": "95958c95",
   "metadata": {},
   "outputs": [],
   "source": [
    "np.random.seed(123)\n",
    "\n",
    "def mejor_modelo_nn(X_train_scaled, y_train, X_test_scaled, y_test, num_capas_list, num_neuronas_list, funciones_activacion):\n",
    "    \n",
    "    best_model = None\n",
    "    best_params = {}\n",
    "    best_rmse = float('inf')  # Inicializamos con infinito para encontrar el mínimo\n",
    "    \n",
    "    for num_capas in num_capas_list:\n",
    "        for num_neuronas in num_neuronas_list:\n",
    "            for fun_activacion in funciones_activacion:\n",
    "                print('Modelo entrenado con los siguientes parámetros:')\n",
    "                print(f'{num_capas} capas, {num_neuronas} neuronas por capa y función de activación {fun_activacion}')\n",
    "                \n",
    "                # Crear modelo\n",
    "                model = Sequential()\n",
    "                model.add(Dense(num_neuronas, input_dim=X_train_scaled.shape[1], activation=fun_activacion))\n",
    "                for _ in range(num_capas - 1):\n",
    "                    model.add(Dense(num_neuronas, activation=fun_activacion))\n",
    "                model.add(Dense(1))\n",
    "                \n",
    "                # Compilar modelo\n",
    "                model.compile(optimizer='adam', loss='mean_squared_error')\n",
    "                \n",
    "                # Entrenar modelo\n",
    "                model.fit(X_train_scaled, y_train, epochs=10, batch_size=32, verbose=0)\n",
    "                \n",
    "                # Evaluar modelo\n",
    "                y_pred = model.predict(X_test_scaled)\n",
    "                rmse = round(np.sqrt(mean_squared_error(y_test, y_pred)), 2)\n",
    "                \n",
    "                print(f'RMSE: {rmse}')\n",
    "                \n",
    "                # Actualizar el mejor modelo si corresponde\n",
    "                if rmse < best_rmse:\n",
    "                    best_model = model\n",
    "                    best_params = {'num_capas': num_capas, 'num_neuronas': num_neuronas, 'fun_activacion': fun_activacion}\n",
    "                    best_rmse = rmse\n",
    "    \n",
    "    print('Mejores parámetros:')\n",
    "    print(best_params)\n",
    "    print('\\nMejor RMSE:', best_rmse)\n",
    "    \n",
    "    return best_model, best_params\n",
    "\n",
    "# Definición de hiperparámetros\n",
    "num_capas_list = [1, 2, 3]\n",
    "num_neuronas_list = [32, 64, 128]\n",
    "funciones_activacion = ['relu', 'sigmoid']\n",
    "\n",
    "# Selección del mejor modelo y parámetros\n",
    "best_model_ER, best_params_ER = mejor_modelo_nn(\n",
    "    X_train_scaled_ER, y_train_ER, X_test_scaled_ER, y_test_ER, num_capas_list, num_neuronas_list, funciones_activacion)"
   ]
  },
  {
   "cell_type": "markdown",
   "id": "d68f2267",
   "metadata": {},
   "source": [
    "#### Evaluación del mejor del modelo"
   ]
  },
  {
   "cell_type": "code",
   "execution_count": 9,
   "id": "175ff81c",
   "metadata": {},
   "outputs": [
    {
     "name": "stdout",
     "output_type": "stream",
     "text": [
      "2897/2897 [==============================] - 3s 986us/step\n",
      "El RMSE del modelo es de 0.67\n"
     ]
    }
   ],
   "source": [
    "np.random.seed(123)\n",
    "\n",
    "# Creación del modelo\n",
    "model_NN_ER = Sequential()\n",
    "model_NN_ER.add(Dense(128,\n",
    "                      input_dim=X_train_scaled_ER.shape[1],\n",
    "                      activation='relu'))\n",
    "for _ in range(3 - 1):\n",
    "    model_NN_ER.add(Dense(128, activation='relu'))\n",
    "    model_NN_ER.add(Dense(1))\n",
    "                \n",
    "# Compilación del modelo\n",
    "model_NN_ER.compile(optimizer='adam', loss='mean_squared_error')\n",
    "                \n",
    "# Entrenamiento del modelo\n",
    "model_NN_ER.fit(X_train_scaled_ER, y_train_ER, epochs=10, batch_size=32, verbose=0)\n",
    "                \n",
    "# Evaluación del modelo\n",
    "y_pred_ER = model_NN_ER.predict(X_test_scaled_ER)\n",
    "\n",
    "# Cálculo del desempeño del modelo utilizando el RMSE\n",
    "RMSE_NN_ER = round(np.sqrt(mean_squared_error(y_test_ER, y_pred_ER)), 2)\n",
    "print(f'El RMSE del modelo es de {RMSE_NN_ER}')\n",
    "\n",
    "# Se guardan los valores del RMSE\n",
    "# lista_RMSE_ER.append(RMSE_NN_ER)"
   ]
  },
  {
   "cell_type": "markdown",
   "id": "502d0122",
   "metadata": {},
   "source": [
    "### Random Forest"
   ]
  },
  {
   "cell_type": "markdown",
   "id": "712adfdf",
   "metadata": {},
   "source": [
    "#### Parámetro *max_depth*"
   ]
  },
  {
   "cell_type": "code",
   "execution_count": null,
   "id": "c210f1ac",
   "metadata": {},
   "outputs": [],
   "source": [
    "np.random.seed(123)\n",
    "\n",
    "# Creación de lista para iterar sobre diferentes valores de max_depth\n",
    "RF_max_depth_range_ER = range(1, 21)\n",
    "\n",
    "# Definición de lista para almacenar el RMSE promedio de cada valor de max_depth\n",
    "RMSE_RF_max_depth_ER = []\n",
    "\n",
    "# Uso de un 5-fold cross-validation para cada valor de max_depth\n",
    "for max_depth in RF_max_depth_range_ER:\n",
    "    reg_ER = RandomForestRegressor(n_jobs = -1,\n",
    "                                   max_depth = max_depth)\n",
    "    RMSE_RF_max_depth_ER.append(np.mean(np.sqrt(np.abs(\n",
    "        cross_val_score(reg_ER, X_train_scaled_ER, y_train_ER, cv = 5, scoring = 'neg_mean_squared_error')))))\n",
    "\n",
    "# Gráfica del desempeño del modelo para cada valor definido de max_depth\n",
    "plt.plot(RF_max_depth_range_ER, RMSE_RF_max_depth_ER)\n",
    "plt.xlabel('max_depth')\n",
    "plt.ylabel('RMSE')\n",
    "\n",
    "# Parámetro max_depth que mejor calibra el modelo\n",
    "best_RF_max_depth_ER = RF_max_depth_range_ER[RMSE_RF_max_depth_ER.index(\n",
    "    min(RMSE_RF_max_depth_ER))]\n",
    "print(f'El parámetro max_depth que mejor calibra el modelo es {best_RF_max_depth_ER}')"
   ]
  },
  {
   "cell_type": "markdown",
   "id": "320f3f7d",
   "metadata": {},
   "source": [
    "#### Parámetro *n_estimators*"
   ]
  },
  {
   "cell_type": "code",
   "execution_count": null,
   "id": "e0e6f931",
   "metadata": {},
   "outputs": [],
   "source": [
    "np.random.seed(123)\n",
    "\n",
    "# Creación de lista para iterar sobre diferentes valores de n_estimators\n",
    "RF_n_estimators_range_ER = range(10, 510, 50)\n",
    "\n",
    "# Definición de lista para almacenar el RMSE promedio de cada valor de n_estimators\n",
    "RMSE_RF_n_estimators_ER = []\n",
    "\n",
    "# Uso de un 5-fold cross-validation para cada valor de n_estimators\n",
    "for n_estimators in RF_n_estimators_range_ER:\n",
    "    reg_ER = RandomForestRegressor(n_jobs = -1,\n",
    "                                   max_depth = best_RF_max_depth_ER,\n",
    "                                   n_estimators = n_estimators)\n",
    "    RMSE_RF_n_estimators_ER.append(np.mean(np.sqrt(np.abs(\n",
    "        cross_val_score(reg_ER, X_train_scaled_ER, y_train_ER, cv = 5, scoring = 'neg_mean_squared_error')))))\n",
    "\n",
    "# Gráfica del desempeño del modelo para cada valor definido de n_estimators\n",
    "plt.plot(RF_n_estimators_range_ER, RMSE_RF_n_estimators_ER)\n",
    "plt.xlabel('n_estimators')\n",
    "plt.ylabel('RMSE')\n",
    "\n",
    "# Parámetro n_estimators que mejor calibra el modelo\n",
    "best_RF_n_estimators_ER = RF_n_estimators_range_ER[RMSE_RF_n_estimators_ER.index(\n",
    "    min(RMSE_RF_n_estimators_ER))]\n",
    "print(f'El parámetro n_estimators que mejor calibra el modelo es {best_RF_n_estimators_ER}')"
   ]
  },
  {
   "cell_type": "markdown",
   "id": "03df622b",
   "metadata": {},
   "source": [
    "#### Parámetro *min_samples_leaf*"
   ]
  },
  {
   "cell_type": "code",
   "execution_count": null,
   "id": "86b4dbc3",
   "metadata": {},
   "outputs": [],
   "source": [
    "np.random.seed(123)\n",
    "\n",
    "# Creación de lista para iterar sobre diferentes valores de min_samples_leaf\n",
    "RF_min_samples_leaf_range_ER = range(1, 21)\n",
    "\n",
    "# Definición de lista para almacenar el RMSE promedio de cada valor de min_samples_leaf\n",
    "RMSE_RF_min_samples_leaf_ER = []\n",
    "\n",
    "# Uso de un 5-fold cross-validation para cada valor de min_samples_leaf\n",
    "for min_samples_leaf in RF_min_samples_leaf_range_ER:\n",
    "    reg_ER = RandomForestRegressor(n_jobs = -1,\n",
    "                                   max_depth = best_RF_max_depth_ER,\n",
    "                                   n_estimators = best_RF_n_estimators_ER,\n",
    "                                   min_samples_leaf = min_samples_leaf)\n",
    "    RMSE_RF_min_samples_leaf_ER.append(np.mean(np.sqrt(np.abs(\n",
    "        cross_val_score(reg_ER, X_train_scaled_ER, y_train_ER, cv = 5, scoring = 'neg_mean_squared_error')))))\n",
    "\n",
    "# Gráfica del desempeño del modelo para cada valor definido de min_samples_leaf\n",
    "plt.plot(RF_min_samples_leaf_range_ER, RMSE_RF_min_samples_leaf_ER)\n",
    "plt.xlabel('min_samples_leaf')\n",
    "plt.ylabel('MAE')\n",
    "\n",
    "# Parámetro min_samples_leaf que mejor calibra el modelo\n",
    "best_RF_min_samples_leaf_ER = RF_min_samples_leaf_range_ER[RMSE_RF_min_samples_leaf_ER.index(\n",
    "    min(RMSE_RF_min_samples_leaf_ER))]\n",
    "print(f'El parámetro min_samples_leaf que mejor calibra el modelo es {best_RF_min_samples_leaf_ER}')"
   ]
  },
  {
   "cell_type": "markdown",
   "id": "2d3dac65",
   "metadata": {},
   "source": [
    "#### Parámetro *min_samples_split*"
   ]
  },
  {
   "cell_type": "code",
   "execution_count": null,
   "id": "7e096e67",
   "metadata": {},
   "outputs": [],
   "source": [
    "np.random.seed(123)\n",
    "\n",
    "# Creación de lista para iterar sobre diferentes valores de min_samples_split\n",
    "RF_min_samples_split_range_ER = range(2, 21)\n",
    "\n",
    "# Definición de lista para almacenar el RMSE promedio de cada valor de min_samples_split\n",
    "RMSE_RF_min_samples_split_ER = []\n",
    "\n",
    "# Uso de un 5-fold cross-validation para cada valor de min_samples_split\n",
    "for min_samples_split in RF_min_samples_split_range_ER:\n",
    "    reg_ER = RandomForestRegressor(n_jobs = -1,\n",
    "                                   max_depth = best_RF_max_depth_ER,\n",
    "                                   n_estimators = best_RF_n_estimators_ER,\n",
    "                                   min_samples_leaf = best_RF_min_samples_leaf_ER,\n",
    "                                   min_samples_split = min_samples_split)\n",
    "    RMSE_RF_min_samples_split_ER.append(np.mean(np.sqrt(np.abs(\n",
    "        cross_val_score(reg_ER, X_train_scaled_ER, y_train_ER, cv = 5, scoring = 'neg_mean_squared_error')))))\n",
    "\n",
    "# Gráfica del desempeño del modelo para cada valor definido de min_samples_split\n",
    "plt.plot(RF_min_samples_split_range_ER, RMSE_RF_min_samples_split_ER)\n",
    "plt.xlabel('min_samples_split')\n",
    "plt.ylabel('RMSE')\n",
    "\n",
    "# Parámetro min_samples_split que mejor calibra el modelo\n",
    "best_RF_min_samples_split_ER = RF_min_samples_split_range_ER[RMSE_RF_min_samples_split_ER.index(\n",
    "    min(RMSE_RF_min_samples_split_ER))]\n",
    "print(f'El parámetro min_samples_split que mejor calibra el modelo es {best_RF_min_samples_split_ER}')"
   ]
  },
  {
   "cell_type": "markdown",
   "id": "b904e6e1",
   "metadata": {},
   "source": [
    "#### Evaluación del mejor del modelo"
   ]
  },
  {
   "cell_type": "code",
   "execution_count": null,
   "id": "9b087869",
   "metadata": {},
   "outputs": [],
   "source": [
    "np.random.seed(123)\n",
    "\n",
    "# Implementación y ajuste del modelo de regresión de Random Forest calibrado con el set de train \n",
    "RF_reg_ER = RandomForestRegressor(n_jobs = -1,\n",
    "                                  max_depth = best_RF_max_depth_ER,\n",
    "                                  n_estimators = best_RF_n_estimators_ER,\n",
    "                                  min_samples_leaf = best_RF_min_samples_leaf_ER,\n",
    "                                  min_samples_split = best_RF_min_samples_split_ER).fit(X_train_scaled_ER, y_train_ER)\n",
    "\n",
    "# Predicción con el set de test\n",
    "y_pred_ER = RF_reg_ER.predict(X_test_ER)\n",
    "\n",
    "# Cálculo del desempeño del modelo utilizando el RMSE\n",
    "RMSE_RF_ER = round(metrics.mean_squared_error(y_pred_ER, y_test_ER, squared = False), 2)\n",
    "print(f'El RMSE del modelo es de {RMSE_RF_ER}')\n",
    "\n",
    "# Se guardan los valores del RMSE\n",
    "lista_RMSE_ER.append(RMSE_RF_ER)"
   ]
  },
  {
   "cell_type": "markdown",
   "id": "77811f35",
   "metadata": {},
   "source": [
    "### XGBoost"
   ]
  },
  {
   "cell_type": "markdown",
   "id": "20e32511",
   "metadata": {},
   "source": [
    "#### Parámetro *max_depth*"
   ]
  },
  {
   "cell_type": "code",
   "execution_count": null,
   "id": "99bfb122",
   "metadata": {},
   "outputs": [],
   "source": [
    "np.random.seed(123)\n",
    "\n",
    "# Creación de lista para iterar sobre diferentes valores de max_depth\n",
    "XGB_max_depth_range_ER = range(1, 21)\n",
    "\n",
    "# Definición de lista para almacenar el RMSE promedio de cada valor de max_depth\n",
    "RMSE_XGB_max_depth_ER = []\n",
    "\n",
    "# Uso de un 5-fold cross-validation para cada valor de max_depth\n",
    "for max_depth in XGB_max_depth_range_ER:\n",
    "    reg_ER = XGBRegressor(n_jobs = -1,\n",
    "                          max_depth = max_depth)\n",
    "    RMSE_XGB_max_depth_ER.append(np.mean(np.sqrt(np.abs(\n",
    "        cross_val_score(reg_ER, X_train_scaled_ER, y_train_ER, cv = 5, scoring = 'neg_mean_squared_error')))))\n",
    "\n",
    "# Gráfica del desempeño del modelo para cada valor definido de max_depth\n",
    "plt.plot(XGB_max_depth_range_ER, RMSE_XGB_max_depth_ER)\n",
    "plt.xlabel('max_depth')\n",
    "plt.ylabel('RMSE')\n",
    "\n",
    "# Parámetro max_depth que mejor calibra el modelo\n",
    "XGB_best_max_depth_ER = XGB_max_depth_range_ER[RMSE_XGB_max_depth_ER.index(\n",
    "    min(RMSE_XGB_max_depth_ER))]\n",
    "print(f'El parámetro max_depth que mejor calibra el modelo es {XGB_best_max_depth_ER}')"
   ]
  },
  {
   "cell_type": "markdown",
   "id": "3ed8539d",
   "metadata": {},
   "source": [
    "#### Parámetro *learning_rate*"
   ]
  },
  {
   "cell_type": "code",
   "execution_count": null,
   "id": "7d200937",
   "metadata": {},
   "outputs": [],
   "source": [
    "np.random.seed(123)\n",
    "\n",
    "# Creación de lista para iterar sobre diferentes valores de learning_rate\n",
    "XGB_learning_rate_range_ER = np.arange(0.1, 1, 0.1)\n",
    "\n",
    "# Definición de lista para almacenar el RMSE promedio de cada valor de learning_rate\n",
    "RMSE_XGB_learning_rate_ER = []\n",
    "\n",
    "# Uso de un 5-fold cross-validation para cada valor de learning_rate\n",
    "for learning_rate in XGB_learning_rate_range_ER:\n",
    "    reg_ER = XGBRegressor(n_jobs = -1,\n",
    "                          max_depth = XGB_best_max_depth_ER,\n",
    "                          learning_rate = learning_rate)\n",
    "    RMSE_XGB_learning_rate_ER.append(np.mean(np.sqrt(np.abs(\n",
    "        cross_val_score(reg_ER, X_train_scaled_ER, y_train_ER, cv = 5, scoring = 'neg_mean_squared_error')))))\n",
    "\n",
    "# Gráfica del desempeño del modelo para cada valor definido de learning_rate\n",
    "plt.plot(XGB_learning_rate_range_ER, RMSE_XGB_learning_rate_ER)\n",
    "plt.xlabel('learning_rate')\n",
    "plt.ylabel('RMSE')\n",
    "\n",
    "# Parámetro learning_rate que mejor calibra el modelo\n",
    "XGB_best_learning_rate_ER = XGB_learning_rate_range_ER[RMSE_XGB_learning_rate_ER.index(\n",
    "    min(RMSE_XGB_learning_rate_ER))]\n",
    "print(f'El parámetro learning_rate que mejor calibra el modelo es {XGB_best_learning_rate_ER}')"
   ]
  },
  {
   "cell_type": "markdown",
   "id": "76ee7b37",
   "metadata": {},
   "source": [
    "#### Parámetro *n_estimators*"
   ]
  },
  {
   "cell_type": "code",
   "execution_count": null,
   "id": "62900ddb",
   "metadata": {
    "scrolled": false
   },
   "outputs": [],
   "source": [
    "np.random.seed(123)\n",
    "\n",
    "# Creación de lista para iterar sobre diferentes valores de n_estimators\n",
    "XGB_n_estimators_range_ER = range(10, 510, 50)\n",
    "\n",
    "# Definición de lista para almacenar el RMSE promedio de cada valor de n_estimators\n",
    "RMSE_XGB_n_estimators_ER = []\n",
    "\n",
    "# Uso de un 5-fold cross-validation para cada valor de n_estimators\n",
    "for n_estimators in XGB_n_estimators_range_ER:\n",
    "    reg_ER = XGBRegressor(n_jobs = -1,\n",
    "                          max_depth = XGB_best_max_depth_ER,\n",
    "                          learning_rate = XGB_best_learning_rate_ER,\n",
    "                          n_estimators = n_estimators)\n",
    "    RMSE_XGB_n_estimators_ER.append(np.mean(np.sqrt(np.abs(\n",
    "        cross_val_score(reg_ER, X_train_scaled_ER, y_train_ER, cv = 5, scoring = 'neg_mean_squared_error')))))\n",
    "\n",
    "# Gráfica del desempeño del modelo para cada valor definido de n_estimators\n",
    "plt.plot(XGB_n_estimators_range_ER, RMSE_XGB_n_estimators_ER)\n",
    "plt.xlabel('n_estimators')\n",
    "plt.ylabel('RMSE')\n",
    "\n",
    "# Parámetro n_estimators que mejor calibra el modelo\n",
    "XGB_best_n_estimators_ER = XGB_n_estimators_range_ER[RMSE_XGB_n_estimators_ER.index(\n",
    "    min(RMSE_XGB_n_estimators_ER))]\n",
    "print(f'El parámetro n_estimators que mejor calibra el modelo es {XGB_best_n_estimators_ER}')"
   ]
  },
  {
   "cell_type": "markdown",
   "id": "6439e4f3",
   "metadata": {},
   "source": [
    "#### Parámetro *gamma*"
   ]
  },
  {
   "cell_type": "code",
   "execution_count": null,
   "id": "514d1530",
   "metadata": {},
   "outputs": [],
   "source": [
    "np.random.seed(123)\n",
    "\n",
    "# Creación de lista para iterar sobre diferentes valores de gamma\n",
    "XGB_gamma_range_ER = range(0, 501, 50)\n",
    "\n",
    "# Definición de lista para almacenar el RMSE promedio de cada valor de gamma\n",
    "RMSE_XGB_gamma_ER = []\n",
    "\n",
    "# Uso de un 5-fold cross-validation para cada valor de gamma\n",
    "for gamma in XGB_gamma_range_ER:\n",
    "    reg_ER = XGBRegressor(n_jobs = -1,\n",
    "                          max_depth = XGB_best_max_depth_ER,\n",
    "                          learning_rate = XGB_best_learning_rate_ER,\n",
    "                          n_estimators = XGB_best_n_estimators_ER,\n",
    "                          gamma = gamma)\n",
    "    RMSE_XGB_gamma_ER.append(np.mean(np.sqrt(np.abs(\n",
    "        cross_val_score(reg_ER, X_train_scaled_ER, y_train_ER, cv = 5, scoring = 'neg_mean_squared_error')))))\n",
    "\n",
    "# Gráfica del desempeño del modelo para cada valor definido de gamma\n",
    "plt.plot(XGB_gamma_range_ER, RMSE_XGB_gamma_ER)\n",
    "plt.xlabel('gamma')\n",
    "plt.ylabel('RMSE')\n",
    "\n",
    "# Parámetro gamma que mejor calibra el modelo\n",
    "XGB_best_gamma_ER = XGB_gamma_range_ER[RMSE_XGB_gamma_ER.index(\n",
    "    min(RMSE_XGB_gamma_ER))]\n",
    "print(f'El parámetro gamma que mejor calibra el modelo es {XGB_best_gamma_ER}')"
   ]
  },
  {
   "cell_type": "markdown",
   "id": "5b76df85",
   "metadata": {},
   "source": [
    "#### Parámetro *colsample_bytree*"
   ]
  },
  {
   "cell_type": "code",
   "execution_count": null,
   "id": "53df0e27",
   "metadata": {},
   "outputs": [],
   "source": [
    "np.random.seed(123)\n",
    "\n",
    "# Creación de lista para iterar sobre diferentes valores de colsample_bytree\n",
    "XGB_colsample_bytree_range_ER = np.arange(0.1, 1, 0.1)\n",
    "\n",
    "# Definición de lista para almacenar el RMSE promedio de cada valor de colsample_bytree\n",
    "RMSE_XGB_colsample_bytree_ER = []\n",
    "\n",
    "# Uso de un 5-fold cross-validation para cada valor de colsample_bytree\n",
    "for colsample_bytree in XGB_colsample_bytree_range_ER:\n",
    "    reg_ER = XGBRegressor(n_jobs = -1,\n",
    "                          max_depth = XGB_best_max_depth_ER,\n",
    "                          learning_rate = XGB_best_learning_rate_ER,\n",
    "                          n_estimators = XGB_best_n_estimators_ER,\n",
    "                          gamma = XGB_best_gamma_ER,\n",
    "                          colsample_bytree = colsample_bytree)\n",
    "    RMSE_XGB_colsample_bytree_ER.append(np.mean(np.sqrt(np.abs(\n",
    "        cross_val_score(reg_ER, X_train_scaled_ER, y_train_ER, cv = 5, scoring = 'neg_mean_squared_error')))))\n",
    "\n",
    "# Gráfica del desempeño del modelo para cada valor definido de colsample_bytree\n",
    "plt.plot(XGB_colsample_bytree_range_ER, RMSE_XGB_colsample_bytree_ER)\n",
    "plt.xlabel('colsample_bytree')\n",
    "plt.ylabel('RMSE')\n",
    "\n",
    "# Parámetro colsample_bytree que mejor calibra el modelo\n",
    "XGB_best_colsample_bytree_ER = XGB_colsample_bytree_range_ER[RMSE_XGB_colsample_bytree_ER.index(\n",
    "    min(RMSE_XGB_colsample_bytree_ER))]\n",
    "print(f'El parámetro colsample_bytree que mejor calibra el modelo es {XGB_best_colsample_bytree_ER}')"
   ]
  },
  {
   "cell_type": "markdown",
   "id": "659a7a2b",
   "metadata": {},
   "source": [
    "#### Evaluación del mejor del modelo"
   ]
  },
  {
   "cell_type": "code",
   "execution_count": null,
   "id": "2922cc15",
   "metadata": {},
   "outputs": [],
   "source": [
    "np.random.seed(123)\n",
    "\n",
    "# Implementación y ajuste del modelo de regresión de XGBoost calibrado con el set de train \n",
    "XGB_reg_ER = XGBRegressor(n_jobs = -1,\n",
    "                          max_depth = XGB_best_max_depth_ER,\n",
    "                          learning_rate = XGB_best_learning_rate_ER,\n",
    "                          n_estimators = XGB_best_n_estimators_ER,\n",
    "                          gamma = XGB_best_gamma_ER,\n",
    "                          colsample_bytree = XGB_best_colsample_bytree_ER).fit(X_train_scaled_ER, y_train_ER)\n",
    "\n",
    "# Predicción con el set de test\n",
    "y_pred_ER = XGB_reg_ER.predict(X_test_ER)\n",
    "\n",
    "# Cálculo del desempeño del modelo utilizando el RMSE y el MAE\n",
    "RMSE_XGB_ER = round(metrics.mean_squared_error(y_pred_ER, y_test_ER, squared = False), 2)\n",
    "print(f'El RMSE del modelo es de {RMSE_XGB_ER}')\n",
    "\n",
    "# Se guardan los valores del RMSE\n",
    "lista_RMSE_ER.append(RMSE_XGB_ER)"
   ]
  },
  {
   "cell_type": "markdown",
   "id": "8e4454bb",
   "metadata": {},
   "source": [
    "### Comparación de modelos para la estimación de energía reactiva"
   ]
  },
  {
   "cell_type": "code",
   "execution_count": null,
   "id": "4adf15b9",
   "metadata": {},
   "outputs": [],
   "source": [
    "df_RMSE_ER = pd.DataFrame(pd.DataFrame({'Modelo': ['Redes Neuronales', 'Random Forest', 'XGBoost',], 'RMSE': lista_RMSE_ER}))\n",
    "ax_RMSE_ER = df_RMSE_ER.plot.bar(\n",
    "    x ='Modelo', y = 'RMSE', rot = 0, figsize = (10, 5), legend = False, xlabel = '', title = 'RMSE Enegía Activa')\n",
    "for container in ax_RMSE_ER.containers:\n",
    "    ax_RMSE_ER.bar_label(container)"
   ]
  },
  {
   "cell_type": "markdown",
   "id": "eeb20dea",
   "metadata": {},
   "source": [
    "## Estimación de las demandas de energías activa y reactiva a partir del modelo de redes neuronales"
   ]
  },
  {
   "cell_type": "code",
   "execution_count": 163,
   "id": "1ebda38a",
   "metadata": {},
   "outputs": [
    {
     "name": "stdout",
     "output_type": "stream",
     "text": [
      "14423/14423 [==============================] - 16s 1ms/step\n",
      "14423/14423 [==============================] - 16s 1ms/step\n"
     ]
    },
    {
     "data": {
      "text/html": [
       "<div>\n",
       "<style scoped>\n",
       "    .dataframe tbody tr th:only-of-type {\n",
       "        vertical-align: middle;\n",
       "    }\n",
       "\n",
       "    .dataframe tbody tr th {\n",
       "        vertical-align: top;\n",
       "    }\n",
       "\n",
       "    .dataframe thead th {\n",
       "        text-align: right;\n",
       "    }\n",
       "</style>\n",
       "<table border=\"1\" class=\"dataframe\">\n",
       "  <thead>\n",
       "    <tr style=\"text-align: right;\">\n",
       "      <th></th>\n",
       "      <th>idCliente</th>\n",
       "      <th>Fecha</th>\n",
       "      <th>Dia</th>\n",
       "      <th>Mes</th>\n",
       "      <th>Año</th>\n",
       "      <th>Hora</th>\n",
       "      <th>Minuto</th>\n",
       "      <th>Forecast_Energia_Activa</th>\n",
       "      <th>Forecast_Energia_Reactiva</th>\n",
       "    </tr>\n",
       "  </thead>\n",
       "  <tbody>\n",
       "    <tr>\n",
       "      <th>0</th>\n",
       "      <td>1.0</td>\n",
       "      <td>2023-04-01 00:00:00</td>\n",
       "      <td>1.0</td>\n",
       "      <td>4.0</td>\n",
       "      <td>2023.0</td>\n",
       "      <td>0.0</td>\n",
       "      <td>0.0</td>\n",
       "      <td>2.835779</td>\n",
       "      <td>1.778564</td>\n",
       "    </tr>\n",
       "    <tr>\n",
       "      <th>1</th>\n",
       "      <td>1.0</td>\n",
       "      <td>2023-04-01 01:00:00</td>\n",
       "      <td>1.0</td>\n",
       "      <td>4.0</td>\n",
       "      <td>2023.0</td>\n",
       "      <td>1.0</td>\n",
       "      <td>0.0</td>\n",
       "      <td>2.836243</td>\n",
       "      <td>1.765075</td>\n",
       "    </tr>\n",
       "    <tr>\n",
       "      <th>2</th>\n",
       "      <td>1.0</td>\n",
       "      <td>2023-04-01 02:00:00</td>\n",
       "      <td>1.0</td>\n",
       "      <td>4.0</td>\n",
       "      <td>2023.0</td>\n",
       "      <td>2.0</td>\n",
       "      <td>0.0</td>\n",
       "      <td>2.836150</td>\n",
       "      <td>1.753164</td>\n",
       "    </tr>\n",
       "    <tr>\n",
       "      <th>3</th>\n",
       "      <td>1.0</td>\n",
       "      <td>2023-04-01 03:00:00</td>\n",
       "      <td>1.0</td>\n",
       "      <td>4.0</td>\n",
       "      <td>2023.0</td>\n",
       "      <td>3.0</td>\n",
       "      <td>0.0</td>\n",
       "      <td>2.834813</td>\n",
       "      <td>1.755167</td>\n",
       "    </tr>\n",
       "    <tr>\n",
       "      <th>4</th>\n",
       "      <td>1.0</td>\n",
       "      <td>2023-04-01 04:00:00</td>\n",
       "      <td>1.0</td>\n",
       "      <td>4.0</td>\n",
       "      <td>2023.0</td>\n",
       "      <td>4.0</td>\n",
       "      <td>0.0</td>\n",
       "      <td>2.833479</td>\n",
       "      <td>1.757171</td>\n",
       "    </tr>\n",
       "    <tr>\n",
       "      <th>...</th>\n",
       "      <td>...</td>\n",
       "      <td>...</td>\n",
       "      <td>...</td>\n",
       "      <td>...</td>\n",
       "      <td>...</td>\n",
       "      <td>...</td>\n",
       "      <td>...</td>\n",
       "      <td>...</td>\n",
       "      <td>...</td>\n",
       "    </tr>\n",
       "    <tr>\n",
       "      <th>461515</th>\n",
       "      <td>30.0</td>\n",
       "      <td>2024-12-31 19:00:00</td>\n",
       "      <td>31.0</td>\n",
       "      <td>12.0</td>\n",
       "      <td>2024.0</td>\n",
       "      <td>19.0</td>\n",
       "      <td>0.0</td>\n",
       "      <td>-0.178790</td>\n",
       "      <td>0.190231</td>\n",
       "    </tr>\n",
       "    <tr>\n",
       "      <th>461516</th>\n",
       "      <td>30.0</td>\n",
       "      <td>2024-12-31 20:00:00</td>\n",
       "      <td>31.0</td>\n",
       "      <td>12.0</td>\n",
       "      <td>2024.0</td>\n",
       "      <td>20.0</td>\n",
       "      <td>0.0</td>\n",
       "      <td>-0.200064</td>\n",
       "      <td>0.193405</td>\n",
       "    </tr>\n",
       "    <tr>\n",
       "      <th>461517</th>\n",
       "      <td>30.0</td>\n",
       "      <td>2024-12-31 21:00:00</td>\n",
       "      <td>31.0</td>\n",
       "      <td>12.0</td>\n",
       "      <td>2024.0</td>\n",
       "      <td>21.0</td>\n",
       "      <td>0.0</td>\n",
       "      <td>-0.220772</td>\n",
       "      <td>0.195346</td>\n",
       "    </tr>\n",
       "    <tr>\n",
       "      <th>461518</th>\n",
       "      <td>30.0</td>\n",
       "      <td>2024-12-31 22:00:00</td>\n",
       "      <td>31.0</td>\n",
       "      <td>12.0</td>\n",
       "      <td>2024.0</td>\n",
       "      <td>22.0</td>\n",
       "      <td>0.0</td>\n",
       "      <td>0.544038</td>\n",
       "      <td>0.196260</td>\n",
       "    </tr>\n",
       "    <tr>\n",
       "      <th>461519</th>\n",
       "      <td>30.0</td>\n",
       "      <td>2024-12-31 23:00:00</td>\n",
       "      <td>31.0</td>\n",
       "      <td>12.0</td>\n",
       "      <td>2024.0</td>\n",
       "      <td>23.0</td>\n",
       "      <td>0.0</td>\n",
       "      <td>1.858023</td>\n",
       "      <td>0.197174</td>\n",
       "    </tr>\n",
       "  </tbody>\n",
       "</table>\n",
       "<p>461520 rows × 9 columns</p>\n",
       "</div>"
      ],
      "text/plain": [
       "        idCliente               Fecha   Dia   Mes     Año  Hora  Minuto  \\\n",
       "0             1.0 2023-04-01 00:00:00   1.0   4.0  2023.0   0.0     0.0   \n",
       "1             1.0 2023-04-01 01:00:00   1.0   4.0  2023.0   1.0     0.0   \n",
       "2             1.0 2023-04-01 02:00:00   1.0   4.0  2023.0   2.0     0.0   \n",
       "3             1.0 2023-04-01 03:00:00   1.0   4.0  2023.0   3.0     0.0   \n",
       "4             1.0 2023-04-01 04:00:00   1.0   4.0  2023.0   4.0     0.0   \n",
       "...           ...                 ...   ...   ...     ...   ...     ...   \n",
       "461515       30.0 2024-12-31 19:00:00  31.0  12.0  2024.0  19.0     0.0   \n",
       "461516       30.0 2024-12-31 20:00:00  31.0  12.0  2024.0  20.0     0.0   \n",
       "461517       30.0 2024-12-31 21:00:00  31.0  12.0  2024.0  21.0     0.0   \n",
       "461518       30.0 2024-12-31 22:00:00  31.0  12.0  2024.0  22.0     0.0   \n",
       "461519       30.0 2024-12-31 23:00:00  31.0  12.0  2024.0  23.0     0.0   \n",
       "\n",
       "        Forecast_Energia_Activa  Forecast_Energia_Reactiva  \n",
       "0                      2.835779                   1.778564  \n",
       "1                      2.836243                   1.765075  \n",
       "2                      2.836150                   1.753164  \n",
       "3                      2.834813                   1.755167  \n",
       "4                      2.833479                   1.757171  \n",
       "...                         ...                        ...  \n",
       "461515                -0.178790                   0.190231  \n",
       "461516                -0.200064                   0.193405  \n",
       "461517                -0.220772                   0.195346  \n",
       "461518                 0.544038                   0.196260  \n",
       "461519                 1.858023                   0.197174  \n",
       "\n",
       "[461520 rows x 9 columns]"
      ]
     },
     "execution_count": 163,
     "metadata": {},
     "output_type": "execute_result"
    }
   ],
   "source": [
    "# Creación de un DataFrame con todas las combinaciones posibles de las categorías de las variables predictoras\n",
    "df1 = pd.DataFrame(\n",
    "    list(product(datos_active_energy['idCliente'].unique(),\n",
    "                 pd.date_range(clientes['Fecha'].max() + pd.Timedelta(hours=1), '2024-12-31 23:00:00', freq='H'))),\n",
    "    columns=['idCliente', 'Fecha'])\n",
    "df1['Dia'] = df1['Fecha'].dt.day\n",
    "df1['Mes'] = df1['Fecha'].dt.month\n",
    "df1['Año'] = df1['Fecha'].dt.year\n",
    "df1['Hora'] = df1['Fecha'].dt.hour\n",
    "df1['Minuto'] = df1['Fecha'].dt.minute\n",
    "\n",
    "# Normalización de las variables predictoras\n",
    "scaler = StandardScaler()\n",
    "df1_scaled = scaler.fit_transform(df1.drop('Fecha', axis=1))\n",
    "\n",
    "# Predicción de las energías activa y reactiva para cada combinación\n",
    "y_pred_EA = model_NN_EA.predict(df1_scaled)\n",
    "y_pred_ER = model_NN_ER.predict(df1_scaled)\n",
    "\n",
    "# Se adición las predicciones al DataFrame de combinaciones\n",
    "df1['Forecast_Energia_Activa'] = y_pred_EA\n",
    "df1['Forecast_Energia_Reactiva'] = y_pred_ER\n",
    "\n",
    "# Transformación de las variables predictoras a su escala original\n",
    "df1_inverse = scaler.inverse_transform(df1_scaled)\n",
    "df1[['idCliente', 'Dia', 'Mes', 'Año', 'Hora', 'Minuto']] = df1_inverse\n",
    "\n",
    "# Se muestra el DataFrame con las predicciones\n",
    "df1"
   ]
  },
  {
   "cell_type": "code",
   "execution_count": 164,
   "id": "7b31f1bd",
   "metadata": {},
   "outputs": [
    {
     "data": {
      "text/html": [
       "<div>\n",
       "<style scoped>\n",
       "    .dataframe tbody tr th:only-of-type {\n",
       "        vertical-align: middle;\n",
       "    }\n",
       "\n",
       "    .dataframe tbody tr th {\n",
       "        vertical-align: top;\n",
       "    }\n",
       "\n",
       "    .dataframe thead th {\n",
       "        text-align: right;\n",
       "    }\n",
       "</style>\n",
       "<table border=\"1\" class=\"dataframe\">\n",
       "  <thead>\n",
       "    <tr style=\"text-align: right;\">\n",
       "      <th></th>\n",
       "      <th>idCliente</th>\n",
       "      <th>Fecha</th>\n",
       "      <th>Dia</th>\n",
       "      <th>Mes</th>\n",
       "      <th>Año</th>\n",
       "      <th>Hora</th>\n",
       "      <th>Minuto</th>\n",
       "      <th>Active_energy</th>\n",
       "      <th>Reactive_energy</th>\n",
       "    </tr>\n",
       "  </thead>\n",
       "  <tbody>\n",
       "    <tr>\n",
       "      <th>0</th>\n",
       "      <td>1</td>\n",
       "      <td>2021-01-01 00:00:00</td>\n",
       "      <td>1</td>\n",
       "      <td>1</td>\n",
       "      <td>2021</td>\n",
       "      <td>0</td>\n",
       "      <td>0</td>\n",
       "      <td>0.357841</td>\n",
       "      <td>0.282788</td>\n",
       "    </tr>\n",
       "    <tr>\n",
       "      <th>1</th>\n",
       "      <td>1</td>\n",
       "      <td>2021-01-01 01:00:00</td>\n",
       "      <td>1</td>\n",
       "      <td>1</td>\n",
       "      <td>2021</td>\n",
       "      <td>1</td>\n",
       "      <td>0</td>\n",
       "      <td>0.372264</td>\n",
       "      <td>0.431377</td>\n",
       "    </tr>\n",
       "    <tr>\n",
       "      <th>2</th>\n",
       "      <td>1</td>\n",
       "      <td>2021-01-01 02:00:00</td>\n",
       "      <td>1</td>\n",
       "      <td>1</td>\n",
       "      <td>2021</td>\n",
       "      <td>2</td>\n",
       "      <td>0</td>\n",
       "      <td>1.044687</td>\n",
       "      <td>0.338626</td>\n",
       "    </tr>\n",
       "    <tr>\n",
       "      <th>3</th>\n",
       "      <td>1</td>\n",
       "      <td>2021-01-01 03:00:00</td>\n",
       "      <td>1</td>\n",
       "      <td>1</td>\n",
       "      <td>2021</td>\n",
       "      <td>3</td>\n",
       "      <td>0</td>\n",
       "      <td>0.566425</td>\n",
       "      <td>0.495791</td>\n",
       "    </tr>\n",
       "    <tr>\n",
       "      <th>4</th>\n",
       "      <td>1</td>\n",
       "      <td>2021-01-01 04:00:00</td>\n",
       "      <td>1</td>\n",
       "      <td>1</td>\n",
       "      <td>2021</td>\n",
       "      <td>4</td>\n",
       "      <td>0</td>\n",
       "      <td>1.080556</td>\n",
       "      <td>0.472018</td>\n",
       "    </tr>\n",
       "    <tr>\n",
       "      <th>...</th>\n",
       "      <td>...</td>\n",
       "      <td>...</td>\n",
       "      <td>...</td>\n",
       "      <td>...</td>\n",
       "      <td>...</td>\n",
       "      <td>...</td>\n",
       "      <td>...</td>\n",
       "      <td>...</td>\n",
       "      <td>...</td>\n",
       "    </tr>\n",
       "    <tr>\n",
       "      <th>590395</th>\n",
       "      <td>30</td>\n",
       "      <td>2023-03-31 19:00:00</td>\n",
       "      <td>31</td>\n",
       "      <td>3</td>\n",
       "      <td>2023</td>\n",
       "      <td>19</td>\n",
       "      <td>0</td>\n",
       "      <td>0.000000</td>\n",
       "      <td>0.000000</td>\n",
       "    </tr>\n",
       "    <tr>\n",
       "      <th>590396</th>\n",
       "      <td>30</td>\n",
       "      <td>2023-03-31 20:00:00</td>\n",
       "      <td>31</td>\n",
       "      <td>3</td>\n",
       "      <td>2023</td>\n",
       "      <td>20</td>\n",
       "      <td>0</td>\n",
       "      <td>0.000000</td>\n",
       "      <td>0.000000</td>\n",
       "    </tr>\n",
       "    <tr>\n",
       "      <th>590397</th>\n",
       "      <td>30</td>\n",
       "      <td>2023-03-31 21:00:00</td>\n",
       "      <td>31</td>\n",
       "      <td>3</td>\n",
       "      <td>2023</td>\n",
       "      <td>21</td>\n",
       "      <td>0</td>\n",
       "      <td>0.000000</td>\n",
       "      <td>0.000000</td>\n",
       "    </tr>\n",
       "    <tr>\n",
       "      <th>590398</th>\n",
       "      <td>30</td>\n",
       "      <td>2023-03-31 22:00:00</td>\n",
       "      <td>31</td>\n",
       "      <td>3</td>\n",
       "      <td>2023</td>\n",
       "      <td>22</td>\n",
       "      <td>0</td>\n",
       "      <td>0.000000</td>\n",
       "      <td>0.000000</td>\n",
       "    </tr>\n",
       "    <tr>\n",
       "      <th>590399</th>\n",
       "      <td>30</td>\n",
       "      <td>2023-03-31 23:00:00</td>\n",
       "      <td>31</td>\n",
       "      <td>3</td>\n",
       "      <td>2023</td>\n",
       "      <td>23</td>\n",
       "      <td>0</td>\n",
       "      <td>0.000000</td>\n",
       "      <td>0.000000</td>\n",
       "    </tr>\n",
       "  </tbody>\n",
       "</table>\n",
       "<p>590400 rows × 9 columns</p>\n",
       "</div>"
      ],
      "text/plain": [
       "        idCliente               Fecha  Dia  Mes   Año  Hora  Minuto  \\\n",
       "0               1 2021-01-01 00:00:00    1    1  2021     0       0   \n",
       "1               1 2021-01-01 01:00:00    1    1  2021     1       0   \n",
       "2               1 2021-01-01 02:00:00    1    1  2021     2       0   \n",
       "3               1 2021-01-01 03:00:00    1    1  2021     3       0   \n",
       "4               1 2021-01-01 04:00:00    1    1  2021     4       0   \n",
       "...           ...                 ...  ...  ...   ...   ...     ...   \n",
       "590395         30 2023-03-31 19:00:00   31    3  2023    19       0   \n",
       "590396         30 2023-03-31 20:00:00   31    3  2023    20       0   \n",
       "590397         30 2023-03-31 21:00:00   31    3  2023    21       0   \n",
       "590398         30 2023-03-31 22:00:00   31    3  2023    22       0   \n",
       "590399         30 2023-03-31 23:00:00   31    3  2023    23       0   \n",
       "\n",
       "        Active_energy  Reactive_energy  \n",
       "0            0.357841         0.282788  \n",
       "1            0.372264         0.431377  \n",
       "2            1.044687         0.338626  \n",
       "3            0.566425         0.495791  \n",
       "4            1.080556         0.472018  \n",
       "...               ...              ...  \n",
       "590395       0.000000         0.000000  \n",
       "590396       0.000000         0.000000  \n",
       "590397       0.000000         0.000000  \n",
       "590398       0.000000         0.000000  \n",
       "590399       0.000000         0.000000  \n",
       "\n",
       "[590400 rows x 9 columns]"
      ]
     },
     "execution_count": 164,
     "metadata": {},
     "output_type": "execute_result"
    }
   ],
   "source": [
    "df2 = pd.DataFrame(\n",
    "    list(product(clientes['idCliente'].unique(), pd.date_range(clientes['Fecha'].min(), clientes['Fecha'].max(), freq='H'))),\n",
    "    columns=['idCliente', 'Fecha'])\n",
    "df2['Dia'] = df2['Fecha'].dt.day\n",
    "df2['Mes'] = df2['Fecha'].dt.month\n",
    "df2['Año'] = df2['Fecha'].dt.year\n",
    "df2['Hora'] = df2['Fecha'].dt.hour\n",
    "df2['Minuto'] = df2['Fecha'].dt.minute\n",
    "\n",
    "df2 = df2.merge(clientes[['Active_energy', 'Reactive_energy', 'idCliente', 'Dia', 'Mes', 'Año', 'Hora', 'Minuto']],\n",
    "                on=['idCliente', 'Dia', 'Mes', 'Año', 'Hora', 'Minuto'],\n",
    "                how='left')\n",
    "df2.fillna(0, inplace=True)\n",
    "df2"
   ]
  },
  {
   "cell_type": "code",
   "execution_count": 183,
   "id": "1e4a51ce",
   "metadata": {
    "scrolled": true
   },
   "outputs": [
    {
     "data": {
      "text/html": [
       "<div>\n",
       "<style scoped>\n",
       "    .dataframe tbody tr th:only-of-type {\n",
       "        vertical-align: middle;\n",
       "    }\n",
       "\n",
       "    .dataframe tbody tr th {\n",
       "        vertical-align: top;\n",
       "    }\n",
       "\n",
       "    .dataframe thead th {\n",
       "        text-align: right;\n",
       "    }\n",
       "</style>\n",
       "<table border=\"1\" class=\"dataframe\">\n",
       "  <thead>\n",
       "    <tr style=\"text-align: right;\">\n",
       "      <th></th>\n",
       "      <th>idCliente</th>\n",
       "      <th>Fecha</th>\n",
       "      <th>Active_energy</th>\n",
       "      <th>Reactive_energy</th>\n",
       "      <th>Forecast_Energia_Activa</th>\n",
       "      <th>Forecast_Energia_Reactiva</th>\n",
       "      <th>Año</th>\n",
       "    </tr>\n",
       "  </thead>\n",
       "  <tbody>\n",
       "    <tr>\n",
       "      <th>0</th>\n",
       "      <td>1.0</td>\n",
       "      <td>2021-01-01</td>\n",
       "      <td>1179.028493</td>\n",
       "      <td>415.713658</td>\n",
       "      <td>0.000000</td>\n",
       "      <td>0.000000</td>\n",
       "      <td>2021</td>\n",
       "    </tr>\n",
       "    <tr>\n",
       "      <th>1</th>\n",
       "      <td>1.0</td>\n",
       "      <td>2021-02-01</td>\n",
       "      <td>1490.128945</td>\n",
       "      <td>231.737781</td>\n",
       "      <td>0.000000</td>\n",
       "      <td>0.000000</td>\n",
       "      <td>2021</td>\n",
       "    </tr>\n",
       "    <tr>\n",
       "      <th>2</th>\n",
       "      <td>1.0</td>\n",
       "      <td>2021-03-01</td>\n",
       "      <td>1728.240344</td>\n",
       "      <td>978.845693</td>\n",
       "      <td>0.000000</td>\n",
       "      <td>0.000000</td>\n",
       "      <td>2021</td>\n",
       "    </tr>\n",
       "    <tr>\n",
       "      <th>3</th>\n",
       "      <td>1.0</td>\n",
       "      <td>2021-04-01</td>\n",
       "      <td>2228.447578</td>\n",
       "      <td>1304.500199</td>\n",
       "      <td>0.000000</td>\n",
       "      <td>0.000000</td>\n",
       "      <td>2021</td>\n",
       "    </tr>\n",
       "    <tr>\n",
       "      <th>4</th>\n",
       "      <td>1.0</td>\n",
       "      <td>2021-05-01</td>\n",
       "      <td>2190.919624</td>\n",
       "      <td>1269.936238</td>\n",
       "      <td>0.000000</td>\n",
       "      <td>0.000000</td>\n",
       "      <td>2021</td>\n",
       "    </tr>\n",
       "    <tr>\n",
       "      <th>...</th>\n",
       "      <td>...</td>\n",
       "      <td>...</td>\n",
       "      <td>...</td>\n",
       "      <td>...</td>\n",
       "      <td>...</td>\n",
       "      <td>...</td>\n",
       "      <td>...</td>\n",
       "    </tr>\n",
       "    <tr>\n",
       "      <th>1435</th>\n",
       "      <td>30.0</td>\n",
       "      <td>2024-08-01</td>\n",
       "      <td>0.000000</td>\n",
       "      <td>0.000000</td>\n",
       "      <td>3838.345947</td>\n",
       "      <td>37.353306</td>\n",
       "      <td>2024</td>\n",
       "    </tr>\n",
       "    <tr>\n",
       "      <th>1436</th>\n",
       "      <td>30.0</td>\n",
       "      <td>2024-09-01</td>\n",
       "      <td>0.000000</td>\n",
       "      <td>0.000000</td>\n",
       "      <td>3995.521729</td>\n",
       "      <td>102.005341</td>\n",
       "      <td>2024</td>\n",
       "    </tr>\n",
       "    <tr>\n",
       "      <th>1437</th>\n",
       "      <td>30.0</td>\n",
       "      <td>2024-10-01</td>\n",
       "      <td>0.000000</td>\n",
       "      <td>0.000000</td>\n",
       "      <td>3613.117920</td>\n",
       "      <td>468.038483</td>\n",
       "      <td>2024</td>\n",
       "    </tr>\n",
       "    <tr>\n",
       "      <th>1438</th>\n",
       "      <td>30.0</td>\n",
       "      <td>2024-11-01</td>\n",
       "      <td>0.000000</td>\n",
       "      <td>0.000000</td>\n",
       "      <td>2782.801758</td>\n",
       "      <td>522.344116</td>\n",
       "      <td>2024</td>\n",
       "    </tr>\n",
       "    <tr>\n",
       "      <th>1439</th>\n",
       "      <td>30.0</td>\n",
       "      <td>2024-12-01</td>\n",
       "      <td>0.000000</td>\n",
       "      <td>0.000000</td>\n",
       "      <td>1826.062256</td>\n",
       "      <td>162.807510</td>\n",
       "      <td>2024</td>\n",
       "    </tr>\n",
       "  </tbody>\n",
       "</table>\n",
       "<p>1440 rows × 7 columns</p>\n",
       "</div>"
      ],
      "text/plain": [
       "      idCliente      Fecha  Active_energy  Reactive_energy  \\\n",
       "0           1.0 2021-01-01    1179.028493       415.713658   \n",
       "1           1.0 2021-02-01    1490.128945       231.737781   \n",
       "2           1.0 2021-03-01    1728.240344       978.845693   \n",
       "3           1.0 2021-04-01    2228.447578      1304.500199   \n",
       "4           1.0 2021-05-01    2190.919624      1269.936238   \n",
       "...         ...        ...            ...              ...   \n",
       "1435       30.0 2024-08-01       0.000000         0.000000   \n",
       "1436       30.0 2024-09-01       0.000000         0.000000   \n",
       "1437       30.0 2024-10-01       0.000000         0.000000   \n",
       "1438       30.0 2024-11-01       0.000000         0.000000   \n",
       "1439       30.0 2024-12-01       0.000000         0.000000   \n",
       "\n",
       "      Forecast_Energia_Activa  Forecast_Energia_Reactiva   Año  \n",
       "0                    0.000000                   0.000000  2021  \n",
       "1                    0.000000                   0.000000  2021  \n",
       "2                    0.000000                   0.000000  2021  \n",
       "3                    0.000000                   0.000000  2021  \n",
       "4                    0.000000                   0.000000  2021  \n",
       "...                       ...                        ...   ...  \n",
       "1435              3838.345947                  37.353306  2024  \n",
       "1436              3995.521729                 102.005341  2024  \n",
       "1437              3613.117920                 468.038483  2024  \n",
       "1438              2782.801758                 522.344116  2024  \n",
       "1439              1826.062256                 162.807510  2024  \n",
       "\n",
       "[1440 rows x 7 columns]"
      ]
     },
     "execution_count": 183,
     "metadata": {},
     "output_type": "execute_result"
    }
   ],
   "source": [
    "# Concatenación los dataframmes df2 y df1\n",
    "df = pd.concat([df2, df1])\n",
    "\n",
    "# Transformación de la columna Fecha a tipo datetime\n",
    "df['Fecha'] = pd.to_datetime(df['Fecha'].dt.strftime('%b-%Y'), errors='coerce')\n",
    "df = df[['idCliente', 'Fecha', 'Active_energy', 'Reactive_energy', 'Forecast_Energia_Activa', 'Forecast_Energia_Reactiva']]\n",
    "df = df.groupby(['idCliente', 'Fecha']).sum().reset_index()\n",
    "df['Año'] = df['Fecha'].dt.year\n",
    "df"
   ]
  },
  {
   "cell_type": "code",
   "execution_count": 176,
   "id": "24352abb",
   "metadata": {},
   "outputs": [],
   "source": [
    "df.to_csv('Regresión EA - ER.csv')"
   ]
  },
  {
   "cell_type": "code",
   "execution_count": 165,
   "id": "2bfd05ff",
   "metadata": {},
   "outputs": [
    {
     "data": {
      "text/html": [
       "<div>\n",
       "<style scoped>\n",
       "    .dataframe tbody tr th:only-of-type {\n",
       "        vertical-align: middle;\n",
       "    }\n",
       "\n",
       "    .dataframe tbody tr th {\n",
       "        vertical-align: top;\n",
       "    }\n",
       "\n",
       "    .dataframe thead th {\n",
       "        text-align: right;\n",
       "    }\n",
       "</style>\n",
       "<table border=\"1\" class=\"dataframe\">\n",
       "  <thead>\n",
       "    <tr style=\"text-align: right;\">\n",
       "      <th></th>\n",
       "      <th>Fecha</th>\n",
       "      <th>Active_energy</th>\n",
       "      <th>Reactive_energy</th>\n",
       "      <th>Forecast_Energia_Activa</th>\n",
       "      <th>Forecast_Energia_Reactiva</th>\n",
       "    </tr>\n",
       "  </thead>\n",
       "  <tbody>\n",
       "    <tr>\n",
       "      <th>0</th>\n",
       "      <td>2021-01-01</td>\n",
       "      <td>23391.109853</td>\n",
       "      <td>16032.867024</td>\n",
       "      <td>0.000000</td>\n",
       "      <td>0.000000</td>\n",
       "    </tr>\n",
       "    <tr>\n",
       "      <th>1</th>\n",
       "      <td>2021-02-01</td>\n",
       "      <td>22288.437982</td>\n",
       "      <td>14672.832897</td>\n",
       "      <td>0.000000</td>\n",
       "      <td>0.000000</td>\n",
       "    </tr>\n",
       "    <tr>\n",
       "      <th>2</th>\n",
       "      <td>2021-03-01</td>\n",
       "      <td>26048.402416</td>\n",
       "      <td>18326.167337</td>\n",
       "      <td>0.000000</td>\n",
       "      <td>0.000000</td>\n",
       "    </tr>\n",
       "    <tr>\n",
       "      <th>3</th>\n",
       "      <td>2021-04-01</td>\n",
       "      <td>25853.115672</td>\n",
       "      <td>17784.814414</td>\n",
       "      <td>0.000000</td>\n",
       "      <td>0.000000</td>\n",
       "    </tr>\n",
       "    <tr>\n",
       "      <th>4</th>\n",
       "      <td>2021-05-01</td>\n",
       "      <td>26534.942537</td>\n",
       "      <td>18724.404675</td>\n",
       "      <td>0.000000</td>\n",
       "      <td>0.000000</td>\n",
       "    </tr>\n",
       "    <tr>\n",
       "      <th>5</th>\n",
       "      <td>2021-06-01</td>\n",
       "      <td>25305.670241</td>\n",
       "      <td>17149.131039</td>\n",
       "      <td>0.000000</td>\n",
       "      <td>0.000000</td>\n",
       "    </tr>\n",
       "    <tr>\n",
       "      <th>6</th>\n",
       "      <td>2021-07-01</td>\n",
       "      <td>23536.845564</td>\n",
       "      <td>14489.421053</td>\n",
       "      <td>0.000000</td>\n",
       "      <td>0.000000</td>\n",
       "    </tr>\n",
       "    <tr>\n",
       "      <th>7</th>\n",
       "      <td>2021-08-01</td>\n",
       "      <td>28949.809435</td>\n",
       "      <td>17226.163106</td>\n",
       "      <td>0.000000</td>\n",
       "      <td>0.000000</td>\n",
       "    </tr>\n",
       "    <tr>\n",
       "      <th>8</th>\n",
       "      <td>2021-09-01</td>\n",
       "      <td>30152.117139</td>\n",
       "      <td>18492.604029</td>\n",
       "      <td>0.000000</td>\n",
       "      <td>0.000000</td>\n",
       "    </tr>\n",
       "    <tr>\n",
       "      <th>9</th>\n",
       "      <td>2021-10-01</td>\n",
       "      <td>35405.449279</td>\n",
       "      <td>20185.231634</td>\n",
       "      <td>0.000000</td>\n",
       "      <td>0.000000</td>\n",
       "    </tr>\n",
       "    <tr>\n",
       "      <th>10</th>\n",
       "      <td>2021-11-01</td>\n",
       "      <td>36643.564433</td>\n",
       "      <td>20790.942668</td>\n",
       "      <td>0.000000</td>\n",
       "      <td>0.000000</td>\n",
       "    </tr>\n",
       "    <tr>\n",
       "      <th>11</th>\n",
       "      <td>2021-12-01</td>\n",
       "      <td>37973.432517</td>\n",
       "      <td>18781.861999</td>\n",
       "      <td>0.000000</td>\n",
       "      <td>0.000000</td>\n",
       "    </tr>\n",
       "    <tr>\n",
       "      <th>12</th>\n",
       "      <td>2022-01-01</td>\n",
       "      <td>42060.564014</td>\n",
       "      <td>19607.447659</td>\n",
       "      <td>0.000000</td>\n",
       "      <td>0.000000</td>\n",
       "    </tr>\n",
       "    <tr>\n",
       "      <th>13</th>\n",
       "      <td>2022-02-01</td>\n",
       "      <td>37169.021964</td>\n",
       "      <td>16639.124059</td>\n",
       "      <td>0.000000</td>\n",
       "      <td>0.000000</td>\n",
       "    </tr>\n",
       "    <tr>\n",
       "      <th>14</th>\n",
       "      <td>2022-03-01</td>\n",
       "      <td>40182.363414</td>\n",
       "      <td>18731.141606</td>\n",
       "      <td>0.000000</td>\n",
       "      <td>0.000000</td>\n",
       "    </tr>\n",
       "    <tr>\n",
       "      <th>15</th>\n",
       "      <td>2022-04-01</td>\n",
       "      <td>27677.701742</td>\n",
       "      <td>14946.223384</td>\n",
       "      <td>0.000000</td>\n",
       "      <td>0.000000</td>\n",
       "    </tr>\n",
       "    <tr>\n",
       "      <th>16</th>\n",
       "      <td>2022-05-01</td>\n",
       "      <td>21037.784513</td>\n",
       "      <td>10664.527006</td>\n",
       "      <td>0.000000</td>\n",
       "      <td>0.000000</td>\n",
       "    </tr>\n",
       "    <tr>\n",
       "      <th>17</th>\n",
       "      <td>2022-06-01</td>\n",
       "      <td>22704.738523</td>\n",
       "      <td>12239.983553</td>\n",
       "      <td>0.000000</td>\n",
       "      <td>0.000000</td>\n",
       "    </tr>\n",
       "    <tr>\n",
       "      <th>18</th>\n",
       "      <td>2022-07-01</td>\n",
       "      <td>23700.513406</td>\n",
       "      <td>13008.632312</td>\n",
       "      <td>0.000000</td>\n",
       "      <td>0.000000</td>\n",
       "    </tr>\n",
       "    <tr>\n",
       "      <th>19</th>\n",
       "      <td>2022-08-01</td>\n",
       "      <td>21422.138913</td>\n",
       "      <td>12308.327869</td>\n",
       "      <td>0.000000</td>\n",
       "      <td>0.000000</td>\n",
       "    </tr>\n",
       "    <tr>\n",
       "      <th>20</th>\n",
       "      <td>2022-09-01</td>\n",
       "      <td>19796.388723</td>\n",
       "      <td>12748.098837</td>\n",
       "      <td>0.000000</td>\n",
       "      <td>0.000000</td>\n",
       "    </tr>\n",
       "    <tr>\n",
       "      <th>21</th>\n",
       "      <td>2022-10-01</td>\n",
       "      <td>16520.874249</td>\n",
       "      <td>11347.095257</td>\n",
       "      <td>0.000000</td>\n",
       "      <td>0.000000</td>\n",
       "    </tr>\n",
       "    <tr>\n",
       "      <th>22</th>\n",
       "      <td>2022-11-01</td>\n",
       "      <td>14072.534795</td>\n",
       "      <td>10432.481280</td>\n",
       "      <td>0.000000</td>\n",
       "      <td>0.000000</td>\n",
       "    </tr>\n",
       "    <tr>\n",
       "      <th>23</th>\n",
       "      <td>2022-12-01</td>\n",
       "      <td>14767.588589</td>\n",
       "      <td>11225.585444</td>\n",
       "      <td>0.000000</td>\n",
       "      <td>0.000000</td>\n",
       "    </tr>\n",
       "    <tr>\n",
       "      <th>24</th>\n",
       "      <td>2023-01-01</td>\n",
       "      <td>13543.663647</td>\n",
       "      <td>9883.366230</td>\n",
       "      <td>0.000000</td>\n",
       "      <td>0.000000</td>\n",
       "    </tr>\n",
       "    <tr>\n",
       "      <th>25</th>\n",
       "      <td>2023-02-01</td>\n",
       "      <td>11789.718142</td>\n",
       "      <td>8666.825077</td>\n",
       "      <td>0.000000</td>\n",
       "      <td>0.000000</td>\n",
       "    </tr>\n",
       "    <tr>\n",
       "      <th>26</th>\n",
       "      <td>2023-03-01</td>\n",
       "      <td>13638.769269</td>\n",
       "      <td>9498.540550</td>\n",
       "      <td>0.000000</td>\n",
       "      <td>0.000000</td>\n",
       "    </tr>\n",
       "    <tr>\n",
       "      <th>27</th>\n",
       "      <td>2023-04-01</td>\n",
       "      <td>0.000000</td>\n",
       "      <td>0.000000</td>\n",
       "      <td>24315.638672</td>\n",
       "      <td>16897.542969</td>\n",
       "    </tr>\n",
       "    <tr>\n",
       "      <th>28</th>\n",
       "      <td>2023-05-01</td>\n",
       "      <td>0.000000</td>\n",
       "      <td>0.000000</td>\n",
       "      <td>25932.916016</td>\n",
       "      <td>18482.195312</td>\n",
       "    </tr>\n",
       "    <tr>\n",
       "      <th>29</th>\n",
       "      <td>2023-06-01</td>\n",
       "      <td>0.000000</td>\n",
       "      <td>0.000000</td>\n",
       "      <td>27824.724609</td>\n",
       "      <td>17286.496094</td>\n",
       "    </tr>\n",
       "    <tr>\n",
       "      <th>30</th>\n",
       "      <td>2023-07-01</td>\n",
       "      <td>0.000000</td>\n",
       "      <td>0.000000</td>\n",
       "      <td>28115.052734</td>\n",
       "      <td>15960.333984</td>\n",
       "    </tr>\n",
       "    <tr>\n",
       "      <th>31</th>\n",
       "      <td>2023-08-01</td>\n",
       "      <td>0.000000</td>\n",
       "      <td>0.000000</td>\n",
       "      <td>27033.984375</td>\n",
       "      <td>14724.359375</td>\n",
       "    </tr>\n",
       "    <tr>\n",
       "      <th>32</th>\n",
       "      <td>2023-09-01</td>\n",
       "      <td>0.000000</td>\n",
       "      <td>0.000000</td>\n",
       "      <td>28025.351562</td>\n",
       "      <td>14612.563477</td>\n",
       "    </tr>\n",
       "    <tr>\n",
       "      <th>33</th>\n",
       "      <td>2023-10-01</td>\n",
       "      <td>0.000000</td>\n",
       "      <td>0.000000</td>\n",
       "      <td>29912.216797</td>\n",
       "      <td>18602.947266</td>\n",
       "    </tr>\n",
       "    <tr>\n",
       "      <th>34</th>\n",
       "      <td>2023-11-01</td>\n",
       "      <td>0.000000</td>\n",
       "      <td>0.000000</td>\n",
       "      <td>28895.667969</td>\n",
       "      <td>19491.578125</td>\n",
       "    </tr>\n",
       "    <tr>\n",
       "      <th>35</th>\n",
       "      <td>2023-12-01</td>\n",
       "      <td>0.000000</td>\n",
       "      <td>0.000000</td>\n",
       "      <td>32326.046875</td>\n",
       "      <td>20120.630859</td>\n",
       "    </tr>\n",
       "    <tr>\n",
       "      <th>36</th>\n",
       "      <td>2024-01-01</td>\n",
       "      <td>0.000000</td>\n",
       "      <td>0.000000</td>\n",
       "      <td>55953.578125</td>\n",
       "      <td>26936.599609</td>\n",
       "    </tr>\n",
       "    <tr>\n",
       "      <th>37</th>\n",
       "      <td>2024-02-01</td>\n",
       "      <td>0.000000</td>\n",
       "      <td>0.000000</td>\n",
       "      <td>47150.468750</td>\n",
       "      <td>22477.033203</td>\n",
       "    </tr>\n",
       "    <tr>\n",
       "      <th>38</th>\n",
       "      <td>2024-03-01</td>\n",
       "      <td>0.000000</td>\n",
       "      <td>0.000000</td>\n",
       "      <td>47122.843750</td>\n",
       "      <td>20528.478516</td>\n",
       "    </tr>\n",
       "    <tr>\n",
       "      <th>39</th>\n",
       "      <td>2024-04-01</td>\n",
       "      <td>0.000000</td>\n",
       "      <td>0.000000</td>\n",
       "      <td>45450.117188</td>\n",
       "      <td>19694.380859</td>\n",
       "    </tr>\n",
       "    <tr>\n",
       "      <th>40</th>\n",
       "      <td>2024-05-01</td>\n",
       "      <td>0.000000</td>\n",
       "      <td>0.000000</td>\n",
       "      <td>36731.312500</td>\n",
       "      <td>20030.707031</td>\n",
       "    </tr>\n",
       "    <tr>\n",
       "      <th>41</th>\n",
       "      <td>2024-06-01</td>\n",
       "      <td>0.000000</td>\n",
       "      <td>0.000000</td>\n",
       "      <td>29645.646484</td>\n",
       "      <td>14720.183594</td>\n",
       "    </tr>\n",
       "    <tr>\n",
       "      <th>42</th>\n",
       "      <td>2024-07-01</td>\n",
       "      <td>0.000000</td>\n",
       "      <td>0.000000</td>\n",
       "      <td>41216.437500</td>\n",
       "      <td>18029.371094</td>\n",
       "    </tr>\n",
       "    <tr>\n",
       "      <th>43</th>\n",
       "      <td>2024-08-01</td>\n",
       "      <td>0.000000</td>\n",
       "      <td>0.000000</td>\n",
       "      <td>49219.929688</td>\n",
       "      <td>19751.468750</td>\n",
       "    </tr>\n",
       "    <tr>\n",
       "      <th>44</th>\n",
       "      <td>2024-09-01</td>\n",
       "      <td>0.000000</td>\n",
       "      <td>0.000000</td>\n",
       "      <td>50530.300781</td>\n",
       "      <td>21121.617188</td>\n",
       "    </tr>\n",
       "    <tr>\n",
       "      <th>45</th>\n",
       "      <td>2024-10-01</td>\n",
       "      <td>0.000000</td>\n",
       "      <td>0.000000</td>\n",
       "      <td>48055.640625</td>\n",
       "      <td>27119.824219</td>\n",
       "    </tr>\n",
       "    <tr>\n",
       "      <th>46</th>\n",
       "      <td>2024-11-01</td>\n",
       "      <td>0.000000</td>\n",
       "      <td>0.000000</td>\n",
       "      <td>38727.464844</td>\n",
       "      <td>23362.240234</td>\n",
       "    </tr>\n",
       "    <tr>\n",
       "      <th>47</th>\n",
       "      <td>2024-12-01</td>\n",
       "      <td>0.000000</td>\n",
       "      <td>0.000000</td>\n",
       "      <td>38321.558594</td>\n",
       "      <td>20331.337891</td>\n",
       "    </tr>\n",
       "  </tbody>\n",
       "</table>\n",
       "</div>"
      ],
      "text/plain": [
       "        Fecha  Active_energy  Reactive_energy  Forecast_Energia_Activa  \\\n",
       "0  2021-01-01   23391.109853     16032.867024                 0.000000   \n",
       "1  2021-02-01   22288.437982     14672.832897                 0.000000   \n",
       "2  2021-03-01   26048.402416     18326.167337                 0.000000   \n",
       "3  2021-04-01   25853.115672     17784.814414                 0.000000   \n",
       "4  2021-05-01   26534.942537     18724.404675                 0.000000   \n",
       "5  2021-06-01   25305.670241     17149.131039                 0.000000   \n",
       "6  2021-07-01   23536.845564     14489.421053                 0.000000   \n",
       "7  2021-08-01   28949.809435     17226.163106                 0.000000   \n",
       "8  2021-09-01   30152.117139     18492.604029                 0.000000   \n",
       "9  2021-10-01   35405.449279     20185.231634                 0.000000   \n",
       "10 2021-11-01   36643.564433     20790.942668                 0.000000   \n",
       "11 2021-12-01   37973.432517     18781.861999                 0.000000   \n",
       "12 2022-01-01   42060.564014     19607.447659                 0.000000   \n",
       "13 2022-02-01   37169.021964     16639.124059                 0.000000   \n",
       "14 2022-03-01   40182.363414     18731.141606                 0.000000   \n",
       "15 2022-04-01   27677.701742     14946.223384                 0.000000   \n",
       "16 2022-05-01   21037.784513     10664.527006                 0.000000   \n",
       "17 2022-06-01   22704.738523     12239.983553                 0.000000   \n",
       "18 2022-07-01   23700.513406     13008.632312                 0.000000   \n",
       "19 2022-08-01   21422.138913     12308.327869                 0.000000   \n",
       "20 2022-09-01   19796.388723     12748.098837                 0.000000   \n",
       "21 2022-10-01   16520.874249     11347.095257                 0.000000   \n",
       "22 2022-11-01   14072.534795     10432.481280                 0.000000   \n",
       "23 2022-12-01   14767.588589     11225.585444                 0.000000   \n",
       "24 2023-01-01   13543.663647      9883.366230                 0.000000   \n",
       "25 2023-02-01   11789.718142      8666.825077                 0.000000   \n",
       "26 2023-03-01   13638.769269      9498.540550                 0.000000   \n",
       "27 2023-04-01       0.000000         0.000000             24315.638672   \n",
       "28 2023-05-01       0.000000         0.000000             25932.916016   \n",
       "29 2023-06-01       0.000000         0.000000             27824.724609   \n",
       "30 2023-07-01       0.000000         0.000000             28115.052734   \n",
       "31 2023-08-01       0.000000         0.000000             27033.984375   \n",
       "32 2023-09-01       0.000000         0.000000             28025.351562   \n",
       "33 2023-10-01       0.000000         0.000000             29912.216797   \n",
       "34 2023-11-01       0.000000         0.000000             28895.667969   \n",
       "35 2023-12-01       0.000000         0.000000             32326.046875   \n",
       "36 2024-01-01       0.000000         0.000000             55953.578125   \n",
       "37 2024-02-01       0.000000         0.000000             47150.468750   \n",
       "38 2024-03-01       0.000000         0.000000             47122.843750   \n",
       "39 2024-04-01       0.000000         0.000000             45450.117188   \n",
       "40 2024-05-01       0.000000         0.000000             36731.312500   \n",
       "41 2024-06-01       0.000000         0.000000             29645.646484   \n",
       "42 2024-07-01       0.000000         0.000000             41216.437500   \n",
       "43 2024-08-01       0.000000         0.000000             49219.929688   \n",
       "44 2024-09-01       0.000000         0.000000             50530.300781   \n",
       "45 2024-10-01       0.000000         0.000000             48055.640625   \n",
       "46 2024-11-01       0.000000         0.000000             38727.464844   \n",
       "47 2024-12-01       0.000000         0.000000             38321.558594   \n",
       "\n",
       "    Forecast_Energia_Reactiva  \n",
       "0                    0.000000  \n",
       "1                    0.000000  \n",
       "2                    0.000000  \n",
       "3                    0.000000  \n",
       "4                    0.000000  \n",
       "5                    0.000000  \n",
       "6                    0.000000  \n",
       "7                    0.000000  \n",
       "8                    0.000000  \n",
       "9                    0.000000  \n",
       "10                   0.000000  \n",
       "11                   0.000000  \n",
       "12                   0.000000  \n",
       "13                   0.000000  \n",
       "14                   0.000000  \n",
       "15                   0.000000  \n",
       "16                   0.000000  \n",
       "17                   0.000000  \n",
       "18                   0.000000  \n",
       "19                   0.000000  \n",
       "20                   0.000000  \n",
       "21                   0.000000  \n",
       "22                   0.000000  \n",
       "23                   0.000000  \n",
       "24                   0.000000  \n",
       "25                   0.000000  \n",
       "26                   0.000000  \n",
       "27               16897.542969  \n",
       "28               18482.195312  \n",
       "29               17286.496094  \n",
       "30               15960.333984  \n",
       "31               14724.359375  \n",
       "32               14612.563477  \n",
       "33               18602.947266  \n",
       "34               19491.578125  \n",
       "35               20120.630859  \n",
       "36               26936.599609  \n",
       "37               22477.033203  \n",
       "38               20528.478516  \n",
       "39               19694.380859  \n",
       "40               20030.707031  \n",
       "41               14720.183594  \n",
       "42               18029.371094  \n",
       "43               19751.468750  \n",
       "44               21121.617188  \n",
       "45               27119.824219  \n",
       "46               23362.240234  \n",
       "47               20331.337891  "
      ]
     },
     "execution_count": 165,
     "metadata": {},
     "output_type": "execute_result"
    }
   ],
   "source": [
    "# Concatenación los dataframmes df2 y df1\n",
    "df = pd.concat([df2, df1])\n",
    "\n",
    "# Transformación de la columna Fecha a tipo datetime\n",
    "df['Fecha'] = pd.to_datetime(df['Fecha'].dt.strftime('%b-%Y'), errors='coerce')\n",
    "\n",
    "# Selección de las columnas necesarias\n",
    "df = df[['Fecha', 'Active_energy', 'Reactive_energy', 'Forecast_Energia_Activa', 'Forecast_Energia_Reactiva']]\n",
    "\n",
    "# Agrupación por la columna Fecha sumando los valores de las demás columnas\n",
    "df = df.groupby(['Fecha']).sum().reset_index()\n",
    "df"
   ]
  },
  {
   "cell_type": "code",
   "execution_count": 178,
   "id": "cd8f2c86",
   "metadata": {},
   "outputs": [
    {
     "data": {
      "text/plain": [
       "array([ 1.,  2.,  3.,  4.,  5.,  6.,  7.,  8.,  9., 10., 11., 12., 13.,\n",
       "       14., 15., 16., 17., 18., 19., 20., 21., 22., 23., 24., 25., 26.,\n",
       "       27., 28., 29., 30.,  5.])"
      ]
     },
     "execution_count": 178,
     "metadata": {},
     "output_type": "execute_result"
    }
   ],
   "source": [
    "df.idCliente.unique()"
   ]
  },
  {
   "cell_type": "code",
   "execution_count": 169,
   "id": "34d85e53",
   "metadata": {
    "scrolled": false
   },
   "outputs": [
    {
     "data": {
      "application/vnd.plotly.v1+json": {
       "config": {
        "plotlyServerURL": "https://plot.ly"
       },
       "data": [
        {
         "hovertemplate": "variable=Active_energy<br>Fecha=%{x}<br>Energía Activa=%{y}<extra></extra>",
         "legendgroup": "Active_energy",
         "line": {
          "color": "#636efa",
          "dash": "solid"
         },
         "marker": {
          "symbol": "circle"
         },
         "mode": "lines",
         "name": "Active_energy",
         "orientation": "v",
         "showlegend": true,
         "type": "scatter",
         "x": [
          "2021-01-01T00:00:00",
          "2021-02-01T00:00:00",
          "2021-03-01T00:00:00",
          "2021-04-01T00:00:00",
          "2021-05-01T00:00:00",
          "2021-06-01T00:00:00",
          "2021-07-01T00:00:00",
          "2021-08-01T00:00:00",
          "2021-09-01T00:00:00",
          "2021-10-01T00:00:00",
          "2021-11-01T00:00:00",
          "2021-12-01T00:00:00",
          "2022-01-01T00:00:00",
          "2022-02-01T00:00:00",
          "2022-03-01T00:00:00",
          "2022-04-01T00:00:00",
          "2022-05-01T00:00:00",
          "2022-06-01T00:00:00",
          "2022-07-01T00:00:00",
          "2022-08-01T00:00:00",
          "2022-09-01T00:00:00",
          "2022-10-01T00:00:00",
          "2022-11-01T00:00:00",
          "2022-12-01T00:00:00",
          "2023-01-01T00:00:00",
          "2023-02-01T00:00:00",
          "2023-03-01T00:00:00",
          "2023-04-01T00:00:00",
          "2023-05-01T00:00:00",
          "2023-06-01T00:00:00",
          "2023-07-01T00:00:00",
          "2023-08-01T00:00:00",
          "2023-09-01T00:00:00",
          "2023-10-01T00:00:00",
          "2023-11-01T00:00:00",
          "2023-12-01T00:00:00",
          "2024-01-01T00:00:00",
          "2024-02-01T00:00:00",
          "2024-03-01T00:00:00",
          "2024-04-01T00:00:00",
          "2024-05-01T00:00:00",
          "2024-06-01T00:00:00",
          "2024-07-01T00:00:00",
          "2024-08-01T00:00:00",
          "2024-09-01T00:00:00",
          "2024-10-01T00:00:00",
          "2024-11-01T00:00:00",
          "2024-12-01T00:00:00"
         ],
         "xaxis": "x",
         "y": [
          23391.109853405997,
          22288.43798217361,
          26048.402416473193,
          25853.115671913587,
          26534.942536885286,
          25305.670241430555,
          23536.84556371215,
          28949.80943456018,
          30152.11713891928,
          35405.44927867236,
          36643.56443332718,
          37973.43251676616,
          42060.564014195836,
          37169.02196427787,
          40182.36341413219,
          27677.701741723333,
          21037.784512661467,
          22704.73852281474,
          23700.513406000755,
          21422.138912976585,
          19796.388723176366,
          16520.874248675613,
          14072.534794713813,
          14767.588588807406,
          13543.663646721066,
          11789.718141968808,
          13638.769268701175,
          "",
          "",
          "",
          "",
          "",
          "",
          "",
          "",
          "",
          "",
          "",
          "",
          "",
          "",
          "",
          "",
          "",
          "",
          "",
          "",
          ""
         ],
         "yaxis": "y"
        },
        {
         "hovertemplate": "variable=Forecast_Energia_Activa<br>Fecha=%{x}<br>Energía Activa=%{y}<extra></extra>",
         "legendgroup": "Forecast_Energia_Activa",
         "line": {
          "color": "#EF553B",
          "dash": "solid"
         },
         "marker": {
          "symbol": "circle"
         },
         "mode": "lines",
         "name": "Forecast_Energia_Activa",
         "orientation": "v",
         "showlegend": true,
         "type": "scatter",
         "x": [
          "2021-01-01T00:00:00",
          "2021-02-01T00:00:00",
          "2021-03-01T00:00:00",
          "2021-04-01T00:00:00",
          "2021-05-01T00:00:00",
          "2021-06-01T00:00:00",
          "2021-07-01T00:00:00",
          "2021-08-01T00:00:00",
          "2021-09-01T00:00:00",
          "2021-10-01T00:00:00",
          "2021-11-01T00:00:00",
          "2021-12-01T00:00:00",
          "2022-01-01T00:00:00",
          "2022-02-01T00:00:00",
          "2022-03-01T00:00:00",
          "2022-04-01T00:00:00",
          "2022-05-01T00:00:00",
          "2022-06-01T00:00:00",
          "2022-07-01T00:00:00",
          "2022-08-01T00:00:00",
          "2022-09-01T00:00:00",
          "2022-10-01T00:00:00",
          "2022-11-01T00:00:00",
          "2022-12-01T00:00:00",
          "2023-01-01T00:00:00",
          "2023-02-01T00:00:00",
          "2023-03-01T00:00:00",
          "2023-04-01T00:00:00",
          "2023-05-01T00:00:00",
          "2023-06-01T00:00:00",
          "2023-07-01T00:00:00",
          "2023-08-01T00:00:00",
          "2023-09-01T00:00:00",
          "2023-10-01T00:00:00",
          "2023-11-01T00:00:00",
          "2023-12-01T00:00:00",
          "2024-01-01T00:00:00",
          "2024-02-01T00:00:00",
          "2024-03-01T00:00:00",
          "2024-04-01T00:00:00",
          "2024-05-01T00:00:00",
          "2024-06-01T00:00:00",
          "2024-07-01T00:00:00",
          "2024-08-01T00:00:00",
          "2024-09-01T00:00:00",
          "2024-10-01T00:00:00",
          "2024-11-01T00:00:00",
          "2024-12-01T00:00:00"
         ],
         "xaxis": "x",
         "y": [
          "",
          "",
          "",
          "",
          "",
          "",
          "",
          "",
          "",
          "",
          "",
          "",
          "",
          "",
          "",
          "",
          "",
          "",
          "",
          "",
          "",
          "",
          "",
          "",
          "",
          "",
          "",
          24315.638671875,
          25932.916015625,
          27824.724609375,
          28115.052734375,
          27033.984375,
          28025.3515625,
          29912.216796875,
          28895.66796875,
          32326.046875,
          55953.578125,
          47150.46875,
          47122.84375,
          45450.1171875,
          36731.3125,
          29645.646484375,
          41216.4375,
          49219.9296875,
          50530.30078125,
          48055.640625,
          38727.46484375,
          38321.55859375
         ],
         "yaxis": "y"
        }
       ],
       "layout": {
        "legend": {
         "title": {
          "text": "variable"
         },
         "tracegroupgap": 0
        },
        "template": {
         "data": {
          "bar": [
           {
            "error_x": {
             "color": "#2a3f5f"
            },
            "error_y": {
             "color": "#2a3f5f"
            },
            "marker": {
             "line": {
              "color": "#E5ECF6",
              "width": 0.5
             },
             "pattern": {
              "fillmode": "overlay",
              "size": 10,
              "solidity": 0.2
             }
            },
            "type": "bar"
           }
          ],
          "barpolar": [
           {
            "marker": {
             "line": {
              "color": "#E5ECF6",
              "width": 0.5
             },
             "pattern": {
              "fillmode": "overlay",
              "size": 10,
              "solidity": 0.2
             }
            },
            "type": "barpolar"
           }
          ],
          "carpet": [
           {
            "aaxis": {
             "endlinecolor": "#2a3f5f",
             "gridcolor": "white",
             "linecolor": "white",
             "minorgridcolor": "white",
             "startlinecolor": "#2a3f5f"
            },
            "baxis": {
             "endlinecolor": "#2a3f5f",
             "gridcolor": "white",
             "linecolor": "white",
             "minorgridcolor": "white",
             "startlinecolor": "#2a3f5f"
            },
            "type": "carpet"
           }
          ],
          "choropleth": [
           {
            "colorbar": {
             "outlinewidth": 0,
             "ticks": ""
            },
            "type": "choropleth"
           }
          ],
          "contour": [
           {
            "colorbar": {
             "outlinewidth": 0,
             "ticks": ""
            },
            "colorscale": [
             [
              0,
              "#0d0887"
             ],
             [
              0.1111111111111111,
              "#46039f"
             ],
             [
              0.2222222222222222,
              "#7201a8"
             ],
             [
              0.3333333333333333,
              "#9c179e"
             ],
             [
              0.4444444444444444,
              "#bd3786"
             ],
             [
              0.5555555555555556,
              "#d8576b"
             ],
             [
              0.6666666666666666,
              "#ed7953"
             ],
             [
              0.7777777777777778,
              "#fb9f3a"
             ],
             [
              0.8888888888888888,
              "#fdca26"
             ],
             [
              1,
              "#f0f921"
             ]
            ],
            "type": "contour"
           }
          ],
          "contourcarpet": [
           {
            "colorbar": {
             "outlinewidth": 0,
             "ticks": ""
            },
            "type": "contourcarpet"
           }
          ],
          "heatmap": [
           {
            "colorbar": {
             "outlinewidth": 0,
             "ticks": ""
            },
            "colorscale": [
             [
              0,
              "#0d0887"
             ],
             [
              0.1111111111111111,
              "#46039f"
             ],
             [
              0.2222222222222222,
              "#7201a8"
             ],
             [
              0.3333333333333333,
              "#9c179e"
             ],
             [
              0.4444444444444444,
              "#bd3786"
             ],
             [
              0.5555555555555556,
              "#d8576b"
             ],
             [
              0.6666666666666666,
              "#ed7953"
             ],
             [
              0.7777777777777778,
              "#fb9f3a"
             ],
             [
              0.8888888888888888,
              "#fdca26"
             ],
             [
              1,
              "#f0f921"
             ]
            ],
            "type": "heatmap"
           }
          ],
          "heatmapgl": [
           {
            "colorbar": {
             "outlinewidth": 0,
             "ticks": ""
            },
            "colorscale": [
             [
              0,
              "#0d0887"
             ],
             [
              0.1111111111111111,
              "#46039f"
             ],
             [
              0.2222222222222222,
              "#7201a8"
             ],
             [
              0.3333333333333333,
              "#9c179e"
             ],
             [
              0.4444444444444444,
              "#bd3786"
             ],
             [
              0.5555555555555556,
              "#d8576b"
             ],
             [
              0.6666666666666666,
              "#ed7953"
             ],
             [
              0.7777777777777778,
              "#fb9f3a"
             ],
             [
              0.8888888888888888,
              "#fdca26"
             ],
             [
              1,
              "#f0f921"
             ]
            ],
            "type": "heatmapgl"
           }
          ],
          "histogram": [
           {
            "marker": {
             "pattern": {
              "fillmode": "overlay",
              "size": 10,
              "solidity": 0.2
             }
            },
            "type": "histogram"
           }
          ],
          "histogram2d": [
           {
            "colorbar": {
             "outlinewidth": 0,
             "ticks": ""
            },
            "colorscale": [
             [
              0,
              "#0d0887"
             ],
             [
              0.1111111111111111,
              "#46039f"
             ],
             [
              0.2222222222222222,
              "#7201a8"
             ],
             [
              0.3333333333333333,
              "#9c179e"
             ],
             [
              0.4444444444444444,
              "#bd3786"
             ],
             [
              0.5555555555555556,
              "#d8576b"
             ],
             [
              0.6666666666666666,
              "#ed7953"
             ],
             [
              0.7777777777777778,
              "#fb9f3a"
             ],
             [
              0.8888888888888888,
              "#fdca26"
             ],
             [
              1,
              "#f0f921"
             ]
            ],
            "type": "histogram2d"
           }
          ],
          "histogram2dcontour": [
           {
            "colorbar": {
             "outlinewidth": 0,
             "ticks": ""
            },
            "colorscale": [
             [
              0,
              "#0d0887"
             ],
             [
              0.1111111111111111,
              "#46039f"
             ],
             [
              0.2222222222222222,
              "#7201a8"
             ],
             [
              0.3333333333333333,
              "#9c179e"
             ],
             [
              0.4444444444444444,
              "#bd3786"
             ],
             [
              0.5555555555555556,
              "#d8576b"
             ],
             [
              0.6666666666666666,
              "#ed7953"
             ],
             [
              0.7777777777777778,
              "#fb9f3a"
             ],
             [
              0.8888888888888888,
              "#fdca26"
             ],
             [
              1,
              "#f0f921"
             ]
            ],
            "type": "histogram2dcontour"
           }
          ],
          "mesh3d": [
           {
            "colorbar": {
             "outlinewidth": 0,
             "ticks": ""
            },
            "type": "mesh3d"
           }
          ],
          "parcoords": [
           {
            "line": {
             "colorbar": {
              "outlinewidth": 0,
              "ticks": ""
             }
            },
            "type": "parcoords"
           }
          ],
          "pie": [
           {
            "automargin": true,
            "type": "pie"
           }
          ],
          "scatter": [
           {
            "fillpattern": {
             "fillmode": "overlay",
             "size": 10,
             "solidity": 0.2
            },
            "type": "scatter"
           }
          ],
          "scatter3d": [
           {
            "line": {
             "colorbar": {
              "outlinewidth": 0,
              "ticks": ""
             }
            },
            "marker": {
             "colorbar": {
              "outlinewidth": 0,
              "ticks": ""
             }
            },
            "type": "scatter3d"
           }
          ],
          "scattercarpet": [
           {
            "marker": {
             "colorbar": {
              "outlinewidth": 0,
              "ticks": ""
             }
            },
            "type": "scattercarpet"
           }
          ],
          "scattergeo": [
           {
            "marker": {
             "colorbar": {
              "outlinewidth": 0,
              "ticks": ""
             }
            },
            "type": "scattergeo"
           }
          ],
          "scattergl": [
           {
            "marker": {
             "colorbar": {
              "outlinewidth": 0,
              "ticks": ""
             }
            },
            "type": "scattergl"
           }
          ],
          "scattermapbox": [
           {
            "marker": {
             "colorbar": {
              "outlinewidth": 0,
              "ticks": ""
             }
            },
            "type": "scattermapbox"
           }
          ],
          "scatterpolar": [
           {
            "marker": {
             "colorbar": {
              "outlinewidth": 0,
              "ticks": ""
             }
            },
            "type": "scatterpolar"
           }
          ],
          "scatterpolargl": [
           {
            "marker": {
             "colorbar": {
              "outlinewidth": 0,
              "ticks": ""
             }
            },
            "type": "scatterpolargl"
           }
          ],
          "scatterternary": [
           {
            "marker": {
             "colorbar": {
              "outlinewidth": 0,
              "ticks": ""
             }
            },
            "type": "scatterternary"
           }
          ],
          "surface": [
           {
            "colorbar": {
             "outlinewidth": 0,
             "ticks": ""
            },
            "colorscale": [
             [
              0,
              "#0d0887"
             ],
             [
              0.1111111111111111,
              "#46039f"
             ],
             [
              0.2222222222222222,
              "#7201a8"
             ],
             [
              0.3333333333333333,
              "#9c179e"
             ],
             [
              0.4444444444444444,
              "#bd3786"
             ],
             [
              0.5555555555555556,
              "#d8576b"
             ],
             [
              0.6666666666666666,
              "#ed7953"
             ],
             [
              0.7777777777777778,
              "#fb9f3a"
             ],
             [
              0.8888888888888888,
              "#fdca26"
             ],
             [
              1,
              "#f0f921"
             ]
            ],
            "type": "surface"
           }
          ],
          "table": [
           {
            "cells": {
             "fill": {
              "color": "#EBF0F8"
             },
             "line": {
              "color": "white"
             }
            },
            "header": {
             "fill": {
              "color": "#C8D4E3"
             },
             "line": {
              "color": "white"
             }
            },
            "type": "table"
           }
          ]
         },
         "layout": {
          "annotationdefaults": {
           "arrowcolor": "#2a3f5f",
           "arrowhead": 0,
           "arrowwidth": 1
          },
          "autotypenumbers": "strict",
          "coloraxis": {
           "colorbar": {
            "outlinewidth": 0,
            "ticks": ""
           }
          },
          "colorscale": {
           "diverging": [
            [
             0,
             "#8e0152"
            ],
            [
             0.1,
             "#c51b7d"
            ],
            [
             0.2,
             "#de77ae"
            ],
            [
             0.3,
             "#f1b6da"
            ],
            [
             0.4,
             "#fde0ef"
            ],
            [
             0.5,
             "#f7f7f7"
            ],
            [
             0.6,
             "#e6f5d0"
            ],
            [
             0.7,
             "#b8e186"
            ],
            [
             0.8,
             "#7fbc41"
            ],
            [
             0.9,
             "#4d9221"
            ],
            [
             1,
             "#276419"
            ]
           ],
           "sequential": [
            [
             0,
             "#0d0887"
            ],
            [
             0.1111111111111111,
             "#46039f"
            ],
            [
             0.2222222222222222,
             "#7201a8"
            ],
            [
             0.3333333333333333,
             "#9c179e"
            ],
            [
             0.4444444444444444,
             "#bd3786"
            ],
            [
             0.5555555555555556,
             "#d8576b"
            ],
            [
             0.6666666666666666,
             "#ed7953"
            ],
            [
             0.7777777777777778,
             "#fb9f3a"
            ],
            [
             0.8888888888888888,
             "#fdca26"
            ],
            [
             1,
             "#f0f921"
            ]
           ],
           "sequentialminus": [
            [
             0,
             "#0d0887"
            ],
            [
             0.1111111111111111,
             "#46039f"
            ],
            [
             0.2222222222222222,
             "#7201a8"
            ],
            [
             0.3333333333333333,
             "#9c179e"
            ],
            [
             0.4444444444444444,
             "#bd3786"
            ],
            [
             0.5555555555555556,
             "#d8576b"
            ],
            [
             0.6666666666666666,
             "#ed7953"
            ],
            [
             0.7777777777777778,
             "#fb9f3a"
            ],
            [
             0.8888888888888888,
             "#fdca26"
            ],
            [
             1,
             "#f0f921"
            ]
           ]
          },
          "colorway": [
           "#636efa",
           "#EF553B",
           "#00cc96",
           "#ab63fa",
           "#FFA15A",
           "#19d3f3",
           "#FF6692",
           "#B6E880",
           "#FF97FF",
           "#FECB52"
          ],
          "font": {
           "color": "#2a3f5f"
          },
          "geo": {
           "bgcolor": "white",
           "lakecolor": "white",
           "landcolor": "#E5ECF6",
           "showlakes": true,
           "showland": true,
           "subunitcolor": "white"
          },
          "hoverlabel": {
           "align": "left"
          },
          "hovermode": "closest",
          "mapbox": {
           "style": "light"
          },
          "paper_bgcolor": "white",
          "plot_bgcolor": "#E5ECF6",
          "polar": {
           "angularaxis": {
            "gridcolor": "white",
            "linecolor": "white",
            "ticks": ""
           },
           "bgcolor": "#E5ECF6",
           "radialaxis": {
            "gridcolor": "white",
            "linecolor": "white",
            "ticks": ""
           }
          },
          "scene": {
           "xaxis": {
            "backgroundcolor": "#E5ECF6",
            "gridcolor": "white",
            "gridwidth": 2,
            "linecolor": "white",
            "showbackground": true,
            "ticks": "",
            "zerolinecolor": "white"
           },
           "yaxis": {
            "backgroundcolor": "#E5ECF6",
            "gridcolor": "white",
            "gridwidth": 2,
            "linecolor": "white",
            "showbackground": true,
            "ticks": "",
            "zerolinecolor": "white"
           },
           "zaxis": {
            "backgroundcolor": "#E5ECF6",
            "gridcolor": "white",
            "gridwidth": 2,
            "linecolor": "white",
            "showbackground": true,
            "ticks": "",
            "zerolinecolor": "white"
           }
          },
          "shapedefaults": {
           "line": {
            "color": "#2a3f5f"
           }
          },
          "ternary": {
           "aaxis": {
            "gridcolor": "white",
            "linecolor": "white",
            "ticks": ""
           },
           "baxis": {
            "gridcolor": "white",
            "linecolor": "white",
            "ticks": ""
           },
           "bgcolor": "#E5ECF6",
           "caxis": {
            "gridcolor": "white",
            "linecolor": "white",
            "ticks": ""
           }
          },
          "title": {
           "x": 0.05
          },
          "xaxis": {
           "automargin": true,
           "gridcolor": "white",
           "linecolor": "white",
           "ticks": "",
           "title": {
            "standoff": 15
           },
           "zerolinecolor": "white",
           "zerolinewidth": 2
          },
          "yaxis": {
           "automargin": true,
           "gridcolor": "white",
           "linecolor": "white",
           "ticks": "",
           "title": {
            "standoff": 15
           },
           "zerolinecolor": "white",
           "zerolinewidth": 2
          }
         }
        },
        "title": {
         "text": "Energía Activa vs. Pronóstico de Energía Activa por Mes"
        },
        "xaxis": {
         "anchor": "y",
         "domain": [
          0,
          1
         ],
         "title": {
          "text": "Fecha"
         }
        },
        "yaxis": {
         "anchor": "x",
         "domain": [
          0,
          1
         ],
         "title": {
          "text": "Energía Activa"
         }
        }
       }
      },
      "text/html": [
       "<div>                            <div id=\"debdaffe-aa61-4155-8e10-915be290f76c\" class=\"plotly-graph-div\" style=\"height:525px; width:100%;\"></div>            <script type=\"text/javascript\">                require([\"plotly\"], function(Plotly) {                    window.PLOTLYENV=window.PLOTLYENV || {};                                    if (document.getElementById(\"debdaffe-aa61-4155-8e10-915be290f76c\")) {                    Plotly.newPlot(                        \"debdaffe-aa61-4155-8e10-915be290f76c\",                        [{\"hovertemplate\":\"variable=Active_energy<br>Fecha=%{x}<br>Energ\\u00eda Activa=%{y}<extra></extra>\",\"legendgroup\":\"Active_energy\",\"line\":{\"color\":\"#636efa\",\"dash\":\"solid\"},\"marker\":{\"symbol\":\"circle\"},\"mode\":\"lines\",\"name\":\"Active_energy\",\"orientation\":\"v\",\"showlegend\":true,\"x\":[\"2021-01-01T00:00:00\",\"2021-02-01T00:00:00\",\"2021-03-01T00:00:00\",\"2021-04-01T00:00:00\",\"2021-05-01T00:00:00\",\"2021-06-01T00:00:00\",\"2021-07-01T00:00:00\",\"2021-08-01T00:00:00\",\"2021-09-01T00:00:00\",\"2021-10-01T00:00:00\",\"2021-11-01T00:00:00\",\"2021-12-01T00:00:00\",\"2022-01-01T00:00:00\",\"2022-02-01T00:00:00\",\"2022-03-01T00:00:00\",\"2022-04-01T00:00:00\",\"2022-05-01T00:00:00\",\"2022-06-01T00:00:00\",\"2022-07-01T00:00:00\",\"2022-08-01T00:00:00\",\"2022-09-01T00:00:00\",\"2022-10-01T00:00:00\",\"2022-11-01T00:00:00\",\"2022-12-01T00:00:00\",\"2023-01-01T00:00:00\",\"2023-02-01T00:00:00\",\"2023-03-01T00:00:00\",\"2023-04-01T00:00:00\",\"2023-05-01T00:00:00\",\"2023-06-01T00:00:00\",\"2023-07-01T00:00:00\",\"2023-08-01T00:00:00\",\"2023-09-01T00:00:00\",\"2023-10-01T00:00:00\",\"2023-11-01T00:00:00\",\"2023-12-01T00:00:00\",\"2024-01-01T00:00:00\",\"2024-02-01T00:00:00\",\"2024-03-01T00:00:00\",\"2024-04-01T00:00:00\",\"2024-05-01T00:00:00\",\"2024-06-01T00:00:00\",\"2024-07-01T00:00:00\",\"2024-08-01T00:00:00\",\"2024-09-01T00:00:00\",\"2024-10-01T00:00:00\",\"2024-11-01T00:00:00\",\"2024-12-01T00:00:00\"],\"xaxis\":\"x\",\"y\":[23391.109853405997,22288.43798217361,26048.402416473193,25853.115671913587,26534.942536885286,25305.670241430555,23536.84556371215,28949.80943456018,30152.11713891928,35405.44927867236,36643.56443332718,37973.43251676616,42060.564014195836,37169.02196427787,40182.36341413219,27677.701741723333,21037.784512661467,22704.73852281474,23700.513406000755,21422.138912976585,19796.388723176366,16520.874248675613,14072.534794713813,14767.588588807406,13543.663646721066,11789.718141968808,13638.769268701175,\"\",\"\",\"\",\"\",\"\",\"\",\"\",\"\",\"\",\"\",\"\",\"\",\"\",\"\",\"\",\"\",\"\",\"\",\"\",\"\",\"\"],\"yaxis\":\"y\",\"type\":\"scatter\"},{\"hovertemplate\":\"variable=Forecast_Energia_Activa<br>Fecha=%{x}<br>Energ\\u00eda Activa=%{y}<extra></extra>\",\"legendgroup\":\"Forecast_Energia_Activa\",\"line\":{\"color\":\"#EF553B\",\"dash\":\"solid\"},\"marker\":{\"symbol\":\"circle\"},\"mode\":\"lines\",\"name\":\"Forecast_Energia_Activa\",\"orientation\":\"v\",\"showlegend\":true,\"x\":[\"2021-01-01T00:00:00\",\"2021-02-01T00:00:00\",\"2021-03-01T00:00:00\",\"2021-04-01T00:00:00\",\"2021-05-01T00:00:00\",\"2021-06-01T00:00:00\",\"2021-07-01T00:00:00\",\"2021-08-01T00:00:00\",\"2021-09-01T00:00:00\",\"2021-10-01T00:00:00\",\"2021-11-01T00:00:00\",\"2021-12-01T00:00:00\",\"2022-01-01T00:00:00\",\"2022-02-01T00:00:00\",\"2022-03-01T00:00:00\",\"2022-04-01T00:00:00\",\"2022-05-01T00:00:00\",\"2022-06-01T00:00:00\",\"2022-07-01T00:00:00\",\"2022-08-01T00:00:00\",\"2022-09-01T00:00:00\",\"2022-10-01T00:00:00\",\"2022-11-01T00:00:00\",\"2022-12-01T00:00:00\",\"2023-01-01T00:00:00\",\"2023-02-01T00:00:00\",\"2023-03-01T00:00:00\",\"2023-04-01T00:00:00\",\"2023-05-01T00:00:00\",\"2023-06-01T00:00:00\",\"2023-07-01T00:00:00\",\"2023-08-01T00:00:00\",\"2023-09-01T00:00:00\",\"2023-10-01T00:00:00\",\"2023-11-01T00:00:00\",\"2023-12-01T00:00:00\",\"2024-01-01T00:00:00\",\"2024-02-01T00:00:00\",\"2024-03-01T00:00:00\",\"2024-04-01T00:00:00\",\"2024-05-01T00:00:00\",\"2024-06-01T00:00:00\",\"2024-07-01T00:00:00\",\"2024-08-01T00:00:00\",\"2024-09-01T00:00:00\",\"2024-10-01T00:00:00\",\"2024-11-01T00:00:00\",\"2024-12-01T00:00:00\"],\"xaxis\":\"x\",\"y\":[\"\",\"\",\"\",\"\",\"\",\"\",\"\",\"\",\"\",\"\",\"\",\"\",\"\",\"\",\"\",\"\",\"\",\"\",\"\",\"\",\"\",\"\",\"\",\"\",\"\",\"\",\"\",24315.638671875,25932.916015625,27824.724609375,28115.052734375,27033.984375,28025.3515625,29912.216796875,28895.66796875,32326.046875,55953.578125,47150.46875,47122.84375,45450.1171875,36731.3125,29645.646484375,41216.4375,49219.9296875,50530.30078125,48055.640625,38727.46484375,38321.55859375],\"yaxis\":\"y\",\"type\":\"scatter\"}],                        {\"template\":{\"data\":{\"histogram2dcontour\":[{\"type\":\"histogram2dcontour\",\"colorbar\":{\"outlinewidth\":0,\"ticks\":\"\"},\"colorscale\":[[0.0,\"#0d0887\"],[0.1111111111111111,\"#46039f\"],[0.2222222222222222,\"#7201a8\"],[0.3333333333333333,\"#9c179e\"],[0.4444444444444444,\"#bd3786\"],[0.5555555555555556,\"#d8576b\"],[0.6666666666666666,\"#ed7953\"],[0.7777777777777778,\"#fb9f3a\"],[0.8888888888888888,\"#fdca26\"],[1.0,\"#f0f921\"]]}],\"choropleth\":[{\"type\":\"choropleth\",\"colorbar\":{\"outlinewidth\":0,\"ticks\":\"\"}}],\"histogram2d\":[{\"type\":\"histogram2d\",\"colorbar\":{\"outlinewidth\":0,\"ticks\":\"\"},\"colorscale\":[[0.0,\"#0d0887\"],[0.1111111111111111,\"#46039f\"],[0.2222222222222222,\"#7201a8\"],[0.3333333333333333,\"#9c179e\"],[0.4444444444444444,\"#bd3786\"],[0.5555555555555556,\"#d8576b\"],[0.6666666666666666,\"#ed7953\"],[0.7777777777777778,\"#fb9f3a\"],[0.8888888888888888,\"#fdca26\"],[1.0,\"#f0f921\"]]}],\"heatmap\":[{\"type\":\"heatmap\",\"colorbar\":{\"outlinewidth\":0,\"ticks\":\"\"},\"colorscale\":[[0.0,\"#0d0887\"],[0.1111111111111111,\"#46039f\"],[0.2222222222222222,\"#7201a8\"],[0.3333333333333333,\"#9c179e\"],[0.4444444444444444,\"#bd3786\"],[0.5555555555555556,\"#d8576b\"],[0.6666666666666666,\"#ed7953\"],[0.7777777777777778,\"#fb9f3a\"],[0.8888888888888888,\"#fdca26\"],[1.0,\"#f0f921\"]]}],\"heatmapgl\":[{\"type\":\"heatmapgl\",\"colorbar\":{\"outlinewidth\":0,\"ticks\":\"\"},\"colorscale\":[[0.0,\"#0d0887\"],[0.1111111111111111,\"#46039f\"],[0.2222222222222222,\"#7201a8\"],[0.3333333333333333,\"#9c179e\"],[0.4444444444444444,\"#bd3786\"],[0.5555555555555556,\"#d8576b\"],[0.6666666666666666,\"#ed7953\"],[0.7777777777777778,\"#fb9f3a\"],[0.8888888888888888,\"#fdca26\"],[1.0,\"#f0f921\"]]}],\"contourcarpet\":[{\"type\":\"contourcarpet\",\"colorbar\":{\"outlinewidth\":0,\"ticks\":\"\"}}],\"contour\":[{\"type\":\"contour\",\"colorbar\":{\"outlinewidth\":0,\"ticks\":\"\"},\"colorscale\":[[0.0,\"#0d0887\"],[0.1111111111111111,\"#46039f\"],[0.2222222222222222,\"#7201a8\"],[0.3333333333333333,\"#9c179e\"],[0.4444444444444444,\"#bd3786\"],[0.5555555555555556,\"#d8576b\"],[0.6666666666666666,\"#ed7953\"],[0.7777777777777778,\"#fb9f3a\"],[0.8888888888888888,\"#fdca26\"],[1.0,\"#f0f921\"]]}],\"surface\":[{\"type\":\"surface\",\"colorbar\":{\"outlinewidth\":0,\"ticks\":\"\"},\"colorscale\":[[0.0,\"#0d0887\"],[0.1111111111111111,\"#46039f\"],[0.2222222222222222,\"#7201a8\"],[0.3333333333333333,\"#9c179e\"],[0.4444444444444444,\"#bd3786\"],[0.5555555555555556,\"#d8576b\"],[0.6666666666666666,\"#ed7953\"],[0.7777777777777778,\"#fb9f3a\"],[0.8888888888888888,\"#fdca26\"],[1.0,\"#f0f921\"]]}],\"mesh3d\":[{\"type\":\"mesh3d\",\"colorbar\":{\"outlinewidth\":0,\"ticks\":\"\"}}],\"scatter\":[{\"fillpattern\":{\"fillmode\":\"overlay\",\"size\":10,\"solidity\":0.2},\"type\":\"scatter\"}],\"parcoords\":[{\"type\":\"parcoords\",\"line\":{\"colorbar\":{\"outlinewidth\":0,\"ticks\":\"\"}}}],\"scatterpolargl\":[{\"type\":\"scatterpolargl\",\"marker\":{\"colorbar\":{\"outlinewidth\":0,\"ticks\":\"\"}}}],\"bar\":[{\"error_x\":{\"color\":\"#2a3f5f\"},\"error_y\":{\"color\":\"#2a3f5f\"},\"marker\":{\"line\":{\"color\":\"#E5ECF6\",\"width\":0.5},\"pattern\":{\"fillmode\":\"overlay\",\"size\":10,\"solidity\":0.2}},\"type\":\"bar\"}],\"scattergeo\":[{\"type\":\"scattergeo\",\"marker\":{\"colorbar\":{\"outlinewidth\":0,\"ticks\":\"\"}}}],\"scatterpolar\":[{\"type\":\"scatterpolar\",\"marker\":{\"colorbar\":{\"outlinewidth\":0,\"ticks\":\"\"}}}],\"histogram\":[{\"marker\":{\"pattern\":{\"fillmode\":\"overlay\",\"size\":10,\"solidity\":0.2}},\"type\":\"histogram\"}],\"scattergl\":[{\"type\":\"scattergl\",\"marker\":{\"colorbar\":{\"outlinewidth\":0,\"ticks\":\"\"}}}],\"scatter3d\":[{\"type\":\"scatter3d\",\"line\":{\"colorbar\":{\"outlinewidth\":0,\"ticks\":\"\"}},\"marker\":{\"colorbar\":{\"outlinewidth\":0,\"ticks\":\"\"}}}],\"scattermapbox\":[{\"type\":\"scattermapbox\",\"marker\":{\"colorbar\":{\"outlinewidth\":0,\"ticks\":\"\"}}}],\"scatterternary\":[{\"type\":\"scatterternary\",\"marker\":{\"colorbar\":{\"outlinewidth\":0,\"ticks\":\"\"}}}],\"scattercarpet\":[{\"type\":\"scattercarpet\",\"marker\":{\"colorbar\":{\"outlinewidth\":0,\"ticks\":\"\"}}}],\"carpet\":[{\"aaxis\":{\"endlinecolor\":\"#2a3f5f\",\"gridcolor\":\"white\",\"linecolor\":\"white\",\"minorgridcolor\":\"white\",\"startlinecolor\":\"#2a3f5f\"},\"baxis\":{\"endlinecolor\":\"#2a3f5f\",\"gridcolor\":\"white\",\"linecolor\":\"white\",\"minorgridcolor\":\"white\",\"startlinecolor\":\"#2a3f5f\"},\"type\":\"carpet\"}],\"table\":[{\"cells\":{\"fill\":{\"color\":\"#EBF0F8\"},\"line\":{\"color\":\"white\"}},\"header\":{\"fill\":{\"color\":\"#C8D4E3\"},\"line\":{\"color\":\"white\"}},\"type\":\"table\"}],\"barpolar\":[{\"marker\":{\"line\":{\"color\":\"#E5ECF6\",\"width\":0.5},\"pattern\":{\"fillmode\":\"overlay\",\"size\":10,\"solidity\":0.2}},\"type\":\"barpolar\"}],\"pie\":[{\"automargin\":true,\"type\":\"pie\"}]},\"layout\":{\"autotypenumbers\":\"strict\",\"colorway\":[\"#636efa\",\"#EF553B\",\"#00cc96\",\"#ab63fa\",\"#FFA15A\",\"#19d3f3\",\"#FF6692\",\"#B6E880\",\"#FF97FF\",\"#FECB52\"],\"font\":{\"color\":\"#2a3f5f\"},\"hovermode\":\"closest\",\"hoverlabel\":{\"align\":\"left\"},\"paper_bgcolor\":\"white\",\"plot_bgcolor\":\"#E5ECF6\",\"polar\":{\"bgcolor\":\"#E5ECF6\",\"angularaxis\":{\"gridcolor\":\"white\",\"linecolor\":\"white\",\"ticks\":\"\"},\"radialaxis\":{\"gridcolor\":\"white\",\"linecolor\":\"white\",\"ticks\":\"\"}},\"ternary\":{\"bgcolor\":\"#E5ECF6\",\"aaxis\":{\"gridcolor\":\"white\",\"linecolor\":\"white\",\"ticks\":\"\"},\"baxis\":{\"gridcolor\":\"white\",\"linecolor\":\"white\",\"ticks\":\"\"},\"caxis\":{\"gridcolor\":\"white\",\"linecolor\":\"white\",\"ticks\":\"\"}},\"coloraxis\":{\"colorbar\":{\"outlinewidth\":0,\"ticks\":\"\"}},\"colorscale\":{\"sequential\":[[0.0,\"#0d0887\"],[0.1111111111111111,\"#46039f\"],[0.2222222222222222,\"#7201a8\"],[0.3333333333333333,\"#9c179e\"],[0.4444444444444444,\"#bd3786\"],[0.5555555555555556,\"#d8576b\"],[0.6666666666666666,\"#ed7953\"],[0.7777777777777778,\"#fb9f3a\"],[0.8888888888888888,\"#fdca26\"],[1.0,\"#f0f921\"]],\"sequentialminus\":[[0.0,\"#0d0887\"],[0.1111111111111111,\"#46039f\"],[0.2222222222222222,\"#7201a8\"],[0.3333333333333333,\"#9c179e\"],[0.4444444444444444,\"#bd3786\"],[0.5555555555555556,\"#d8576b\"],[0.6666666666666666,\"#ed7953\"],[0.7777777777777778,\"#fb9f3a\"],[0.8888888888888888,\"#fdca26\"],[1.0,\"#f0f921\"]],\"diverging\":[[0,\"#8e0152\"],[0.1,\"#c51b7d\"],[0.2,\"#de77ae\"],[0.3,\"#f1b6da\"],[0.4,\"#fde0ef\"],[0.5,\"#f7f7f7\"],[0.6,\"#e6f5d0\"],[0.7,\"#b8e186\"],[0.8,\"#7fbc41\"],[0.9,\"#4d9221\"],[1,\"#276419\"]]},\"xaxis\":{\"gridcolor\":\"white\",\"linecolor\":\"white\",\"ticks\":\"\",\"title\":{\"standoff\":15},\"zerolinecolor\":\"white\",\"automargin\":true,\"zerolinewidth\":2},\"yaxis\":{\"gridcolor\":\"white\",\"linecolor\":\"white\",\"ticks\":\"\",\"title\":{\"standoff\":15},\"zerolinecolor\":\"white\",\"automargin\":true,\"zerolinewidth\":2},\"scene\":{\"xaxis\":{\"backgroundcolor\":\"#E5ECF6\",\"gridcolor\":\"white\",\"linecolor\":\"white\",\"showbackground\":true,\"ticks\":\"\",\"zerolinecolor\":\"white\",\"gridwidth\":2},\"yaxis\":{\"backgroundcolor\":\"#E5ECF6\",\"gridcolor\":\"white\",\"linecolor\":\"white\",\"showbackground\":true,\"ticks\":\"\",\"zerolinecolor\":\"white\",\"gridwidth\":2},\"zaxis\":{\"backgroundcolor\":\"#E5ECF6\",\"gridcolor\":\"white\",\"linecolor\":\"white\",\"showbackground\":true,\"ticks\":\"\",\"zerolinecolor\":\"white\",\"gridwidth\":2}},\"shapedefaults\":{\"line\":{\"color\":\"#2a3f5f\"}},\"annotationdefaults\":{\"arrowcolor\":\"#2a3f5f\",\"arrowhead\":0,\"arrowwidth\":1},\"geo\":{\"bgcolor\":\"white\",\"landcolor\":\"#E5ECF6\",\"subunitcolor\":\"white\",\"showland\":true,\"showlakes\":true,\"lakecolor\":\"white\"},\"title\":{\"x\":0.05},\"mapbox\":{\"style\":\"light\"}}},\"xaxis\":{\"anchor\":\"y\",\"domain\":[0.0,1.0],\"title\":{\"text\":\"Fecha\"}},\"yaxis\":{\"anchor\":\"x\",\"domain\":[0.0,1.0],\"title\":{\"text\":\"Energ\\u00eda Activa\"}},\"legend\":{\"title\":{\"text\":\"variable\"},\"tracegroupgap\":0},\"title\":{\"text\":\"Energ\\u00eda Activa vs. Pron\\u00f3stico de Energ\\u00eda Activa por Mes\"}},                        {\"responsive\": true}                    ).then(function(){\n",
       "                            \n",
       "var gd = document.getElementById('debdaffe-aa61-4155-8e10-915be290f76c');\n",
       "var x = new MutationObserver(function (mutations, observer) {{\n",
       "        var display = window.getComputedStyle(gd).display;\n",
       "        if (!display || display === 'none') {{\n",
       "            console.log([gd, 'removed!']);\n",
       "            Plotly.purge(gd);\n",
       "            observer.disconnect();\n",
       "        }}\n",
       "}});\n",
       "\n",
       "// Listen for the removal of the full notebook cells\n",
       "var notebookContainer = gd.closest('#notebook-container');\n",
       "if (notebookContainer) {{\n",
       "    x.observe(notebookContainer, {childList: true});\n",
       "}}\n",
       "\n",
       "// Listen for the clearing of the current output cell\n",
       "var outputEl = gd.closest('.output');\n",
       "if (outputEl) {{\n",
       "    x.observe(outputEl, {childList: true});\n",
       "}}\n",
       "\n",
       "                        })                };                });            </script>        </div>"
      ]
     },
     "metadata": {},
     "output_type": "display_data"
    }
   ],
   "source": [
    "fig = px.line(df.replace(0, ''), x='Fecha', y=['Active_energy', 'Forecast_Energia_Activa'],\n",
    "              title='Energía Activa vs. Pronóstico de Energía Activa por Mes',\n",
    "              labels={'value': 'Energía Activa', 'Mes': 'Mes'})\n",
    "fig.show()"
   ]
  },
  {
   "cell_type": "code",
   "execution_count": 170,
   "id": "af71fc1b",
   "metadata": {},
   "outputs": [
    {
     "data": {
      "application/vnd.plotly.v1+json": {
       "config": {
        "plotlyServerURL": "https://plot.ly"
       },
       "data": [
        {
         "hovertemplate": "variable=Reactive_energy<br>Fecha=%{x}<br>Energía Reactiva=%{y}<extra></extra>",
         "legendgroup": "Reactive_energy",
         "line": {
          "color": "#636efa",
          "dash": "solid"
         },
         "marker": {
          "symbol": "circle"
         },
         "mode": "lines",
         "name": "Reactive_energy",
         "orientation": "v",
         "showlegend": true,
         "type": "scatter",
         "x": [
          "2021-01-01T00:00:00",
          "2021-02-01T00:00:00",
          "2021-03-01T00:00:00",
          "2021-04-01T00:00:00",
          "2021-05-01T00:00:00",
          "2021-06-01T00:00:00",
          "2021-07-01T00:00:00",
          "2021-08-01T00:00:00",
          "2021-09-01T00:00:00",
          "2021-10-01T00:00:00",
          "2021-11-01T00:00:00",
          "2021-12-01T00:00:00",
          "2022-01-01T00:00:00",
          "2022-02-01T00:00:00",
          "2022-03-01T00:00:00",
          "2022-04-01T00:00:00",
          "2022-05-01T00:00:00",
          "2022-06-01T00:00:00",
          "2022-07-01T00:00:00",
          "2022-08-01T00:00:00",
          "2022-09-01T00:00:00",
          "2022-10-01T00:00:00",
          "2022-11-01T00:00:00",
          "2022-12-01T00:00:00",
          "2023-01-01T00:00:00",
          "2023-02-01T00:00:00",
          "2023-03-01T00:00:00",
          "2023-04-01T00:00:00",
          "2023-05-01T00:00:00",
          "2023-06-01T00:00:00",
          "2023-07-01T00:00:00",
          "2023-08-01T00:00:00",
          "2023-09-01T00:00:00",
          "2023-10-01T00:00:00",
          "2023-11-01T00:00:00",
          "2023-12-01T00:00:00",
          "2024-01-01T00:00:00",
          "2024-02-01T00:00:00",
          "2024-03-01T00:00:00",
          "2024-04-01T00:00:00",
          "2024-05-01T00:00:00",
          "2024-06-01T00:00:00",
          "2024-07-01T00:00:00",
          "2024-08-01T00:00:00",
          "2024-09-01T00:00:00",
          "2024-10-01T00:00:00",
          "2024-11-01T00:00:00",
          "2024-12-01T00:00:00"
         ],
         "xaxis": "x",
         "y": [
          16032.867023783492,
          14672.832897055463,
          18326.16733687418,
          17784.814414101165,
          18724.40467458322,
          17149.131038565545,
          14489.421052549551,
          17226.163106056258,
          18492.60402876151,
          20185.23163446246,
          20790.94266824279,
          18781.86199870293,
          19607.447659336387,
          16639.124058699344,
          18731.14160586479,
          14946.223383846214,
          10664.527005642878,
          12239.983553139467,
          13008.632312175469,
          12308.32786880386,
          12748.098837254058,
          11347.095256520706,
          10432.481279996866,
          11225.58544392188,
          9883.366229774227,
          8666.82507679338,
          9498.54054970808,
          "",
          "",
          "",
          "",
          "",
          "",
          "",
          "",
          "",
          "",
          "",
          "",
          "",
          "",
          "",
          "",
          "",
          "",
          "",
          "",
          ""
         ],
         "yaxis": "y"
        },
        {
         "hovertemplate": "variable=Forecast_Energia_Reactiva<br>Fecha=%{x}<br>Energía Reactiva=%{y}<extra></extra>",
         "legendgroup": "Forecast_Energia_Reactiva",
         "line": {
          "color": "#EF553B",
          "dash": "solid"
         },
         "marker": {
          "symbol": "circle"
         },
         "mode": "lines",
         "name": "Forecast_Energia_Reactiva",
         "orientation": "v",
         "showlegend": true,
         "type": "scatter",
         "x": [
          "2021-01-01T00:00:00",
          "2021-02-01T00:00:00",
          "2021-03-01T00:00:00",
          "2021-04-01T00:00:00",
          "2021-05-01T00:00:00",
          "2021-06-01T00:00:00",
          "2021-07-01T00:00:00",
          "2021-08-01T00:00:00",
          "2021-09-01T00:00:00",
          "2021-10-01T00:00:00",
          "2021-11-01T00:00:00",
          "2021-12-01T00:00:00",
          "2022-01-01T00:00:00",
          "2022-02-01T00:00:00",
          "2022-03-01T00:00:00",
          "2022-04-01T00:00:00",
          "2022-05-01T00:00:00",
          "2022-06-01T00:00:00",
          "2022-07-01T00:00:00",
          "2022-08-01T00:00:00",
          "2022-09-01T00:00:00",
          "2022-10-01T00:00:00",
          "2022-11-01T00:00:00",
          "2022-12-01T00:00:00",
          "2023-01-01T00:00:00",
          "2023-02-01T00:00:00",
          "2023-03-01T00:00:00",
          "2023-04-01T00:00:00",
          "2023-05-01T00:00:00",
          "2023-06-01T00:00:00",
          "2023-07-01T00:00:00",
          "2023-08-01T00:00:00",
          "2023-09-01T00:00:00",
          "2023-10-01T00:00:00",
          "2023-11-01T00:00:00",
          "2023-12-01T00:00:00",
          "2024-01-01T00:00:00",
          "2024-02-01T00:00:00",
          "2024-03-01T00:00:00",
          "2024-04-01T00:00:00",
          "2024-05-01T00:00:00",
          "2024-06-01T00:00:00",
          "2024-07-01T00:00:00",
          "2024-08-01T00:00:00",
          "2024-09-01T00:00:00",
          "2024-10-01T00:00:00",
          "2024-11-01T00:00:00",
          "2024-12-01T00:00:00"
         ],
         "xaxis": "x",
         "y": [
          "",
          "",
          "",
          "",
          "",
          "",
          "",
          "",
          "",
          "",
          "",
          "",
          "",
          "",
          "",
          "",
          "",
          "",
          "",
          "",
          "",
          "",
          "",
          "",
          "",
          "",
          "",
          16897.54296875,
          18482.1953125,
          17286.49609375,
          15960.333984375,
          14724.359375,
          14612.5634765625,
          18602.947265625,
          19491.578125,
          20120.630859375,
          26936.599609375,
          22477.033203125,
          20528.478515625,
          19694.380859375,
          20030.70703125,
          14720.18359375,
          18029.37109375,
          19751.46875,
          21121.6171875,
          27119.82421875,
          23362.240234375,
          20331.337890625
         ],
         "yaxis": "y"
        }
       ],
       "layout": {
        "legend": {
         "title": {
          "text": "variable"
         },
         "tracegroupgap": 0
        },
        "template": {
         "data": {
          "bar": [
           {
            "error_x": {
             "color": "#2a3f5f"
            },
            "error_y": {
             "color": "#2a3f5f"
            },
            "marker": {
             "line": {
              "color": "#E5ECF6",
              "width": 0.5
             },
             "pattern": {
              "fillmode": "overlay",
              "size": 10,
              "solidity": 0.2
             }
            },
            "type": "bar"
           }
          ],
          "barpolar": [
           {
            "marker": {
             "line": {
              "color": "#E5ECF6",
              "width": 0.5
             },
             "pattern": {
              "fillmode": "overlay",
              "size": 10,
              "solidity": 0.2
             }
            },
            "type": "barpolar"
           }
          ],
          "carpet": [
           {
            "aaxis": {
             "endlinecolor": "#2a3f5f",
             "gridcolor": "white",
             "linecolor": "white",
             "minorgridcolor": "white",
             "startlinecolor": "#2a3f5f"
            },
            "baxis": {
             "endlinecolor": "#2a3f5f",
             "gridcolor": "white",
             "linecolor": "white",
             "minorgridcolor": "white",
             "startlinecolor": "#2a3f5f"
            },
            "type": "carpet"
           }
          ],
          "choropleth": [
           {
            "colorbar": {
             "outlinewidth": 0,
             "ticks": ""
            },
            "type": "choropleth"
           }
          ],
          "contour": [
           {
            "colorbar": {
             "outlinewidth": 0,
             "ticks": ""
            },
            "colorscale": [
             [
              0,
              "#0d0887"
             ],
             [
              0.1111111111111111,
              "#46039f"
             ],
             [
              0.2222222222222222,
              "#7201a8"
             ],
             [
              0.3333333333333333,
              "#9c179e"
             ],
             [
              0.4444444444444444,
              "#bd3786"
             ],
             [
              0.5555555555555556,
              "#d8576b"
             ],
             [
              0.6666666666666666,
              "#ed7953"
             ],
             [
              0.7777777777777778,
              "#fb9f3a"
             ],
             [
              0.8888888888888888,
              "#fdca26"
             ],
             [
              1,
              "#f0f921"
             ]
            ],
            "type": "contour"
           }
          ],
          "contourcarpet": [
           {
            "colorbar": {
             "outlinewidth": 0,
             "ticks": ""
            },
            "type": "contourcarpet"
           }
          ],
          "heatmap": [
           {
            "colorbar": {
             "outlinewidth": 0,
             "ticks": ""
            },
            "colorscale": [
             [
              0,
              "#0d0887"
             ],
             [
              0.1111111111111111,
              "#46039f"
             ],
             [
              0.2222222222222222,
              "#7201a8"
             ],
             [
              0.3333333333333333,
              "#9c179e"
             ],
             [
              0.4444444444444444,
              "#bd3786"
             ],
             [
              0.5555555555555556,
              "#d8576b"
             ],
             [
              0.6666666666666666,
              "#ed7953"
             ],
             [
              0.7777777777777778,
              "#fb9f3a"
             ],
             [
              0.8888888888888888,
              "#fdca26"
             ],
             [
              1,
              "#f0f921"
             ]
            ],
            "type": "heatmap"
           }
          ],
          "heatmapgl": [
           {
            "colorbar": {
             "outlinewidth": 0,
             "ticks": ""
            },
            "colorscale": [
             [
              0,
              "#0d0887"
             ],
             [
              0.1111111111111111,
              "#46039f"
             ],
             [
              0.2222222222222222,
              "#7201a8"
             ],
             [
              0.3333333333333333,
              "#9c179e"
             ],
             [
              0.4444444444444444,
              "#bd3786"
             ],
             [
              0.5555555555555556,
              "#d8576b"
             ],
             [
              0.6666666666666666,
              "#ed7953"
             ],
             [
              0.7777777777777778,
              "#fb9f3a"
             ],
             [
              0.8888888888888888,
              "#fdca26"
             ],
             [
              1,
              "#f0f921"
             ]
            ],
            "type": "heatmapgl"
           }
          ],
          "histogram": [
           {
            "marker": {
             "pattern": {
              "fillmode": "overlay",
              "size": 10,
              "solidity": 0.2
             }
            },
            "type": "histogram"
           }
          ],
          "histogram2d": [
           {
            "colorbar": {
             "outlinewidth": 0,
             "ticks": ""
            },
            "colorscale": [
             [
              0,
              "#0d0887"
             ],
             [
              0.1111111111111111,
              "#46039f"
             ],
             [
              0.2222222222222222,
              "#7201a8"
             ],
             [
              0.3333333333333333,
              "#9c179e"
             ],
             [
              0.4444444444444444,
              "#bd3786"
             ],
             [
              0.5555555555555556,
              "#d8576b"
             ],
             [
              0.6666666666666666,
              "#ed7953"
             ],
             [
              0.7777777777777778,
              "#fb9f3a"
             ],
             [
              0.8888888888888888,
              "#fdca26"
             ],
             [
              1,
              "#f0f921"
             ]
            ],
            "type": "histogram2d"
           }
          ],
          "histogram2dcontour": [
           {
            "colorbar": {
             "outlinewidth": 0,
             "ticks": ""
            },
            "colorscale": [
             [
              0,
              "#0d0887"
             ],
             [
              0.1111111111111111,
              "#46039f"
             ],
             [
              0.2222222222222222,
              "#7201a8"
             ],
             [
              0.3333333333333333,
              "#9c179e"
             ],
             [
              0.4444444444444444,
              "#bd3786"
             ],
             [
              0.5555555555555556,
              "#d8576b"
             ],
             [
              0.6666666666666666,
              "#ed7953"
             ],
             [
              0.7777777777777778,
              "#fb9f3a"
             ],
             [
              0.8888888888888888,
              "#fdca26"
             ],
             [
              1,
              "#f0f921"
             ]
            ],
            "type": "histogram2dcontour"
           }
          ],
          "mesh3d": [
           {
            "colorbar": {
             "outlinewidth": 0,
             "ticks": ""
            },
            "type": "mesh3d"
           }
          ],
          "parcoords": [
           {
            "line": {
             "colorbar": {
              "outlinewidth": 0,
              "ticks": ""
             }
            },
            "type": "parcoords"
           }
          ],
          "pie": [
           {
            "automargin": true,
            "type": "pie"
           }
          ],
          "scatter": [
           {
            "fillpattern": {
             "fillmode": "overlay",
             "size": 10,
             "solidity": 0.2
            },
            "type": "scatter"
           }
          ],
          "scatter3d": [
           {
            "line": {
             "colorbar": {
              "outlinewidth": 0,
              "ticks": ""
             }
            },
            "marker": {
             "colorbar": {
              "outlinewidth": 0,
              "ticks": ""
             }
            },
            "type": "scatter3d"
           }
          ],
          "scattercarpet": [
           {
            "marker": {
             "colorbar": {
              "outlinewidth": 0,
              "ticks": ""
             }
            },
            "type": "scattercarpet"
           }
          ],
          "scattergeo": [
           {
            "marker": {
             "colorbar": {
              "outlinewidth": 0,
              "ticks": ""
             }
            },
            "type": "scattergeo"
           }
          ],
          "scattergl": [
           {
            "marker": {
             "colorbar": {
              "outlinewidth": 0,
              "ticks": ""
             }
            },
            "type": "scattergl"
           }
          ],
          "scattermapbox": [
           {
            "marker": {
             "colorbar": {
              "outlinewidth": 0,
              "ticks": ""
             }
            },
            "type": "scattermapbox"
           }
          ],
          "scatterpolar": [
           {
            "marker": {
             "colorbar": {
              "outlinewidth": 0,
              "ticks": ""
             }
            },
            "type": "scatterpolar"
           }
          ],
          "scatterpolargl": [
           {
            "marker": {
             "colorbar": {
              "outlinewidth": 0,
              "ticks": ""
             }
            },
            "type": "scatterpolargl"
           }
          ],
          "scatterternary": [
           {
            "marker": {
             "colorbar": {
              "outlinewidth": 0,
              "ticks": ""
             }
            },
            "type": "scatterternary"
           }
          ],
          "surface": [
           {
            "colorbar": {
             "outlinewidth": 0,
             "ticks": ""
            },
            "colorscale": [
             [
              0,
              "#0d0887"
             ],
             [
              0.1111111111111111,
              "#46039f"
             ],
             [
              0.2222222222222222,
              "#7201a8"
             ],
             [
              0.3333333333333333,
              "#9c179e"
             ],
             [
              0.4444444444444444,
              "#bd3786"
             ],
             [
              0.5555555555555556,
              "#d8576b"
             ],
             [
              0.6666666666666666,
              "#ed7953"
             ],
             [
              0.7777777777777778,
              "#fb9f3a"
             ],
             [
              0.8888888888888888,
              "#fdca26"
             ],
             [
              1,
              "#f0f921"
             ]
            ],
            "type": "surface"
           }
          ],
          "table": [
           {
            "cells": {
             "fill": {
              "color": "#EBF0F8"
             },
             "line": {
              "color": "white"
             }
            },
            "header": {
             "fill": {
              "color": "#C8D4E3"
             },
             "line": {
              "color": "white"
             }
            },
            "type": "table"
           }
          ]
         },
         "layout": {
          "annotationdefaults": {
           "arrowcolor": "#2a3f5f",
           "arrowhead": 0,
           "arrowwidth": 1
          },
          "autotypenumbers": "strict",
          "coloraxis": {
           "colorbar": {
            "outlinewidth": 0,
            "ticks": ""
           }
          },
          "colorscale": {
           "diverging": [
            [
             0,
             "#8e0152"
            ],
            [
             0.1,
             "#c51b7d"
            ],
            [
             0.2,
             "#de77ae"
            ],
            [
             0.3,
             "#f1b6da"
            ],
            [
             0.4,
             "#fde0ef"
            ],
            [
             0.5,
             "#f7f7f7"
            ],
            [
             0.6,
             "#e6f5d0"
            ],
            [
             0.7,
             "#b8e186"
            ],
            [
             0.8,
             "#7fbc41"
            ],
            [
             0.9,
             "#4d9221"
            ],
            [
             1,
             "#276419"
            ]
           ],
           "sequential": [
            [
             0,
             "#0d0887"
            ],
            [
             0.1111111111111111,
             "#46039f"
            ],
            [
             0.2222222222222222,
             "#7201a8"
            ],
            [
             0.3333333333333333,
             "#9c179e"
            ],
            [
             0.4444444444444444,
             "#bd3786"
            ],
            [
             0.5555555555555556,
             "#d8576b"
            ],
            [
             0.6666666666666666,
             "#ed7953"
            ],
            [
             0.7777777777777778,
             "#fb9f3a"
            ],
            [
             0.8888888888888888,
             "#fdca26"
            ],
            [
             1,
             "#f0f921"
            ]
           ],
           "sequentialminus": [
            [
             0,
             "#0d0887"
            ],
            [
             0.1111111111111111,
             "#46039f"
            ],
            [
             0.2222222222222222,
             "#7201a8"
            ],
            [
             0.3333333333333333,
             "#9c179e"
            ],
            [
             0.4444444444444444,
             "#bd3786"
            ],
            [
             0.5555555555555556,
             "#d8576b"
            ],
            [
             0.6666666666666666,
             "#ed7953"
            ],
            [
             0.7777777777777778,
             "#fb9f3a"
            ],
            [
             0.8888888888888888,
             "#fdca26"
            ],
            [
             1,
             "#f0f921"
            ]
           ]
          },
          "colorway": [
           "#636efa",
           "#EF553B",
           "#00cc96",
           "#ab63fa",
           "#FFA15A",
           "#19d3f3",
           "#FF6692",
           "#B6E880",
           "#FF97FF",
           "#FECB52"
          ],
          "font": {
           "color": "#2a3f5f"
          },
          "geo": {
           "bgcolor": "white",
           "lakecolor": "white",
           "landcolor": "#E5ECF6",
           "showlakes": true,
           "showland": true,
           "subunitcolor": "white"
          },
          "hoverlabel": {
           "align": "left"
          },
          "hovermode": "closest",
          "mapbox": {
           "style": "light"
          },
          "paper_bgcolor": "white",
          "plot_bgcolor": "#E5ECF6",
          "polar": {
           "angularaxis": {
            "gridcolor": "white",
            "linecolor": "white",
            "ticks": ""
           },
           "bgcolor": "#E5ECF6",
           "radialaxis": {
            "gridcolor": "white",
            "linecolor": "white",
            "ticks": ""
           }
          },
          "scene": {
           "xaxis": {
            "backgroundcolor": "#E5ECF6",
            "gridcolor": "white",
            "gridwidth": 2,
            "linecolor": "white",
            "showbackground": true,
            "ticks": "",
            "zerolinecolor": "white"
           },
           "yaxis": {
            "backgroundcolor": "#E5ECF6",
            "gridcolor": "white",
            "gridwidth": 2,
            "linecolor": "white",
            "showbackground": true,
            "ticks": "",
            "zerolinecolor": "white"
           },
           "zaxis": {
            "backgroundcolor": "#E5ECF6",
            "gridcolor": "white",
            "gridwidth": 2,
            "linecolor": "white",
            "showbackground": true,
            "ticks": "",
            "zerolinecolor": "white"
           }
          },
          "shapedefaults": {
           "line": {
            "color": "#2a3f5f"
           }
          },
          "ternary": {
           "aaxis": {
            "gridcolor": "white",
            "linecolor": "white",
            "ticks": ""
           },
           "baxis": {
            "gridcolor": "white",
            "linecolor": "white",
            "ticks": ""
           },
           "bgcolor": "#E5ECF6",
           "caxis": {
            "gridcolor": "white",
            "linecolor": "white",
            "ticks": ""
           }
          },
          "title": {
           "x": 0.05
          },
          "xaxis": {
           "automargin": true,
           "gridcolor": "white",
           "linecolor": "white",
           "ticks": "",
           "title": {
            "standoff": 15
           },
           "zerolinecolor": "white",
           "zerolinewidth": 2
          },
          "yaxis": {
           "automargin": true,
           "gridcolor": "white",
           "linecolor": "white",
           "ticks": "",
           "title": {
            "standoff": 15
           },
           "zerolinecolor": "white",
           "zerolinewidth": 2
          }
         }
        },
        "title": {
         "text": "Energía Reactiva vs. Pronóstico de Energía Reactiva por Mes"
        },
        "xaxis": {
         "anchor": "y",
         "domain": [
          0,
          1
         ],
         "title": {
          "text": "Fecha"
         }
        },
        "yaxis": {
         "anchor": "x",
         "domain": [
          0,
          1
         ],
         "title": {
          "text": "Energía Reactiva"
         }
        }
       }
      },
      "text/html": [
       "<div>                            <div id=\"a4c5c292-6cd9-48ae-a42c-b72c4b95f1f4\" class=\"plotly-graph-div\" style=\"height:525px; width:100%;\"></div>            <script type=\"text/javascript\">                require([\"plotly\"], function(Plotly) {                    window.PLOTLYENV=window.PLOTLYENV || {};                                    if (document.getElementById(\"a4c5c292-6cd9-48ae-a42c-b72c4b95f1f4\")) {                    Plotly.newPlot(                        \"a4c5c292-6cd9-48ae-a42c-b72c4b95f1f4\",                        [{\"hovertemplate\":\"variable=Reactive_energy<br>Fecha=%{x}<br>Energ\\u00eda Reactiva=%{y}<extra></extra>\",\"legendgroup\":\"Reactive_energy\",\"line\":{\"color\":\"#636efa\",\"dash\":\"solid\"},\"marker\":{\"symbol\":\"circle\"},\"mode\":\"lines\",\"name\":\"Reactive_energy\",\"orientation\":\"v\",\"showlegend\":true,\"x\":[\"2021-01-01T00:00:00\",\"2021-02-01T00:00:00\",\"2021-03-01T00:00:00\",\"2021-04-01T00:00:00\",\"2021-05-01T00:00:00\",\"2021-06-01T00:00:00\",\"2021-07-01T00:00:00\",\"2021-08-01T00:00:00\",\"2021-09-01T00:00:00\",\"2021-10-01T00:00:00\",\"2021-11-01T00:00:00\",\"2021-12-01T00:00:00\",\"2022-01-01T00:00:00\",\"2022-02-01T00:00:00\",\"2022-03-01T00:00:00\",\"2022-04-01T00:00:00\",\"2022-05-01T00:00:00\",\"2022-06-01T00:00:00\",\"2022-07-01T00:00:00\",\"2022-08-01T00:00:00\",\"2022-09-01T00:00:00\",\"2022-10-01T00:00:00\",\"2022-11-01T00:00:00\",\"2022-12-01T00:00:00\",\"2023-01-01T00:00:00\",\"2023-02-01T00:00:00\",\"2023-03-01T00:00:00\",\"2023-04-01T00:00:00\",\"2023-05-01T00:00:00\",\"2023-06-01T00:00:00\",\"2023-07-01T00:00:00\",\"2023-08-01T00:00:00\",\"2023-09-01T00:00:00\",\"2023-10-01T00:00:00\",\"2023-11-01T00:00:00\",\"2023-12-01T00:00:00\",\"2024-01-01T00:00:00\",\"2024-02-01T00:00:00\",\"2024-03-01T00:00:00\",\"2024-04-01T00:00:00\",\"2024-05-01T00:00:00\",\"2024-06-01T00:00:00\",\"2024-07-01T00:00:00\",\"2024-08-01T00:00:00\",\"2024-09-01T00:00:00\",\"2024-10-01T00:00:00\",\"2024-11-01T00:00:00\",\"2024-12-01T00:00:00\"],\"xaxis\":\"x\",\"y\":[16032.867023783492,14672.832897055463,18326.16733687418,17784.814414101165,18724.40467458322,17149.131038565545,14489.421052549551,17226.163106056258,18492.60402876151,20185.23163446246,20790.94266824279,18781.86199870293,19607.447659336387,16639.124058699344,18731.14160586479,14946.223383846214,10664.527005642878,12239.983553139467,13008.632312175469,12308.32786880386,12748.098837254058,11347.095256520706,10432.481279996866,11225.58544392188,9883.366229774227,8666.82507679338,9498.54054970808,\"\",\"\",\"\",\"\",\"\",\"\",\"\",\"\",\"\",\"\",\"\",\"\",\"\",\"\",\"\",\"\",\"\",\"\",\"\",\"\",\"\"],\"yaxis\":\"y\",\"type\":\"scatter\"},{\"hovertemplate\":\"variable=Forecast_Energia_Reactiva<br>Fecha=%{x}<br>Energ\\u00eda Reactiva=%{y}<extra></extra>\",\"legendgroup\":\"Forecast_Energia_Reactiva\",\"line\":{\"color\":\"#EF553B\",\"dash\":\"solid\"},\"marker\":{\"symbol\":\"circle\"},\"mode\":\"lines\",\"name\":\"Forecast_Energia_Reactiva\",\"orientation\":\"v\",\"showlegend\":true,\"x\":[\"2021-01-01T00:00:00\",\"2021-02-01T00:00:00\",\"2021-03-01T00:00:00\",\"2021-04-01T00:00:00\",\"2021-05-01T00:00:00\",\"2021-06-01T00:00:00\",\"2021-07-01T00:00:00\",\"2021-08-01T00:00:00\",\"2021-09-01T00:00:00\",\"2021-10-01T00:00:00\",\"2021-11-01T00:00:00\",\"2021-12-01T00:00:00\",\"2022-01-01T00:00:00\",\"2022-02-01T00:00:00\",\"2022-03-01T00:00:00\",\"2022-04-01T00:00:00\",\"2022-05-01T00:00:00\",\"2022-06-01T00:00:00\",\"2022-07-01T00:00:00\",\"2022-08-01T00:00:00\",\"2022-09-01T00:00:00\",\"2022-10-01T00:00:00\",\"2022-11-01T00:00:00\",\"2022-12-01T00:00:00\",\"2023-01-01T00:00:00\",\"2023-02-01T00:00:00\",\"2023-03-01T00:00:00\",\"2023-04-01T00:00:00\",\"2023-05-01T00:00:00\",\"2023-06-01T00:00:00\",\"2023-07-01T00:00:00\",\"2023-08-01T00:00:00\",\"2023-09-01T00:00:00\",\"2023-10-01T00:00:00\",\"2023-11-01T00:00:00\",\"2023-12-01T00:00:00\",\"2024-01-01T00:00:00\",\"2024-02-01T00:00:00\",\"2024-03-01T00:00:00\",\"2024-04-01T00:00:00\",\"2024-05-01T00:00:00\",\"2024-06-01T00:00:00\",\"2024-07-01T00:00:00\",\"2024-08-01T00:00:00\",\"2024-09-01T00:00:00\",\"2024-10-01T00:00:00\",\"2024-11-01T00:00:00\",\"2024-12-01T00:00:00\"],\"xaxis\":\"x\",\"y\":[\"\",\"\",\"\",\"\",\"\",\"\",\"\",\"\",\"\",\"\",\"\",\"\",\"\",\"\",\"\",\"\",\"\",\"\",\"\",\"\",\"\",\"\",\"\",\"\",\"\",\"\",\"\",16897.54296875,18482.1953125,17286.49609375,15960.333984375,14724.359375,14612.5634765625,18602.947265625,19491.578125,20120.630859375,26936.599609375,22477.033203125,20528.478515625,19694.380859375,20030.70703125,14720.18359375,18029.37109375,19751.46875,21121.6171875,27119.82421875,23362.240234375,20331.337890625],\"yaxis\":\"y\",\"type\":\"scatter\"}],                        {\"template\":{\"data\":{\"histogram2dcontour\":[{\"type\":\"histogram2dcontour\",\"colorbar\":{\"outlinewidth\":0,\"ticks\":\"\"},\"colorscale\":[[0.0,\"#0d0887\"],[0.1111111111111111,\"#46039f\"],[0.2222222222222222,\"#7201a8\"],[0.3333333333333333,\"#9c179e\"],[0.4444444444444444,\"#bd3786\"],[0.5555555555555556,\"#d8576b\"],[0.6666666666666666,\"#ed7953\"],[0.7777777777777778,\"#fb9f3a\"],[0.8888888888888888,\"#fdca26\"],[1.0,\"#f0f921\"]]}],\"choropleth\":[{\"type\":\"choropleth\",\"colorbar\":{\"outlinewidth\":0,\"ticks\":\"\"}}],\"histogram2d\":[{\"type\":\"histogram2d\",\"colorbar\":{\"outlinewidth\":0,\"ticks\":\"\"},\"colorscale\":[[0.0,\"#0d0887\"],[0.1111111111111111,\"#46039f\"],[0.2222222222222222,\"#7201a8\"],[0.3333333333333333,\"#9c179e\"],[0.4444444444444444,\"#bd3786\"],[0.5555555555555556,\"#d8576b\"],[0.6666666666666666,\"#ed7953\"],[0.7777777777777778,\"#fb9f3a\"],[0.8888888888888888,\"#fdca26\"],[1.0,\"#f0f921\"]]}],\"heatmap\":[{\"type\":\"heatmap\",\"colorbar\":{\"outlinewidth\":0,\"ticks\":\"\"},\"colorscale\":[[0.0,\"#0d0887\"],[0.1111111111111111,\"#46039f\"],[0.2222222222222222,\"#7201a8\"],[0.3333333333333333,\"#9c179e\"],[0.4444444444444444,\"#bd3786\"],[0.5555555555555556,\"#d8576b\"],[0.6666666666666666,\"#ed7953\"],[0.7777777777777778,\"#fb9f3a\"],[0.8888888888888888,\"#fdca26\"],[1.0,\"#f0f921\"]]}],\"heatmapgl\":[{\"type\":\"heatmapgl\",\"colorbar\":{\"outlinewidth\":0,\"ticks\":\"\"},\"colorscale\":[[0.0,\"#0d0887\"],[0.1111111111111111,\"#46039f\"],[0.2222222222222222,\"#7201a8\"],[0.3333333333333333,\"#9c179e\"],[0.4444444444444444,\"#bd3786\"],[0.5555555555555556,\"#d8576b\"],[0.6666666666666666,\"#ed7953\"],[0.7777777777777778,\"#fb9f3a\"],[0.8888888888888888,\"#fdca26\"],[1.0,\"#f0f921\"]]}],\"contourcarpet\":[{\"type\":\"contourcarpet\",\"colorbar\":{\"outlinewidth\":0,\"ticks\":\"\"}}],\"contour\":[{\"type\":\"contour\",\"colorbar\":{\"outlinewidth\":0,\"ticks\":\"\"},\"colorscale\":[[0.0,\"#0d0887\"],[0.1111111111111111,\"#46039f\"],[0.2222222222222222,\"#7201a8\"],[0.3333333333333333,\"#9c179e\"],[0.4444444444444444,\"#bd3786\"],[0.5555555555555556,\"#d8576b\"],[0.6666666666666666,\"#ed7953\"],[0.7777777777777778,\"#fb9f3a\"],[0.8888888888888888,\"#fdca26\"],[1.0,\"#f0f921\"]]}],\"surface\":[{\"type\":\"surface\",\"colorbar\":{\"outlinewidth\":0,\"ticks\":\"\"},\"colorscale\":[[0.0,\"#0d0887\"],[0.1111111111111111,\"#46039f\"],[0.2222222222222222,\"#7201a8\"],[0.3333333333333333,\"#9c179e\"],[0.4444444444444444,\"#bd3786\"],[0.5555555555555556,\"#d8576b\"],[0.6666666666666666,\"#ed7953\"],[0.7777777777777778,\"#fb9f3a\"],[0.8888888888888888,\"#fdca26\"],[1.0,\"#f0f921\"]]}],\"mesh3d\":[{\"type\":\"mesh3d\",\"colorbar\":{\"outlinewidth\":0,\"ticks\":\"\"}}],\"scatter\":[{\"fillpattern\":{\"fillmode\":\"overlay\",\"size\":10,\"solidity\":0.2},\"type\":\"scatter\"}],\"parcoords\":[{\"type\":\"parcoords\",\"line\":{\"colorbar\":{\"outlinewidth\":0,\"ticks\":\"\"}}}],\"scatterpolargl\":[{\"type\":\"scatterpolargl\",\"marker\":{\"colorbar\":{\"outlinewidth\":0,\"ticks\":\"\"}}}],\"bar\":[{\"error_x\":{\"color\":\"#2a3f5f\"},\"error_y\":{\"color\":\"#2a3f5f\"},\"marker\":{\"line\":{\"color\":\"#E5ECF6\",\"width\":0.5},\"pattern\":{\"fillmode\":\"overlay\",\"size\":10,\"solidity\":0.2}},\"type\":\"bar\"}],\"scattergeo\":[{\"type\":\"scattergeo\",\"marker\":{\"colorbar\":{\"outlinewidth\":0,\"ticks\":\"\"}}}],\"scatterpolar\":[{\"type\":\"scatterpolar\",\"marker\":{\"colorbar\":{\"outlinewidth\":0,\"ticks\":\"\"}}}],\"histogram\":[{\"marker\":{\"pattern\":{\"fillmode\":\"overlay\",\"size\":10,\"solidity\":0.2}},\"type\":\"histogram\"}],\"scattergl\":[{\"type\":\"scattergl\",\"marker\":{\"colorbar\":{\"outlinewidth\":0,\"ticks\":\"\"}}}],\"scatter3d\":[{\"type\":\"scatter3d\",\"line\":{\"colorbar\":{\"outlinewidth\":0,\"ticks\":\"\"}},\"marker\":{\"colorbar\":{\"outlinewidth\":0,\"ticks\":\"\"}}}],\"scattermapbox\":[{\"type\":\"scattermapbox\",\"marker\":{\"colorbar\":{\"outlinewidth\":0,\"ticks\":\"\"}}}],\"scatterternary\":[{\"type\":\"scatterternary\",\"marker\":{\"colorbar\":{\"outlinewidth\":0,\"ticks\":\"\"}}}],\"scattercarpet\":[{\"type\":\"scattercarpet\",\"marker\":{\"colorbar\":{\"outlinewidth\":0,\"ticks\":\"\"}}}],\"carpet\":[{\"aaxis\":{\"endlinecolor\":\"#2a3f5f\",\"gridcolor\":\"white\",\"linecolor\":\"white\",\"minorgridcolor\":\"white\",\"startlinecolor\":\"#2a3f5f\"},\"baxis\":{\"endlinecolor\":\"#2a3f5f\",\"gridcolor\":\"white\",\"linecolor\":\"white\",\"minorgridcolor\":\"white\",\"startlinecolor\":\"#2a3f5f\"},\"type\":\"carpet\"}],\"table\":[{\"cells\":{\"fill\":{\"color\":\"#EBF0F8\"},\"line\":{\"color\":\"white\"}},\"header\":{\"fill\":{\"color\":\"#C8D4E3\"},\"line\":{\"color\":\"white\"}},\"type\":\"table\"}],\"barpolar\":[{\"marker\":{\"line\":{\"color\":\"#E5ECF6\",\"width\":0.5},\"pattern\":{\"fillmode\":\"overlay\",\"size\":10,\"solidity\":0.2}},\"type\":\"barpolar\"}],\"pie\":[{\"automargin\":true,\"type\":\"pie\"}]},\"layout\":{\"autotypenumbers\":\"strict\",\"colorway\":[\"#636efa\",\"#EF553B\",\"#00cc96\",\"#ab63fa\",\"#FFA15A\",\"#19d3f3\",\"#FF6692\",\"#B6E880\",\"#FF97FF\",\"#FECB52\"],\"font\":{\"color\":\"#2a3f5f\"},\"hovermode\":\"closest\",\"hoverlabel\":{\"align\":\"left\"},\"paper_bgcolor\":\"white\",\"plot_bgcolor\":\"#E5ECF6\",\"polar\":{\"bgcolor\":\"#E5ECF6\",\"angularaxis\":{\"gridcolor\":\"white\",\"linecolor\":\"white\",\"ticks\":\"\"},\"radialaxis\":{\"gridcolor\":\"white\",\"linecolor\":\"white\",\"ticks\":\"\"}},\"ternary\":{\"bgcolor\":\"#E5ECF6\",\"aaxis\":{\"gridcolor\":\"white\",\"linecolor\":\"white\",\"ticks\":\"\"},\"baxis\":{\"gridcolor\":\"white\",\"linecolor\":\"white\",\"ticks\":\"\"},\"caxis\":{\"gridcolor\":\"white\",\"linecolor\":\"white\",\"ticks\":\"\"}},\"coloraxis\":{\"colorbar\":{\"outlinewidth\":0,\"ticks\":\"\"}},\"colorscale\":{\"sequential\":[[0.0,\"#0d0887\"],[0.1111111111111111,\"#46039f\"],[0.2222222222222222,\"#7201a8\"],[0.3333333333333333,\"#9c179e\"],[0.4444444444444444,\"#bd3786\"],[0.5555555555555556,\"#d8576b\"],[0.6666666666666666,\"#ed7953\"],[0.7777777777777778,\"#fb9f3a\"],[0.8888888888888888,\"#fdca26\"],[1.0,\"#f0f921\"]],\"sequentialminus\":[[0.0,\"#0d0887\"],[0.1111111111111111,\"#46039f\"],[0.2222222222222222,\"#7201a8\"],[0.3333333333333333,\"#9c179e\"],[0.4444444444444444,\"#bd3786\"],[0.5555555555555556,\"#d8576b\"],[0.6666666666666666,\"#ed7953\"],[0.7777777777777778,\"#fb9f3a\"],[0.8888888888888888,\"#fdca26\"],[1.0,\"#f0f921\"]],\"diverging\":[[0,\"#8e0152\"],[0.1,\"#c51b7d\"],[0.2,\"#de77ae\"],[0.3,\"#f1b6da\"],[0.4,\"#fde0ef\"],[0.5,\"#f7f7f7\"],[0.6,\"#e6f5d0\"],[0.7,\"#b8e186\"],[0.8,\"#7fbc41\"],[0.9,\"#4d9221\"],[1,\"#276419\"]]},\"xaxis\":{\"gridcolor\":\"white\",\"linecolor\":\"white\",\"ticks\":\"\",\"title\":{\"standoff\":15},\"zerolinecolor\":\"white\",\"automargin\":true,\"zerolinewidth\":2},\"yaxis\":{\"gridcolor\":\"white\",\"linecolor\":\"white\",\"ticks\":\"\",\"title\":{\"standoff\":15},\"zerolinecolor\":\"white\",\"automargin\":true,\"zerolinewidth\":2},\"scene\":{\"xaxis\":{\"backgroundcolor\":\"#E5ECF6\",\"gridcolor\":\"white\",\"linecolor\":\"white\",\"showbackground\":true,\"ticks\":\"\",\"zerolinecolor\":\"white\",\"gridwidth\":2},\"yaxis\":{\"backgroundcolor\":\"#E5ECF6\",\"gridcolor\":\"white\",\"linecolor\":\"white\",\"showbackground\":true,\"ticks\":\"\",\"zerolinecolor\":\"white\",\"gridwidth\":2},\"zaxis\":{\"backgroundcolor\":\"#E5ECF6\",\"gridcolor\":\"white\",\"linecolor\":\"white\",\"showbackground\":true,\"ticks\":\"\",\"zerolinecolor\":\"white\",\"gridwidth\":2}},\"shapedefaults\":{\"line\":{\"color\":\"#2a3f5f\"}},\"annotationdefaults\":{\"arrowcolor\":\"#2a3f5f\",\"arrowhead\":0,\"arrowwidth\":1},\"geo\":{\"bgcolor\":\"white\",\"landcolor\":\"#E5ECF6\",\"subunitcolor\":\"white\",\"showland\":true,\"showlakes\":true,\"lakecolor\":\"white\"},\"title\":{\"x\":0.05},\"mapbox\":{\"style\":\"light\"}}},\"xaxis\":{\"anchor\":\"y\",\"domain\":[0.0,1.0],\"title\":{\"text\":\"Fecha\"}},\"yaxis\":{\"anchor\":\"x\",\"domain\":[0.0,1.0],\"title\":{\"text\":\"Energ\\u00eda Reactiva\"}},\"legend\":{\"title\":{\"text\":\"variable\"},\"tracegroupgap\":0},\"title\":{\"text\":\"Energ\\u00eda Reactiva vs. Pron\\u00f3stico de Energ\\u00eda Reactiva por Mes\"}},                        {\"responsive\": true}                    ).then(function(){\n",
       "                            \n",
       "var gd = document.getElementById('a4c5c292-6cd9-48ae-a42c-b72c4b95f1f4');\n",
       "var x = new MutationObserver(function (mutations, observer) {{\n",
       "        var display = window.getComputedStyle(gd).display;\n",
       "        if (!display || display === 'none') {{\n",
       "            console.log([gd, 'removed!']);\n",
       "            Plotly.purge(gd);\n",
       "            observer.disconnect();\n",
       "        }}\n",
       "}});\n",
       "\n",
       "// Listen for the removal of the full notebook cells\n",
       "var notebookContainer = gd.closest('#notebook-container');\n",
       "if (notebookContainer) {{\n",
       "    x.observe(notebookContainer, {childList: true});\n",
       "}}\n",
       "\n",
       "// Listen for the clearing of the current output cell\n",
       "var outputEl = gd.closest('.output');\n",
       "if (outputEl) {{\n",
       "    x.observe(outputEl, {childList: true});\n",
       "}}\n",
       "\n",
       "                        })                };                });            </script>        </div>"
      ]
     },
     "metadata": {},
     "output_type": "display_data"
    }
   ],
   "source": [
    "fig = px.line(df.replace(0, ''), x='Fecha', y=['Reactive_energy', 'Forecast_Energia_Reactiva'],\n",
    "              title='Energía Reactiva vs. Pronóstico de Energía Reactiva por Mes',\n",
    "              labels={'value': 'Energía Reactiva', 'Mes': 'Mes'})\n",
    "fig.show()"
   ]
  }
 ],
 "metadata": {
  "kernelspec": {
   "display_name": "Python 3 (ipykernel)",
   "language": "python",
   "name": "python3"
  },
  "language_info": {
   "codemirror_mode": {
    "name": "ipython",
    "version": 3
   },
   "file_extension": ".py",
   "mimetype": "text/x-python",
   "name": "python",
   "nbconvert_exporter": "python",
   "pygments_lexer": "ipython3",
   "version": "3.11.5"
  }
 },
 "nbformat": 4,
 "nbformat_minor": 5
}
